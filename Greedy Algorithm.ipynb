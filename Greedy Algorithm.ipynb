{
 "cells": [
  {
   "cell_type": "markdown",
   "id": "abfdc3d1",
   "metadata": {},
   "source": [
    "# Greedy (탐욕법)"
   ]
  },
  {
   "cell_type": "markdown",
   "id": "6c962a5a",
   "metadata": {},
   "source": [
    "# 1. 1이 될 때까지"
   ]
  },
  {
   "cell_type": "markdown",
   "id": "be8e906f",
   "metadata": {},
   "source": [
    "### 문제설명 \n",
    "- 어떠한 수 N이 1이 될 때까지 다음 두 과정 중 하나를 반복적으로 선택하여 수행하려고 합니다. 단, 두번째 연산은 N이 K로 나누어 떨어질 때만 선택할 수 있습니다.\n",
    "1. N에서 1을 뺍니다\n",
    "2. N을 K로 나눕니다.\n",
    "- 예를 들어 N이 17, K가 4라고 가정합시다. 이때 1번의 과정을 한 번 수행하면 N은 16이 됩니다. 이후에 2번의 과정을 두 번 수행하면 N은 1이 됩니다. 결과적으로 이 경우 전체 과정을 실행한 횟수는 3이 됩니다. 이는 N을 1로 만드는 최소 횟수입니다.\n",
    "- N과 K가 주어질 때 N이 1이 될 때까지 1번 혹은 2번의 **과정을 수행해야 하는 최소 횟수**를 구하는 프로그램을 작성하세요."
   ]
  },
  {
   "cell_type": "markdown",
   "id": "74c573ee",
   "metadata": {},
   "source": [
    "### 문제조건\n",
    "- 난이도 : 하\n",
    "- 풀이시간 : 15분\n",
    "- 시간제한 : 2초\n",
    "- 메모리제한 : 128MB \n",
    "<br>\n",
    "\n",
    "- 입력 조건  : 첫째 줄에는 N (1 <= N <= 100,000)과 K (2 <= K <= 100,000)가 공백을 기준으로 하여 각각 자연수로 주어집니다.\n",
    "- 출력 조건 : 첫째 줄의 N이 1이 될 때까지 1번 혹은 2번의 과정을 수행해야 하는 횟수의 최솟값을 출력합니다.\n",
    "<br>\n",
    "\n",
    "- 입력 예시 : 25 5\n",
    "- 출력 예시 : 2"
   ]
  },
  {
   "cell_type": "markdown",
   "id": "35efb231",
   "metadata": {},
   "source": [
    "### 문제 해결 아이디어\n",
    "- 정답 아이디어\n",
    "    - 주어진 N에 대하여 **최대한 많이 나누기**를 수행하면 됩니다.\n",
    "    - N의 값을 줄일 때, 2 이상의 수로 나누는 작업이 1을 빼는 작업보다 항상 빠르게 N을 줄일 수 있습니다.\n",
    "    - 또한 N은 항상 1에 도달하게 됩니다.\n",
    "    \n",
    "- 피드백\n",
    "    - 나눠지지 않으면 빼고 나눠떨어지면 나누는 반복문을 작성하는 것이 아니라, **1회 반복 시에 나눠지지 않으면 뺄 수 있는 만큼 뺀 뒤에 1번은 나눗셈을 시도**하는 것이 **시간 복잡도를 log_N**으로 줄일 수 있다는 사실을 깨달았다."
   ]
  },
  {
   "cell_type": "markdown",
   "id": "f8737ccd",
   "metadata": {},
   "source": [
    "### 프로그램 코드"
   ]
  },
  {
   "cell_type": "code",
   "execution_count": 7,
   "id": "699bf7b9",
   "metadata": {
    "ExecuteTime": {
     "end_time": "2022-02-19T03:33:55.526919Z",
     "start_time": "2022-02-19T03:33:53.471887Z"
    }
   },
   "outputs": [
    {
     "name": "stdout",
     "output_type": "stream",
     "text": [
      "25 3\n",
      "6\n"
     ]
    }
   ],
   "source": [
    "# 공백 기준으로 구분하여 입력 받기 및 type casting\n",
    "n, k = map(int, input().split())\n",
    "\n",
    "count = 0\n",
    "\n",
    "while True:\n",
    "    # N이 K로 나누어떨어질 때까지 1을 빼기\n",
    "    tmp = n // k * k\n",
    "    # 뺄셈횟수를 추가\n",
    "    count += n - tmp\n",
    "    # 뺼셈 완료한 값을 n에 배정\n",
    "    n = tmp\n",
    "\n",
    "    # 만약 N이 K보다 작다면, 나눗셈이 불가하므로 반복문 탈출\n",
    "    if n < k:\n",
    "        break\n",
    "\n",
    "    # 나눗셈이 가능하다면, 횟수를 추가하고 나눗셈 진행.\n",
    "    count += 1\n",
    "    n //= k\n",
    "\n",
    "# break로 탈출한 경우를 대비해, 남은 수만큼 뺄셈 진행하는 횟수를 추가\n",
    "count += n - 1\n",
    "\n",
    "print(count)"
   ]
  },
  {
   "cell_type": "markdown",
   "id": "e2344309",
   "metadata": {},
   "source": [
    "# 2. 곱하기 혹은 더하기"
   ]
  },
  {
   "cell_type": "markdown",
   "id": "a011dce2",
   "metadata": {},
   "source": [
    "### 문제설명\n",
    "- 각 자리가 숫자(0부터 9)로만 이루어진 문자열 S가 주어졌을 때, 왼쪽부터 오른쪽으로 하나씩 모든 숫자를 화인하며 숫자 사이에 'x' 혹은 '+' 연산자를 넣어 결과적으로 **만들어질 수 있는 가장 큰 수**를 구하는 프로그램을 작성하세요. 단, +보다 x를 먼저 계산하는 일반적인 방식과는 달리, **모든 연산은 왼쪽에서부터 순서대로** 이루어진다고 가정합니다.\n",
    "<br>\n",
    "- 예를 들어 02984라는 문자열로 만들 수 있는 가장 큰 수는 ((((0 + 2) x 9) x 8) x 4) = 576 입니다. 또한 만들어질 수 있는 가장 큰 수는 항상 20억 이하의 정수가 되도록 입력이 주어집니다.(c, c++ 고려)"
   ]
  },
  {
   "cell_type": "markdown",
   "id": "984dce34",
   "metadata": {},
   "source": [
    "### 문제 조건\n",
    "- 난이도 : 하\n",
    "- 풀이시간 : 30분\n",
    "- 시간제한 : 1초\n",
    "- 메모리 제한 : 128MB\n",
    "- 기출 : Facebook 인터뷰\n",
    "<br>\n",
    "\n",
    "- 입력조건 : 첫째 줄에 여러개의 숫자로 구성된 하나의 문자열 S가 주어집니다. (1 <= S의 길이 <= 20)\n",
    "- 출력조건 : 첫째 줄에 만들어질 수 있는 가장 큰 수를 출력합니다.\n",
    "<br>\n",
    "- 입력예시 : 02984\n",
    "- 출력예시 : 576"
   ]
  },
  {
   "cell_type": "markdown",
   "id": "2df5e366",
   "metadata": {},
   "source": [
    "### 문제 해결 아이디어\n",
    "- 내가 생각한 아이디어\n",
    "    - 최대한 많은 곱셈이 진행되어야한다. (0과 1 제외)\n",
    "    - total이 0일 때는 우선적으로 수가 더해져야한다.\n",
    "    - total이 0이 아닐때\n",
    "        - 해당 수가 0일 때: 덧셈 진행 (연산 진행안함)\n",
    "        - 해당 수가 1일 때: 덧셈 진행\n",
    "        - 해당 수가 2 이상일 때 : 곱셈 진행\n",
    "        \n",
    "- 정답 아이디어\n",
    "    - 대부분의 경우 + 보다는 x가 값을 더 크게 만듭니다.\n",
    "    - 다만 두 수 중에서 하나라도 0 혹은 1인 경우, 곱하기보다는 더하기를 수행하는 것이 효율적 입니다.\n",
    "    - 따라서 **두 수에 대하여 연산을 수행할 때, 두 수 중에서 하나라도 1이하인 경우에는 더하며, 두 수가 모두 2 이상인 경우에는 곱하면 정답**입니다.\n",
    "    \n",
    "- 피드백\n",
    "    - 지금 연산해야하는 수만 0이나 1이 아니면 곱셈을 하면 된다고 생각했는데, **기존의 수도 1이면 곱셈보다 덧셈이 더 큰 수를 만들어낸다는 사실**을 생각하지 못했다."
   ]
  },
  {
   "cell_type": "markdown",
   "id": "bf790728",
   "metadata": {},
   "source": [
    "### 프로그램 코드"
   ]
  },
  {
   "cell_type": "code",
   "execution_count": 15,
   "id": "384477c4",
   "metadata": {
    "ExecuteTime": {
     "end_time": "2022-02-19T04:06:11.158099Z",
     "start_time": "2022-02-19T04:06:08.712725Z"
    }
   },
   "outputs": [
    {
     "name": "stdout",
     "output_type": "stream",
     "text": [
      "0123\n",
      "6\n",
      "0123\n",
      "9\n",
      "0123\n",
      "9\n"
     ]
    }
   ],
   "source": [
    "# 내가 작성한 코드\n",
    "s = input()\n",
    "\n",
    "total = 0\n",
    "\n",
    "for num in s:\n",
    "    num = int(num)\n",
    "    if (total == 0):\n",
    "        total += num\n",
    "    else:\n",
    "        if (num == 0 or num == 1):\n",
    "            total += num\n",
    "        else:\n",
    "            total *= num\n",
    "\n",
    "print(total)\n",
    "\n",
    "# 수정한 코드\n",
    "s = input()\n",
    "\n",
    "total = 0\n",
    "\n",
    "for num in s:\n",
    "    num = int(num)\n",
    "    if (total == 0 or total == 1 or num == 0 or num == 1):\n",
    "        total += num\n",
    "    else:\n",
    "        total *= num\n",
    "\n",
    "print(total)\n",
    "\n",
    "# 답안 코드\n",
    "s = input()\n",
    "\n",
    "total = int(s[0])\n",
    "\n",
    "for i in range(1, len(s)):\n",
    "    num = int(s[i])\n",
    "    if num <= 1 or total <= 1:\n",
    "        total += num\n",
    "    else:\n",
    "        total *= num\n",
    "\n",
    "print(total)"
   ]
  },
  {
   "cell_type": "markdown",
   "id": "4efc5db2",
   "metadata": {},
   "source": [
    "# 3. 모험가 길드"
   ]
  },
  {
   "cell_type": "markdown",
   "id": "53fc4b35",
   "metadata": {},
   "source": [
    "### 문제 설명\n",
    "- 한 마을에 모험가가 N명 있습니다. 모험가 길드에서는 N명의 모험가를 대상으로 '공포도'를 측정했는데, '공포도'가 높은 모험가는 쉽게 공포를 느껴 위험 상황에서 제대로 대처할 능력이 떨어집니다.\n",
    "- 모험가 길드장인 장훈이는 모험가 그룹을 안전하게 구성하고자 **공포도가 X인 모험가는 반드시 X명 이상으로 구성한 모험가 그룹에 참여**해야 여행을 떠날 수 있도록 규정했습니다.\n",
    "- 장훈이는 최대 몇 개의 모험가 그룹을 만들 수 있는지 궁금합니다. N명의 모험가에 대한 정보가 주어졌을 때, **여행을 떠날 수 있는 그룹 수의 최댓값**을 구하는프로그램을 작성하세요.\n",
    "<br>\n",
    "- 예를 들어 N = 5 이고, 각 모험가의 공포도가 다음과 같다고 가정합니다 ( 2 3 1 2 2 )\n",
    "- 이 경우 그룹 1에 공포도가 1, 2, 3인 모험가를 한명씩 넣고, 그룹 2에 공포도가 2인 남은 두 명을 넣게되면 총 2개의 그룹을 만들 수 있습니다.\n",
    "- 또한 몇 명의 모험가는 마을에 그대로 남아 있어도 되기 때문에, 모든 모험가를 특정한 그룹에 넣을 필요는 없습니다.\n"
   ]
  },
  {
   "cell_type": "markdown",
   "id": "4967a469",
   "metadata": {},
   "source": [
    "### 문제조건\n",
    "- 난이도 : 하\n",
    "- 풀이시간 : 30분\n",
    "- 시간 제한 : 1초\n",
    "- 메모리 제한 : 128MB\n",
    "- 기출 : 핵심 유형\n",
    "<br>\n",
    "- 입력 조건 : 첫째 줄에 모험가의 수 N이 주어집니다. (1 <= 100,000), 둘째 줄에 각 모험가의 공포도의 값을 N 이하의 자연수로 주어지며, 각 자연수는 공백으로 구분합니다.\n",
    "- 출력 조건 : 여행을 떠날 수 있는 그룹 수의 최댓값을 출력합니다.\n",
    "<br>\n",
    "- 입력 예시 : 5 / 2 3 1 2 2\n",
    "- 출력 예시 : 2"
   ]
  },
  {
   "cell_type": "markdown",
   "id": "aaa6e003",
   "metadata": {},
   "source": [
    "### 문제 해결 아이디어\n",
    "- 내가 생각한 아이디어\n",
    "    - 공포도가 낮은 모험가들은 적은 수로도 그룹을 만들 수 있기 때문에, 공포도가 낮은 모험가끼리 먼저 묶어서 그룹을 형성시킨다.\n",
    "    - 같은 공포도를 가진 모험가들끼리 그룹을 형성하고 남은 모험가(나머지)는 보다 높은 공포도를 지닌 모험가들과 그룹을 지을 수 있기 때문에 이후 count에 이월해준다.\n",
    "    \n",
    "\n",
    "- 정답 아이디어\n",
    "    - 오름차순 정렬 후에 앞에서부터 공포도를 하나씩 확인하며 '현재 그룹에 포함된 모험가의 수'가 '현재 확인하고 있는 공포도'보다 크거나 같다면 이를 그룹으로 설정하면 됩니다.\n",
    "    - 이러한 방법을 이용하면 공포도가 오름차순 정렬되어 있기 때문에, 항상 최소한의 모험가의 수만 포함하여 그룹을 결성하게 됩니다.\n",
    "    \n",
    "\n",
    "- 피드백\n",
    "    - 시간복잡도를 최대한 낮추는 방향으로 생각하는 것이 좋을 것 같다. 내가 아이디어대로 코드를 짜면서도 최솟값과 최댓값의 차이가 크면서 sparse한 리스트가 들어오면 매우 비효율적일 것이라고 생각했었다."
   ]
  },
  {
   "cell_type": "markdown",
   "id": "bc9c260f",
   "metadata": {},
   "source": [
    "### 프로그램 코드"
   ]
  },
  {
   "cell_type": "code",
   "execution_count": 38,
   "id": "932efe5c",
   "metadata": {
    "ExecuteTime": {
     "end_time": "2022-02-19T06:04:47.621595Z",
     "start_time": "2022-02-19T06:04:37.418004Z"
    }
   },
   "outputs": [
    {
     "name": "stdout",
     "output_type": "stream",
     "text": [
      "5\n",
      "2 3 1 2 2\n",
      "2\n",
      "5\n",
      "2 3 1 2 2\n",
      "2\n"
     ]
    }
   ],
   "source": [
    "# 내가 작성한 코드\n",
    "N = int(input())\n",
    "ls = list(map(int, input().split()))\n",
    "\n",
    "count = 0\n",
    "mod = 0\n",
    "for i in range(min(ls), max(ls)+1):\n",
    "    div, mod = divmod(ls.count(i)+mod, i)\n",
    "    count += div\n",
    "\n",
    "print(count)\n",
    "\n",
    "# 수정한 코드\n",
    "N = int(input())\n",
    "ls = list(map(int, input().split()))\n",
    "ls.sort()\n",
    "\n",
    "total = 0\n",
    "count = 0\n",
    "\n",
    "for num in ls:\n",
    "    count += 1\n",
    "    if count >= num:\n",
    "        total += 1\n",
    "        count = 0\n",
    "print(count)"
   ]
  },
  {
   "cell_type": "markdown",
   "id": "0c3f160d",
   "metadata": {},
   "source": [
    "# 4. 프로그래머스 - 체육복"
   ]
  },
  {
   "cell_type": "markdown",
   "id": "3cc7b3e1",
   "metadata": {},
   "source": [
    "### 문제 해결 아이디어\n",
    "- 내가 생각한 아이디어\n",
    "    - 먼저 lost와 reserve를 sort한 다음에\n",
    "    - lost와 reserve를 돌면서 reserve가 lost-1 보다 작으면 못빌려주는 reserve이기에 reserve를 넘어가고, lost-1 이상 lost+1 이하이면 빌려주기에 count++하고 둘다 넘어가고, lost+1 초과일 경우에는 빌릴사람이 없는 lost이기에 lost를 넘어가도록 한다.\n",
    "\n",
    "- 피드백 \n",
    "    - **도난당한 사람은 여분이 있어도 빌려줄 수 없기 때문**에, 1과 2가 도난당하고 2와 3이 여분이 있는 경우에는 2가 1에게 빌려줄 수 없기에 1은 체육복을 빌릴 수가 없다. 이 경우를 처리해야한다."
   ]
  },
  {
   "cell_type": "code",
   "execution_count": 49,
   "id": "71d07870",
   "metadata": {
    "ExecuteTime": {
     "end_time": "2022-02-19T06:56:58.288616Z",
     "start_time": "2022-02-19T06:56:58.271662Z"
    }
   },
   "outputs": [],
   "source": [
    "# 내가 작성한 코드\n",
    "def solution(n, lost, reserve):\n",
    "    \n",
    "    lost.sort()\n",
    "    reserve.sort()\n",
    "    \n",
    "    lost_idx = 0\n",
    "    reserve_idx = 0\n",
    "    count = 0\n",
    "    \n",
    "    while reserve_idx < len(reserve) and lost_idx < len(lost):\n",
    "        lostNum = lost[lost_idx]\n",
    "        resNum = reserve[reserve_idx]\n",
    "        if resNum <  lostNum-1:\n",
    "            reserve_idx += 1\n",
    "        elif resNum >= lostNum -1 and resNum <= lostNum+1:\n",
    "            lost_idx += 1\n",
    "            reserve_idx +=1\n",
    "            count += 1\n",
    "        else :\n",
    "            lost_idx += 1\n",
    "    \n",
    "    return (n - len(lost) + count)\n",
    "\n",
    "# 수정한 코드\n",
    "def solution(n, lost, reserve):\n",
    "    \n",
    "    lost, reserve = list(set(lost) - set(reserve)), list(set(reserve) - set(lost))\n",
    "    \n",
    "    lost.sort()\n",
    "    reserve.sort()\n",
    "    \n",
    "    lost_idx = 0\n",
    "    reserve_idx = 0\n",
    "    count = 0\n",
    "    \n",
    "    while reserve_idx < len(reserve) and lost_idx < len(lost):\n",
    "        lostNum = lost[lost_idx]\n",
    "        resNum = reserve[reserve_idx]\n",
    "        if resNum <  lostNum-1:\n",
    "            reserve_idx += 1\n",
    "        elif resNum >= lostNum -1 and resNum <= lostNum+1:\n",
    "            lost_idx += 1\n",
    "            reserve_idx +=1\n",
    "            count += 1\n",
    "        else :\n",
    "            lost_idx += 1\n",
    "    \n",
    "    return (n - len(lost) + count)\n",
    "\n",
    "\n",
    "# 다른 답안 코드\n",
    "def solution(n, lost, reserve):\n",
    "    _reserve = [r for r in reserve if r not in lost]\n",
    "    _lost = [l for l in lost if l not in reserve]\n",
    "    _reserve.sort()\n",
    "    _lost.sort()\n",
    "    \n",
    "    for r in _reserve:\n",
    "        f = r - 1\n",
    "        b = r + 1\n",
    "        if f in _lost:\n",
    "            _lost.remove(f)\n",
    "        elif b in _lost:\n",
    "            _lost.remove(b)\n",
    "    return n - len(_lost)\n",
    "\n"
   ]
  },
  {
   "cell_type": "code",
   "execution_count": 50,
   "id": "b0956b32",
   "metadata": {
    "ExecuteTime": {
     "end_time": "2022-02-19T06:56:58.853894Z",
     "start_time": "2022-02-19T06:56:58.841927Z"
    }
   },
   "outputs": [
    {
     "name": "stdout",
     "output_type": "stream",
     "text": [
      "0 0\n",
      "1 1\n",
      "5\n",
      "0 0\n",
      "4\n"
     ]
    }
   ],
   "source": [
    "solution1(5, [2,4], [1,3,5])\n",
    "solution1(5, [2,4], [3])"
   ]
  },
  {
   "cell_type": "markdown",
   "id": "f61fa603",
   "metadata": {},
   "source": [
    "# 5. 프로그래머스 - 조이스틱\n",
    "- 소요시간 : 약 40분\n",
    "- 성공여부 : 실패"
   ]
  },
  {
   "cell_type": "markdown",
   "id": "759d6e6a",
   "metadata": {},
   "source": [
    "### 문제 해결 아이디어\n",
    "- 내가 생각한 아이디어 \n",
    "    - 연속되는 A의 최대 길이가 핵심포인트.\n",
    "    - 연속되는 A가 있는 곳에는 굳이 갈 필요가 없으므로, 그 부분을 제외하고 수정하는 경우를 계산한다.\n",
    "    - 다만, 연속되는 A가 여러군데인 경우 가장 긴 부분을안가는게 더 효율적일 것이다. ex) JAAJAAAAJ 인 경우 4번째 J를 처리하기 위해서 2, 3번째의 연속된 AA를 건너는게 5,6,7,8번쨰의 연속된 AAAA를 건너는 것 보다 낫다.\n",
    "    "
   ]
  },
  {
   "cell_type": "code",
   "execution_count": 30,
   "id": "38f82f89",
   "metadata": {},
   "outputs": [],
   "source": [
    "# 내가 작성한 코드\n",
    "def solution(name):\n",
    "\n",
    "    alphabet = [ord(x) -65 if ord(x)-65 <=13 else (91 - ord(x)) for x in name]\n",
    "    \n",
    "    default = len(name)-1 + sum(alphabet)\n",
    "    \n",
    "    if \"A\" not in name:\n",
    "        return default\n",
    "    \n",
    "    \n",
    "    middle = len(name)\n",
    "    name = name * 2\n",
    "    \n",
    "    cur = 0 \n",
    "    maxlen = 0\n",
    "    for char in name:\n",
    "        if char == \"A\":\n",
    "            cur += 1\n",
    "            maxlen = max(maxlen, cur)\n",
    "        else :\n",
    "            cur = 0\n",
    "    left = name.find(\"A\" *maxlen)\n",
    "    right = name.rfind(\"A\" * maxlen)\n",
    "    \n",
    "    if left == right:\n",
    "        print(min(middle-left, left+maxlen-middle-1)+default-maxlen)\n",
    "        return (min(middle-left, left+maxlen-middle-1)+default-maxlen)\n",
    "    return(min(middle-right-maxlen, left-1) + default-maxlen)"
   ]
  },
  {
   "cell_type": "code",
   "execution_count": 111,
   "id": "33a8bf73",
   "metadata": {
    "ExecuteTime": {
     "end_time": "2022-02-19T07:44:07.016676Z",
     "start_time": "2022-02-19T07:44:06.996729Z"
    }
   },
   "outputs": [],
   "source": [
    "# 내가 작성한 코드\n",
    "def solution(name):\n",
    "    cur = 0 \n",
    "    maxlen = 0\n",
    "    \n",
    "    for char in name:\n",
    "        if char == \"A\":\n",
    "            cur += 1\n",
    "            maxlen = max(maxlen, cur)\n",
    "        else :\n",
    "            cur = 0\n",
    "    start = name.find(\"A\" *maxlen)\n",
    "    end = name.rfind(\"A\" * maxlen) + maxlen\n",
    "    \n",
    "    alphabet = [ord(x) -65 if ord(x)-65 <=13 else (91 - ord(x)) for x in name]\n",
    "    \n",
    "    print(len(name)-end, start-1)\n",
    "    print(len(name) - maxlen -1)\n",
    "    print(sum(alphabet))\n",
    "    \n",
    "    if maxlen :\n",
    "        return (min(len(name)-end, start-1) + len(name)-maxlen-1 + sum(alphabet))\n",
    "    else :\n",
    "        return len(name)-1 + sum(alphabet)\n",
    "    "
   ]
  },
  {
   "cell_type": "markdown",
   "id": "45a031d9",
   "metadata": {},
   "source": [
    "# 6. 프로그래머스 - 큰 수 만들기"
   ]
  },
  {
   "cell_type": "markdown",
   "id": "467f95cd",
   "metadata": {},
   "source": [
    "### 문제 해결 아이디어\n",
    "- 내가 생각한 아이디어:\n",
    "    - 제거할 숫자를 고르는 것이 아니라 뽑을 숫자를 고르는 방향으로 선택\n",
    "    - 앞에서부터 뽑아야할 총 글자수만큼의 후보 중에서 max를 선택하고, 그 뒤부터 다시 후보로 선택하는 과정을 반복하는.\n",
    "\n",
    "- 답안 아이디어 \n",
    "    - stack을 활용한다. (list)\n",
    "    - 숫자를 하나씩 확인하면서, 비교대상(stack의 마지막 숫자)이 없다면 append, 비교대상이 자신보다 작으면 제거하고(pop) 아니면 그냥 append, 작더라도 더 제거할 여력이 없다면 (k=0) 제거하지 않는다.\n",
    "    - 그렇게 끝났는데도 제거할 게 남아있다면 (k>0), stack에서 뒤에서부터 남은 수 (k)만큼 제거한다.\n",
    "    \n",
    "- 피드백\n",
    "    - stack을 활용할 생각을 못했다.\n",
    "    - 머리가 빙빙 돈다 ㅜㅜㅜ"
   ]
  },
  {
   "cell_type": "code",
   "execution_count": 164,
   "id": "72eae218",
   "metadata": {
    "ExecuteTime": {
     "end_time": "2022-02-19T08:08:47.972104Z",
     "start_time": "2022-02-19T08:08:47.960137Z"
    }
   },
   "outputs": [],
   "source": [
    "# 내가 작성한 코드\n",
    "def solution(number, k):\n",
    "    answer = \"\"\n",
    "    for i in range(length,0,-1):\n",
    "        ls = list(number[:len(number)-i+1])\n",
    "        maxNum = max(ls)\n",
    "        answer = answer + maxNum\n",
    "        number = number[number.index(maxNum)+1:]\n",
    "    return answer\n",
    "\n",
    "# 답안 코드\n",
    "def solution(number, k):\n",
    "    stack = []\n",
    "    for num in number:\n",
    "        while stack and stack[-1] < num and k > 0:\n",
    "            k -= 1\n",
    "            stack.pop()\n",
    "        stack.append(num)\n",
    "    if k != 0:\n",
    "        stack = stack[:-k]\n",
    "    return ''.join(stack)"
   ]
  },
  {
   "cell_type": "code",
   "execution_count": 171,
   "id": "5005a7b3",
   "metadata": {
    "ExecuteTime": {
     "end_time": "2022-02-19T08:28:54.456268Z",
     "start_time": "2022-02-19T08:28:54.440187Z"
    }
   },
   "outputs": [
    {
     "name": "stdout",
     "output_type": "stream",
     "text": [
      "9\n"
     ]
    }
   ],
   "source": [
    "solution(\"1924\", 2)"
   ]
  },
  {
   "cell_type": "markdown",
   "id": "2933246a",
   "metadata": {},
   "source": [
    "# 7. 프로그래머스 - 구명보트"
   ]
  },
  {
   "cell_type": "markdown",
   "id": "611b5017",
   "metadata": {},
   "source": [
    "### 문재 해결 아이디어\n",
    "- 내가 생각한 아이디어\n",
    "1. 오름차순 정렬을 한다.\n",
    "2. 사용된 구명보트 개수 = 0\n",
    "3. 사람이 남아있는 동안(while) - 맨 뒤의 숫자(가장 큰 숫자)가 정원제한의 절반 이하인가?\n",
    "    1. 절반 이하인 경우 : (남은인원/2)의 올림이 필요한 구명보트 갯수이다. (break)\n",
    "    2. 절반 초과인 경우 : 본인을 제외한 맨 앞의 숫자(가장 작은 숫자)와의 합계가 제한 이하인가?\n",
    "        1. 합계가 제한 이하인 경우 : 둘 다 리스트에서 제거한다. \n",
    "        2. 합계가 제한 초과일 경우 : 맨 뒤의 숫자만 리스트에서 제거한다.\n",
    "        \n",
    "        - 결과와 무관하게 구명보트는 1개 사용된다.\n",
    "                 \n",
    "\n",
    "- 피드백\n",
    "    - pop(0)은 단순히 제거하는 것이 아니라 지우고 한칸씩 앞으로 당기기 때문에 시간 복잡도가 O(n)이 된다. 때문에, collections의 deque를 사용하여 popleft를 하면 해결된다. 혹은 index의 값을 변경하면서 조회하고 answer 값을 변경해주면 될 듯 하다.\n",
    "    \n",
    "    <br>\n",
    "- index의 값을 변경하면서 조회하는 아이디어\n",
    "1. 오름차순 정렬을 한다.\n",
    "2. 사용된 구명보트 개수 =0\n",
    "3. 왼쪽index가 오른쪽index보다 같거나 작은 동안 (while) - 맨 왼쪽의 숫자와 맨 오른쪽의 숫자의 합이 제한 이하인가?\n",
    "    1. 제한 이하인 경우 : 맨왼쪽 사람도 탔기 때문에 left += 1\n",
    "    - 이하 초과 상관없이 맨 오른쪽 사람은 탔기 때문에 right -= 1 그리고 구명보트를 하나 사용했기 때문에 구명보트 개수 += 1\n",
    "    - 왼쪽index와 오른쪽index가 같으면 같은사람이 한 보트에 2명 타게 되는 셈이지만, 사용된 구명보트는 결국 1개 증가로 동일하기 때문에 에러가 나지 않는다.\n",
    "      "
   ]
  },
  {
   "cell_type": "code",
   "execution_count": 175,
   "id": "cdab25cf",
   "metadata": {
    "ExecuteTime": {
     "end_time": "2022-02-19T09:22:04.562725Z",
     "start_time": "2022-02-19T09:22:04.548661Z"
    }
   },
   "outputs": [],
   "source": [
    "# deque를 활용한 방법\n",
    "import numpy as np\n",
    "from collections import deque\n",
    "def solution(people, limit):\n",
    "    people = deque(sorted(people))\n",
    "    answer = 0\n",
    "    \n",
    "    while people:\n",
    "        \n",
    "        if people[-1] <= limit/2:\n",
    "            answer += np.ceil(len(people) / 2)\n",
    "            break\n",
    "            \n",
    "        person = people.pop()\n",
    "        if people and person  + people[0] <= limit:\n",
    "            people.popleft()\n",
    "        answer += 1\n",
    "    \n",
    "    return answer\n",
    "\n",
    "# index를 활용한 방법\n",
    "def solution(people, limit):\n",
    "    people.sort()\n",
    "    answer = 0\n",
    "    \n",
    "    left = 0\n",
    "    right = len(people) -1\n",
    "    \n",
    "    while left <= right:\n",
    "        if people[left] + people[right] <= limit:\n",
    "            left += 1\n",
    "        right -= 1\n",
    "        answer += 1\n",
    "    return answer"
   ]
  },
  {
   "cell_type": "markdown",
   "id": "123eecce",
   "metadata": {},
   "source": [
    "# 8. 프로그래머스 - 단속카메라"
   ]
  },
  {
   "cell_type": "markdown",
   "id": "417de53d",
   "metadata": {},
   "source": [
    "### 문제 해결 아이디어\n",
    "- 내가 생각한 아이디어\n",
    "    1. 나간지점을 기준으로 오름차순 정렬\n",
    "    2. 가장 앞서있는 진입지점을 지닌 이동 경로의 나간 지점(key)보다, 진입 지점이 앞서있는 경로들은 하나의 카메라로 다 단속된 것으로 하고, 만약 진입지점이 key보다 뒤에 있는 경로가 나타날 경우 필요한 카메라 개수 += 1 및 key를 해당 경로의 나간 지점으로 변경"
   ]
  },
  {
   "cell_type": "code",
   "execution_count": 5,
   "id": "7bf898f2",
   "metadata": {},
   "outputs": [],
   "source": [
    "def solution(routes):\n",
    "    routes.sort(key = lambda x: x[0])\n",
    "    \n",
    "    answer = 1\n",
    "    key = routes[0][1]\n",
    "    for route in routes:\n",
    "        if route[0] > key:\n",
    "            answer += 1\n",
    "            key = route[1]\n",
    "    return answer"
   ]
  },
  {
   "cell_type": "markdown",
   "id": "33f01554",
   "metadata": {},
   "source": [
    "# 9. BOJ - 동전 0"
   ]
  },
  {
   "cell_type": "markdown",
   "id": "c4d53a9e",
   "metadata": {},
   "source": [
    "### 문제 해결 아이디어\n",
    "- 내가 생각한 아이디어\n",
    "    1. 동전의 단위가 배수라고 했기에, 가장 큰 단위부터 나눗셈을 통해 지불할 수 있는지 확인한다."
   ]
  },
  {
   "cell_type": "code",
   "execution_count": 35,
   "id": "d25706e3",
   "metadata": {
    "scrolled": true
   },
   "outputs": [
    {
     "name": "stdout",
     "output_type": "stream",
     "text": [
      "10 4790\n",
      "1\n",
      "5\n",
      "10\n",
      "50\n",
      "100\n",
      "500\n",
      "1000\n",
      "5000\n",
      "10000\n",
      "50000\n",
      "12\n"
     ]
    }
   ],
   "source": [
    "N, K = map(int, input().split())\n",
    "ls = []\n",
    "for _ in range(N):\n",
    "    ls.append(int(input()))\n",
    "cnt = 0\n",
    "while K:\n",
    "    div, K = divmod(K, ls.pop())\n",
    "    cnt += div\n",
    "print(cnt)"
   ]
  },
  {
   "cell_type": "markdown",
   "id": "f1acf31e",
   "metadata": {},
   "source": [
    "# 10. BOJ - 회의실 배정"
   ]
  },
  {
   "cell_type": "markdown",
   "id": "4696979f",
   "metadata": {},
   "source": [
    "### 문제 해결 아이디어\n",
    "- 내가 생각한 아이디어\n",
    "    - 단속카메라와 같은 종류의 문제라고 생각됨\n",
    "    1. 회의가 끝나는 시간을 기준으로 오름차순 정렬\n",
    "    2. 가장 빨리 끝나는 회의의 끝나는 시간보다 일찍 시작하는 회의들은 사실상 불가능 하므로 하나의 가능한 회의로 처리한다.\n",
    "    3. 위에서 처리된 회의를 제외한 회의 중에서 2번 과정을 반복한다.\n"
   ]
  },
  {
   "cell_type": "code",
   "execution_count": 38,
   "id": "f76550ec",
   "metadata": {},
   "outputs": [
    {
     "name": "stdout",
     "output_type": "stream",
     "text": [
      "11\n",
      "1 4\n",
      "3 5\n",
      "0 6\n",
      "5 7\n",
      "3 8\n",
      "5 9\n",
      "6 10\n",
      "8 11\n",
      "8 12\n",
      "2 13\n",
      "12 14\n",
      "4\n"
     ]
    }
   ],
   "source": [
    "N = int(input())\n",
    "ls = []\n",
    "for _ in range(N):\n",
    "    ls.append(list(map(int, input().split())))\n",
    "\n",
    "ls.sort(key=lambda x : (x[1], x[0]))\n",
    "\n",
    "cnt = 1\n",
    "key = ls[0][1]\n",
    "\n",
    "for meet in ls[1:]:\n",
    "    if key <= meet[0]:\n",
    "        cnt += 1\n",
    "        key = meet[1]\n",
    "print(cnt)"
   ]
  },
  {
   "cell_type": "markdown",
   "id": "dbf3e647",
   "metadata": {},
   "source": [
    "# 11. BOJ - ATM"
   ]
  },
  {
   "cell_type": "markdown",
   "id": "b14d7317",
   "metadata": {},
   "source": [
    "### 문제 해결 아이디어\n",
    "- 내가 생각한 아이디어\n",
    "    - 인출 시간을 기준으로 오름차순 정렬 하는 것이 가장 합이 작을 것이다."
   ]
  },
  {
   "cell_type": "code",
   "execution_count": 42,
   "id": "56a2733b",
   "metadata": {},
   "outputs": [
    {
     "name": "stdout",
     "output_type": "stream",
     "text": [
      "5\n",
      "3 1 4 3 2\n",
      "32\n"
     ]
    }
   ],
   "source": [
    "N = int(input())\n",
    "ls = list(map(int, input().split()))\n",
    "ls.sort()\n",
    "\n",
    "length = len(ls)\n",
    "answer = 0\n",
    "for i in range(length):\n",
    "    answer += ls[i] * (length-i)\n",
    "print(answer)"
   ]
  },
  {
   "cell_type": "markdown",
   "id": "d08c4d1f",
   "metadata": {},
   "source": [
    "# 12. BOJ - 잃어버린 괄호"
   ]
  },
  {
   "cell_type": "code",
   "execution_count": 47,
   "id": "778bcd82",
   "metadata": {},
   "outputs": [
    {
     "name": "stdout",
     "output_type": "stream",
     "text": [
      "00009-00009\n",
      "0\n"
     ]
    }
   ],
   "source": [
    "minus_split = input().split(\"-\")\n",
    "total = 0\n",
    "\n",
    "for idx, val in enumerate(minus_split):\n",
    "    val = sum(list(map(int, val.split(\"+\"))))\n",
    "    if (idx == 0) :\n",
    "        total += val\n",
    "    else : \n",
    "        total -= val\n",
    "        \n",
    "print(total)"
   ]
  },
  {
   "cell_type": "markdown",
   "id": "7bb76355",
   "metadata": {},
   "source": [
    "# 13. BOJ - 주유소"
   ]
  },
  {
   "cell_type": "code",
   "execution_count": 51,
   "id": "8eabb279",
   "metadata": {},
   "outputs": [
    {
     "name": "stdout",
     "output_type": "stream",
     "text": [
      "4\n",
      "3 3 5\n",
      "1 1 1 1\n",
      "11\n"
     ]
    }
   ],
   "source": [
    "N = int(input())\n",
    "dist = list(map(int, input().split()))\n",
    "price = list(map(int, input().split()))\n",
    "price.pop()\n",
    "\n",
    "total = 0\n",
    "key = price[0]\n",
    "for i in range(len(dist)):\n",
    "    key = min(key, price[i])\n",
    "    total += key * dist[i]\n",
    "    \n",
    "print(total)"
   ]
  },
  {
   "cell_type": "markdown",
   "id": "11e4f73c",
   "metadata": {},
   "source": [
    "# 14. BOJ - 보물"
   ]
  },
  {
   "cell_type": "markdown",
   "id": "dabac9b1",
   "metadata": {},
   "source": [
    "### 문제 해결 아이디어\n",
    "- 내가 생각한 아이디어\n",
    "    - 각 원소를 곱한 것의 합이 최소가 되어야하기 때문에, 서로 반대로 정렬해서 곱하면 된다고 생각했다."
   ]
  },
  {
   "cell_type": "code",
   "execution_count": 4,
   "id": "80642157",
   "metadata": {},
   "outputs": [
    {
     "name": "stdout",
     "output_type": "stream",
     "text": [
      "9\n",
      "5 15 100 31 39 0 0 3 26\n",
      "11 12 13 2 3 4 5 9 1\n",
      "528\n"
     ]
    }
   ],
   "source": [
    "N = int(input())\n",
    "ls1 = list(map(int, input().split()))\n",
    "ls2 = list(map(int, input().split()))\n",
    "ls1.sort()\n",
    "ls2.sort(reverse=True)\n",
    "total = 0\n",
    "for i in range(N):\n",
    "    total += ls1[i]*ls2[i]\n",
    "print(total)"
   ]
  },
  {
   "cell_type": "markdown",
   "id": "49c84649",
   "metadata": {},
   "source": [
    "# 15. BOJ - 거스름돈"
   ]
  },
  {
   "cell_type": "markdown",
   "id": "73d1a59b",
   "metadata": {},
   "source": [
    "### 문제 해결 아이디어\n",
    "- 내가 생각한 아이디어\n",
    "    - 잔돈의 단위가 계속해서 이전 단위의 배수로 이루어져있기 때문에, 가장 큰 단위의 잔돈부터 나눠주고 나머지를 다음 단위가 나눠주는 식으로 반복한다."
   ]
  },
  {
   "cell_type": "code",
   "execution_count": 9,
   "id": "606877b5",
   "metadata": {},
   "outputs": [
    {
     "name": "stdout",
     "output_type": "stream",
     "text": [
      "1\n",
      "15\n"
     ]
    }
   ],
   "source": [
    "N = 1000 - int(input())\n",
    "ls = [500, 100, 50, 10, 5, 1]\n",
    "\n",
    "cnt = 0\n",
    "\n",
    "for coin in ls:\n",
    "    num, N = divmod(N, coin)\n",
    "    cnt += num\n",
    "    \n",
    "print(cnt)"
   ]
  },
  {
   "cell_type": "markdown",
   "id": "c2cd6de4",
   "metadata": {},
   "source": [
    "# 16. BOJ - 로프"
   ]
  },
  {
   "cell_type": "markdown",
   "id": "d928dd9a",
   "metadata": {},
   "source": [
    "### 문제 해결 아이디어\n",
    "- 내가 생각한 아이디어\n",
    "    - 중량을 기준으로 내림차순으로 정렬한 후에, 로프를 추가했을 때 최대중량이 기존 최대 중량보다 크면 갱신, 아니라면 break\n",
    "    \n",
    "- 피드백 : 중간에 비효율적이면 멈춰도 된다고 생각했는데 롱테일을 생각해보면 아니었다."
   ]
  },
  {
   "cell_type": "code",
   "execution_count": 24,
   "id": "c137a8c2",
   "metadata": {},
   "outputs": [
    {
     "name": "stdout",
     "output_type": "stream",
     "text": [
      "2\n",
      "10\n",
      "15\n",
      "20\n"
     ]
    }
   ],
   "source": [
    "n = int(input())\n",
    "ls = []\n",
    "for _ in range(n):\n",
    "    ls.append(int(input()))\n",
    "ls.sort()\n",
    "\n",
    "maxNum = 0\n",
    "for i in range(1,n+1):\n",
    "    recent = ls.pop() * i\n",
    "    maxNum = max(maxNum, recent)\n",
    "    \n",
    "print(maxNum)"
   ]
  },
  {
   "cell_type": "markdown",
   "id": "e7c5b09a",
   "metadata": {},
   "source": [
    "# 17. BOJ - 전자레인지"
   ]
  },
  {
   "cell_type": "code",
   "execution_count": 29,
   "id": "e836695e",
   "metadata": {},
   "outputs": [
    {
     "name": "stdout",
     "output_type": "stream",
     "text": [
      "189\n",
      "-1\n"
     ]
    }
   ],
   "source": [
    "n = int(input())\n",
    "ls = [300, 60, 10]\n",
    "cnt = []\n",
    "for timer in ls:\n",
    "    number, n = divmod(n, timer)\n",
    "    cnt.append(str(number))\n",
    "if n:\n",
    "    print(-1)\n",
    "else:\n",
    "    print(\" \".join(cnt))"
   ]
  },
  {
   "cell_type": "markdown",
   "id": "25c6668c",
   "metadata": {},
   "source": [
    "# 18. BOJ - 30"
   ]
  },
  {
   "cell_type": "code",
   "execution_count": 34,
   "id": "71950a0b",
   "metadata": {},
   "outputs": [
    {
     "name": "stdout",
     "output_type": "stream",
     "text": [
      "80875542\n",
      "88755420\n"
     ]
    }
   ],
   "source": [
    "n = input()\n",
    "if \"0\" in n and (sum(map(int, n)))%3 == 0:\n",
    "        ls = list(n)\n",
    "        ls.sort(reverse=True)\n",
    "        print(\"\".join(ls))\n",
    "else: print(-1)"
   ]
  },
  {
   "cell_type": "markdown",
   "id": "25044d15",
   "metadata": {},
   "source": [
    "# 19. BOJ - 수들의 합"
   ]
  },
  {
   "cell_type": "code",
   "execution_count": 56,
   "id": "a9e5dc2a",
   "metadata": {
    "scrolled": true
   },
   "outputs": [
    {
     "name": "stdout",
     "output_type": "stream",
     "text": [
      "56\n",
      "10\n"
     ]
    }
   ],
   "source": [
    "n = int(input())\n",
    "maxNum = int((2*n)**(1/2))\n",
    "for i in range(maxNum,0,-1):\n",
    "    if i*(i+1)//2 <= n:\n",
    "        print(i)\n",
    "        break"
   ]
  },
  {
   "cell_type": "markdown",
   "id": "958d0db7",
   "metadata": {},
   "source": [
    "# 20. BOJ - 신입 사원"
   ]
  },
  {
   "cell_type": "markdown",
   "id": "b5e7ddcf",
   "metadata": {},
   "source": [
    "### 문제 해결 아이디어\n",
    "- 내가 생각한 아이디어\n",
    "    - 동석차 없이 1위부터 N위까지 모두 있다고 했기 때문에\n",
    "    1. 서류심사 석차를 기준으로 오름차순 정렬\n",
    "    2. 1위의 면접시험 석차를 기준으로 2위를 평가. 2위의 면접시험 석차가 더 낮으면 2위는 탈락. 2위의 면접시험 석차가 더 높으면 기준을 2위의 면접시험 석차로 변경한다. (왜냐하면, 서류심사 석차를 기준으로 오름차순 정렬했기 때문에, 서류심사 점수는 통과자들보다 낮을 것이 분명하고, 그렇기에 통과자들 중 가장 높은 면점시험 석차보다 높아야만 통과가 가능하기 때문이다.)\n",
    "    3. 위의 과정을 다음 순위에게 반복\n",
    "- 피드백 : 시간초과가 뜰 경우에는 input()대신 sys.stdin.readline()을 이용하자..."
   ]
  },
  {
   "cell_type": "code",
   "execution_count": 12,
   "id": "5786837d",
   "metadata": {
    "ExecuteTime": {
     "end_time": "2022-02-20T07:04:43.092390Z",
     "start_time": "2022-02-20T07:04:20.543050Z"
    }
   },
   "outputs": [
    {
     "name": "stdout",
     "output_type": "stream",
     "text": [
      "1\n",
      "7\n",
      "3 6\n",
      "7 3\n",
      "4 2\n",
      "1 4\n",
      "5 7\n",
      "2 5\n",
      "6 1\n",
      "3\n"
     ]
    }
   ],
   "source": [
    "import sys\n",
    "T = int(input())\n",
    "answer = []\n",
    "for _ in range(T):\n",
    "    n = int(input())\n",
    "    ls = []\n",
    "    cnt = n\n",
    "    for _ in range(n):\n",
    "        ls.append(list(map(int, input().split())))\n",
    "    ls.sort()\n",
    "    key = 100001\n",
    "    for score in ls:\n",
    "        if score[1] >= key :\n",
    "            cnt -= 1\n",
    "        else : \n",
    "            key = score[1]\n",
    "    answer.append(cnt)\n",
    "    \n",
    "for ans in answer:\n",
    "    print(ans)"
   ]
  },
  {
   "cell_type": "markdown",
   "id": "adca9dd9",
   "metadata": {},
   "source": [
    "# 21. BOJ - 단어 수학"
   ]
  },
  {
   "cell_type": "markdown",
   "id": "8c95967b",
   "metadata": {},
   "source": [
    "### 문제 해결 아이디어\n",
    "- 내가 생각한 아이디어\n",
    "    - 우선순위가 높은 알파벳부터 높은 숫자를 부여해준다.\n",
    "    - 우선순위라는 것은 자릿수를 의미한다.\n",
    "    - ex) AOOOO이면 A에게 10000의 우선순위가 가도록 한다. BOOO이 11개 있으면 B가 더 우선순위가 높다."
   ]
  },
  {
   "cell_type": "code",
   "execution_count": 23,
   "id": "1af77dba",
   "metadata": {
    "ExecuteTime": {
     "end_time": "2022-02-20T07:18:45.917541Z",
     "start_time": "2022-02-20T07:18:41.546080Z"
    }
   },
   "outputs": [
    {
     "name": "stdout",
     "output_type": "stream",
     "text": [
      "2\n",
      "GCF\n",
      "ACDEB\n",
      "99437\n"
     ]
    }
   ],
   "source": [
    "n = int(input())\n",
    "dic = {}\n",
    "\n",
    "for _ in range(n):\n",
    "    word = input()\n",
    "    length = len(word) - 1\n",
    "    for idx, char in enumerate(word):\n",
    "        if char not in dic:\n",
    "            dic[char] = 0\n",
    "        dic[char] = dic[char] + 10**(length-idx)\n",
    "values = list(dic.values())\n",
    "values.sort(reverse=True)\n",
    "\n",
    "total = 0\n",
    "\n",
    "for idx, value in enumerate(values):\n",
    "    total += value * (9-idx)\n",
    "    \n",
    "print(total)"
   ]
  },
  {
   "cell_type": "markdown",
   "id": "780250f1",
   "metadata": {},
   "source": [
    "# 22. BOJ - 카드 정렬하기"
   ]
  },
  {
   "cell_type": "markdown",
   "id": "7150b96b",
   "metadata": {},
   "source": [
    "### 문제 해결 아이디어\n",
    "- 내가 생각한 아이디어\n",
    "     - 호프만 코드가 생각나는 문제다.\n",
    "     - 가장 작은 값의 두 묶음을 합쳐서 새로운 하나의 묶음으로 만들고 총 비교횟수에 새 묶음을 더한다. 또다시 그 중에서 가장 작은 값의 두 묶음을 합쳐서.... 의 과정을 반복하면 해결될 것 같다.\n",
    "     - 가장 작은 두 묶음을 구하기 위해 전체를 sort하는 것은 매우 비효율적이기 때문에, heap으로 구현해야 할 것 같다는 느낌이 확 들었다."
   ]
  },
  {
   "cell_type": "code",
   "execution_count": 24,
   "id": "b2be2ec8",
   "metadata": {
    "ExecuteTime": {
     "end_time": "2022-02-20T07:36:09.060369Z",
     "start_time": "2022-02-20T07:36:02.915365Z"
    }
   },
   "outputs": [
    {
     "name": "stdout",
     "output_type": "stream",
     "text": [
      "3\n",
      "10\n",
      "20\n",
      "40\n",
      "100\n"
     ]
    }
   ],
   "source": [
    "import heapq\n",
    "n = int(input())\n",
    "\n",
    "ls = []\n",
    "for _ in range(n):\n",
    "    heapq.heappush(ls, int(input()))\n",
    "    \n",
    "cnt = 0\n",
    "while len(ls)> 1:\n",
    "    min1 = heapq.heappop(ls)\n",
    "    min2 = heapq.heappop(ls)\n",
    "    new_deck = min1 + min2\n",
    "    cnt += new_deck\n",
    "    heapq.heappush(ls, new_deck)\n",
    "    \n",
    "print(cnt)"
   ]
  },
  {
   "cell_type": "markdown",
   "id": "6c9cc854",
   "metadata": {},
   "source": [
    "# 23. BOJ - 뒤집기"
   ]
  },
  {
   "cell_type": "markdown",
   "id": "7a342d7e",
   "metadata": {},
   "source": [
    "### 문제 해결 아이디어\n",
    "- 내가 생각한 아이디어\n",
    "    - 재귀적인 문제라고 생각이 들었다.\n",
    "    - 같게할문자열 = 0000\"같게할문자열\"000 이런식으로 하나씩 파고들어야 한다고 생각되었다.\n",
    "    - 양끝에 있는, 뒤집을필요 없는 0이나 1은 strip으로 제거하고 아직 문자열이 남아있으면, cnt += 1 한다."
   ]
  },
  {
   "cell_type": "code",
   "execution_count": 31,
   "id": "de53d934",
   "metadata": {
    "ExecuteTime": {
     "end_time": "2022-02-20T07:51:30.390822Z",
     "start_time": "2022-02-20T07:51:28.359102Z"
    }
   },
   "outputs": [
    {
     "name": "stdout",
     "output_type": "stream",
     "text": [
      "0001100\n",
      "0001100\n"
     ]
    }
   ],
   "source": [
    "string = input()\n",
    "first = string[0]\n",
    "string.strip(str(first))\n",
    "print(string)"
   ]
  },
  {
   "cell_type": "code",
   "execution_count": 28,
   "id": "5c6b7ebd",
   "metadata": {
    "ExecuteTime": {
     "end_time": "2022-02-20T07:50:04.451225Z",
     "start_time": "2022-02-20T07:50:04.429032Z"
    }
   },
   "outputs": [
    {
     "data": {
      "text/plain": [
       "'11'"
      ]
     },
     "execution_count": 28,
     "metadata": {},
     "output_type": "execute_result"
    }
   ],
   "source": [
    "\"0001100\".strip()"
   ]
  },
  {
   "cell_type": "code",
   "execution_count": 36,
   "id": "817a48b9",
   "metadata": {
    "ExecuteTime": {
     "end_time": "2022-02-20T07:52:29.047223Z",
     "start_time": "2022-02-20T07:52:28.411411Z"
    }
   },
   "outputs": [
    {
     "name": "stdout",
     "output_type": "stream",
     "text": [
      "11101101\n",
      "2\n"
     ]
    }
   ],
   "source": [
    "string = input()\n",
    "first = string[0]\n",
    "string = string.strip(first)\n",
    "cnt = 0\n",
    "while string:\n",
    "    cnt += 1\n",
    "    first = string[0]\n",
    "    string = string.strip(first)\n",
    "print(cnt)"
   ]
  },
  {
   "cell_type": "markdown",
   "id": "8ef380d5",
   "metadata": {},
   "source": [
    "# 24. BOJ - 캠핑"
   ]
  },
  {
   "cell_type": "code",
   "execution_count": 38,
   "id": "a6988669",
   "metadata": {
    "ExecuteTime": {
     "end_time": "2022-02-20T08:02:53.765779Z",
     "start_time": "2022-02-20T08:02:47.244513Z"
    }
   },
   "outputs": [
    {
     "name": "stdout",
     "output_type": "stream",
     "text": [
      "5 8 20\n",
      "5 8 17\n",
      "0 0 0\n",
      "Case 1: 14\n",
      "Case 2: 11\n"
     ]
    }
   ],
   "source": [
    "ls = []\n",
    "while True:\n",
    "    L, P, V = map(int, input().split())\n",
    "    if L == 0 and P == 0 and V == 0:\n",
    "        break\n",
    "    quo, rem = divmod(V, P)\n",
    "    ls.append(quo*L + min(rem,L))\n",
    "for idx, num in enumerate(ls):\n",
    "    print(\"Case {}: {}\".format(idx+1, num))"
   ]
  },
  {
   "cell_type": "markdown",
   "id": "ed1a2c9a",
   "metadata": {},
   "source": [
    "# 25. BOJ - A-> B"
   ]
  },
  {
   "cell_type": "code",
   "execution_count": 48,
   "id": "a8607b47",
   "metadata": {
    "ExecuteTime": {
     "end_time": "2022-02-20T08:11:34.210321Z",
     "start_time": "2022-02-20T08:11:30.914178Z"
    }
   },
   "outputs": [
    {
     "name": "stdout",
     "output_type": "stream",
     "text": [
      "100 40021\n",
      "5\n"
     ]
    }
   ],
   "source": [
    "n, target = input().split()\n",
    "n = int(n)\n",
    "cnt = 1\n",
    "while True:\n",
    "    if n > int(target):\n",
    "        print(-1)\n",
    "        break\n",
    "    elif n == int(target):\n",
    "        print(cnt)\n",
    "        break\n",
    "    elif target[-1] == \"1\":\n",
    "        target= target[:-1]\n",
    "        cnt +=1\n",
    "    elif int(target)% 2 == 0:\n",
    "        target = str(int(target)//2)\n",
    "        cnt +=1\n",
    "    else:\n",
    "        print(-1)\n",
    "        break\n",
    "    "
   ]
  },
  {
   "cell_type": "markdown",
   "id": "c93805be",
   "metadata": {},
   "source": [
    "# 26. BOJ 보석 도둑"
   ]
  },
  {
   "cell_type": "markdown",
   "id": "ab6470f4",
   "metadata": {},
   "source": [
    "### 문제 해결 아이디어\n",
    "- 내가 생각한 아이디어\n",
    "    - 제일 비싼 보석을 가능한 작은 가방에 먼저 넣는 방법이 맞지 않을까?\n",
    "- 셀프 피드백\n",
    "    - **아이디어를 더 구체화**할 필요가 있음\n",
    "    - \"가장 작은 가방부터, 넣을 수 있는 보석들 중에서 가장 비싼 보석을 넣는 것을 반복\" 이라고 정의하면 구현이 쉬웠을 것이다.\n",
    "    1. 가방중에서 가장 작은 가방부터, \n",
    "    2. 보석이 있는 경우에, 가장 가벼운 보석부터 가방에 담길 수 있으면 후보에 포함시킨다.\n",
    "    3. 후보가 있다면, 후보 중에서 가장 비싼 보석을 가방에 담고 위 2번으로 돌아간다.\n",
    "    - 가방을 오름차순 정렬 했기에, 다음 가방으로 넘어갈때 (가방의 용량이 커질때) 후보를 유지해도 문제가 없다.\n",
    "    \n",
    "    - **시간초과를 막기위해 sys.stdin.readline()을 사용할 것**\n",
    "    - **보석을 다 담았다면, 더 이상 bag을 확인하지 말것**"
   ]
  },
  {
   "cell_type": "code",
   "execution_count": null,
   "id": "8db829a7",
   "metadata": {},
   "outputs": [],
   "source": [
    "import sys\n",
    "import heapq\n",
    "n, k = map(int, sys.stdin.readline().split())\n",
    "jewels = []\n",
    "bags = []\n",
    "for _ in range(n):\n",
    "    heapq.heappush(jewels, (list(map(int, sys.stdin.readline().split()))))\n",
    "for _ in range(k):\n",
    "    bags.append(int(sys.stdin.readline()))\n",
    "bags.sort()\n",
    "\n",
    "total = 0\n",
    "candi = []\n",
    "for bag in bags:\n",
    "    while jewels and bag >= jewels[0][0]:\n",
    "        heapq.heappush(candi, -heapq.heappop(jewels)[1])\n",
    "    if candi :\n",
    "        total -= heapq.heappop(candi)\n",
    "    elif not jewels:\n",
    "        break\n",
    "print(total)"
   ]
  },
  {
   "cell_type": "markdown",
   "id": "90696002",
   "metadata": {},
   "source": [
    "# 27. 수 묶기"
   ]
  },
  {
   "cell_type": "markdown",
   "id": "591cb111",
   "metadata": {},
   "source": [
    "### 문제 해결 아이디어\n",
    "- 내가 생각한 아이디어\n",
    "    - 0 이하의 숫자들은 서로 곱한다. 0 이하의 숫자가 여분이 남았을 경우 안 묶는다.\n",
    "    - 1**\"들\"**은 그냥 더한다.\n",
    "    - 2 이상의 숫자들은 서로 곱한다. 2 이상의 숫자가 여분이 남았을 경우 안 묶는다.   "
   ]
  },
  {
   "cell_type": "code",
   "execution_count": 22,
   "id": "8c28c41d",
   "metadata": {},
   "outputs": [
    {
     "name": "stdout",
     "output_type": "stream",
     "text": [
      "5\n",
      "-3\n",
      "-2\n",
      "-1\n",
      "0\n",
      "1\n",
      "[1]\n",
      "7\n"
     ]
    }
   ],
   "source": [
    "import heapq\n",
    "\n",
    "n = int(input())\n",
    "\n",
    "ls = []\n",
    "for _ in range(n):\n",
    "    heapq.heappush(ls, int(input()))\n",
    "\n",
    "total = 0\n",
    "recent = 0\n",
    "\n",
    "while ls and ls[0] <= 0:\n",
    "    if recent:\n",
    "        total += recent * heapq.heappop(ls)\n",
    "        recent = 0\n",
    "    else :\n",
    "        recent = heapq.heappop(ls)\n",
    "\n",
    "if recent != 0:\n",
    "    total += recent\n",
    "    recent = 0\n",
    "    \n",
    "while ls and ls[0] == 1:\n",
    "    total += heapq.heappop(ls)\n",
    "    \n",
    "if len(ls)%2 != 0:\n",
    "    total += heapq.heappop(ls)\n",
    "\n",
    "while ls:\n",
    "    if recent:\n",
    "        total += recent * heapq.heappop(ls)\n",
    "        recent = 0\n",
    "    else:\n",
    "        recent = heapq.heappop(ls)\n",
    "    \n",
    "print(total)"
   ]
  },
  {
   "cell_type": "markdown",
   "id": "0e324cd2",
   "metadata": {},
   "source": [
    "# 28. BOJ - 기타줄"
   ]
  },
  {
   "cell_type": "markdown",
   "id": "f7d0130b",
   "metadata": {},
   "source": [
    "### 문제 해결 아이디어\n",
    "- 내가 생각한 아이디어\n",
    "    - 제일 저렴한 패키지 or 낱개를 구매할 것이기 때문에, 제일 저렴한 것만 저장해둔다.\n",
    "    - 패키지가 낱개 6개 보다 저렴하면\n",
    "        - 몫은 패키지만큼 사고 나머지는 낱개로 사거나\n",
    "        - (몫 + 1)의 패키지를 산다.\n",
    "    - 아니라면 다 낱개로 산다."
   ]
  },
  {
   "cell_type": "code",
   "execution_count": 30,
   "id": "a468ef32",
   "metadata": {},
   "outputs": [
    {
     "name": "stdout",
     "output_type": "stream",
     "text": [
      "9 16\n",
      "21 25\n",
      "77 23\n",
      "23 88\n",
      "95 43\n",
      "3 9\n",
      "10 10\n",
      "10 10\n",
      "10 10\n",
      "10 10\n",
      "10 10\n",
      "10 10\n",
      "10 10\n",
      "10 10\n",
      "10 10\n",
      "10 10\n",
      "10 10\n",
      "6\n"
     ]
    }
   ],
   "source": [
    "n, m = map(int, input().split())\n",
    "package = 1001\n",
    "one = 1001\n",
    "for _ in range(m):\n",
    "    a, b = map(int, input().split())\n",
    "    package = min(package, a)\n",
    "    one = min(one, b)\n",
    "if package <= 6 * one:\n",
    "    quo, rem = divmod(n, 6)\n",
    "    print(min(quo*package + rem*one, (quo+1)*package))\n",
    "else :\n",
    "    print(one * n)"
   ]
  },
  {
   "cell_type": "markdown",
   "id": "15725871",
   "metadata": {},
   "source": [
    "# 29. BOJ - 5와 6의 차이"
   ]
  },
  {
   "cell_type": "markdown",
   "id": "c2bfb1af",
   "metadata": {},
   "source": [
    "### 문제 해결 아이디어\n",
    "- 내가 생각한 아이디어\n",
    "    - 두 숫자 모두 6을 5으로 전부 replace해서 최솟값을 구하고\n",
    "    - 두 숫자 모두 5를 6으로 전부 replace해서 최댓값을 구한다."
   ]
  },
  {
   "cell_type": "code",
   "execution_count": 34,
   "id": "fab6347c",
   "metadata": {},
   "outputs": [
    {
     "name": "stdout",
     "output_type": "stream",
     "text": [
      "16796 58786\n",
      "74580 85582\n"
     ]
    }
   ],
   "source": [
    "a, b = input().split()\n",
    "a_max, b_max = a.replace('5', '6'), b.replace('5', '6')\n",
    "a_min, b_min = a.replace('6', '5'), b.replace('6', '5')\n",
    "print(int(a_min) + int(b_min), int(a_max) + int(b_max))"
   ]
  },
  {
   "cell_type": "markdown",
   "id": "a3835599",
   "metadata": {},
   "source": [
    "# 30. BOJ - 행렬"
   ]
  },
  {
   "cell_type": "markdown",
   "id": "1e66383a",
   "metadata": {},
   "source": [
    "### 문제 해결 아이디어\n",
    "- 내가 생각한 아이디어\n",
    "    - matrix 형태로 입력 받는다.\n",
    "    - 만약 n이나 m이 3보다 작은데 A와 B가 다르다면, -1 출력\n",
    "    - 아니라면\n",
    "        - 행렬 A의 맨 윗줄, 맨 왼쪽부터 시작해서 해당 위치의 숫자가 B의 숫자와 다르면, 3x3 영역의 모든 숫자를 변경하고 cnt += 1.\n",
    "        - A의 한 줄이 끝날 때, 해당하는 B의 줄과 일치하면 계속진행, 아니라면 -1을 출력하고 break\n",
    "        - A의 밑에서 3번째 줄이 끝났다면, 맨 밑의 2줄의 일치 여부를 확인하고 cnt를 출력, 불일치라면 -1을 출력\n",
    "        \n",
    "- 피드백 : 조건문의 순서를 조금 더 구체적으로 적을 것. 이런 것까지 생각해야할까? 싶다면 무조건 고려할 것."
   ]
  },
  {
   "cell_type": "code",
   "execution_count": 66,
   "id": "037c90ca",
   "metadata": {},
   "outputs": [
    {
     "name": "stdout",
     "output_type": "stream",
     "text": [
      "3 3\n",
      "111\n",
      "111\n",
      "111\n",
      "000\n",
      "000\n",
      "000\n",
      "1\n"
     ]
    }
   ],
   "source": [
    "n, m = map(int, input().split())\n",
    "req = []\n",
    "res = []\n",
    "for _ in range(n):\n",
    "    req.append(list(map(bool, map(int, list(input())))))\n",
    "for _ in range(n):\n",
    "    res.append(list(map(bool, map(int, list(input())))))\n",
    "    \n",
    "if req == res :\n",
    "    print(0)\n",
    "    \n",
    "elif (n < 3 or m < 3):\n",
    "    print(-1)\n",
    "    \n",
    "else : \n",
    "    flag = True\n",
    "    cnt = 0\n",
    "    ls = [0,1,2]\n",
    "    for i in range(n-2):\n",
    "        for j in range(m-2):\n",
    "            if req[i][j] != res[i][j]:\n",
    "                for k in ls:\n",
    "                    for l in ls:\n",
    "                        req[i+k][j+l] = not req[i+k][j+l]    \n",
    "                        \n",
    "                cnt += 1\n",
    "        if req[i] != res[i]:\n",
    "            print(-1)\n",
    "            flag = False\n",
    "            break\n",
    "    if flag :\n",
    "        if req[-2] == res[-2] and req[-1] == res[-1]:\n",
    "            print(cnt)\n",
    "        else:\n",
    "            print(-1)"
   ]
  },
  {
   "cell_type": "markdown",
   "id": "86c7fdc2",
   "metadata": {},
   "source": [
    "# 31. BOJ - 저울"
   ]
  },
  {
   "cell_type": "markdown",
   "id": "418515e7",
   "metadata": {},
   "source": [
    "### 문제 해결 아이디어\n",
    "- 내가 생각한 아이디어\n",
    "- 피드백 : 나중에 다시 해보자. 머리가 안돌아간다."
   ]
  },
  {
   "cell_type": "markdown",
   "id": "94c85b0d",
   "metadata": {},
   "source": [
    "# 32. BOJ - 수리공 항승"
   ]
  },
  {
   "cell_type": "markdown",
   "id": "87436469",
   "metadata": {},
   "source": [
    "### 문제 해결 아이디어\n",
    "- 내가 생각한 아이디어\n",
    "    - 우선 물이 새는 곳의 위치를 min-heapify\n",
    "    - 새는 위치가 남아있는 동안, 한계지점(시작지점 + (L-1)) 이하의 위치면 heappop, 아니라면 한계지점 갱신 및 cnt += 1"
   ]
  },
  {
   "cell_type": "code",
   "execution_count": 70,
   "id": "b2d9f7af",
   "metadata": {},
   "outputs": [
    {
     "name": "stdout",
     "output_type": "stream",
     "text": [
      "3 1\n",
      "3 2 1\n",
      "3\n"
     ]
    }
   ],
   "source": [
    "import heapq\n",
    "\n",
    "n, l = map(int, input().split())\n",
    "ls = list(map(int, input().split()))\n",
    "\n",
    "heapq.heapify(ls)\n",
    "\n",
    "cnt = 1\n",
    "\n",
    "limit = heapq.heappop(ls) + l - 1\n",
    "\n",
    "while ls:\n",
    "    if ls[0] <= limit:\n",
    "        heapq.heappop(ls)\n",
    "    else:\n",
    "        cnt += 1\n",
    "        limit = heapq.heappop(ls) + l -1\n",
    "        \n",
    "print(cnt)"
   ]
  },
  {
   "cell_type": "markdown",
   "id": "1195d4fe",
   "metadata": {},
   "source": [
    "# 33. BOJ - 문서 검색"
   ]
  },
  {
   "cell_type": "markdown",
   "id": "501eaad9",
   "metadata": {},
   "source": [
    "### 문제 해결 아이디어\n",
    "- 내가 생각한 아이디어\n",
    "    - 문서가 존재하는 동안\n",
    "        - 단어를 찾으면, 문서를 문서\\[단어를 찾은 index + 단어의 길이: \\] 로 갱신하고, cnt += 1, 만약 갱신된 document가 존재하지 않으면 cnt 출력 및 break\n",
    "        - 단어를 못찾으면, cnt 출력 및  break"
   ]
  },
  {
   "cell_type": "code",
   "execution_count": 74,
   "id": "6611b569",
   "metadata": {},
   "outputs": [
    {
     "name": "stdout",
     "output_type": "stream",
     "text": [
      "aaaaaaa\n",
      "aa\n",
      "3\n"
     ]
    }
   ],
   "source": [
    "document = input()\n",
    "word = input()\n",
    "\n",
    "length = len(word)\n",
    "cnt = 0\n",
    "\n",
    "while document:\n",
    "    idx = document.find(word)\n",
    "    if idx >= 0 :\n",
    "        document = document[idx+length:]\n",
    "        cnt += 1\n",
    "        if not document:\n",
    "            print(cnt)\n",
    "            break\n",
    "    else : \n",
    "        print(cnt)\n",
    "        break"
   ]
  },
  {
   "cell_type": "markdown",
   "id": "52cc7141",
   "metadata": {},
   "source": [
    "# 34. BOJ - 병든 나이트"
   ]
  },
  {
   "cell_type": "markdown",
   "id": "911ff3ef",
   "metadata": {},
   "source": [
    "### 문제 해결 아이디어\n",
    "- 내가 생각한 아이디어\n",
    "    - 조건문 활용이 핵심일 듯\n",
    "    - 세로가 1 또는 가로가 1 : 1칸\n",
    "    - 세로가 2 : 가로 2 > 1 / 가로 3\\~4 > 2 / 가로 5\\~6 > 3 / 가로 7+ > 4\n",
    "    - 세로가 3 이상 :\n",
    "        - 가로 2 > 2\n",
    "        - 가로 3 > 3\n",
    "        - 가로 4\\~6 > 4\n",
    "        - 가로 7+ > 5 + (가로 - 7)"
   ]
  },
  {
   "cell_type": "code",
   "execution_count": 79,
   "id": "12db4361",
   "metadata": {},
   "outputs": [
    {
     "name": "stdout",
     "output_type": "stream",
     "text": [
      "20 4\n",
      "4\n"
     ]
    }
   ],
   "source": [
    "n, m = map(int, input().split())\n",
    "if n == 1 or m == 1:\n",
    "    print(1)\n",
    "elif n == 2:\n",
    "    if m == 2:\n",
    "        print(1)\n",
    "    elif m <= 4:\n",
    "        print(2)\n",
    "    elif m <= 6:\n",
    "        print(3)\n",
    "    else :\n",
    "        print(4)\n",
    "else:\n",
    "    if m == 2:\n",
    "        print(2)\n",
    "    elif m == 3:\n",
    "        print(3)\n",
    "    elif m <= 6 :\n",
    "        print(4)\n",
    "    else :\n",
    "        print(5+m-7)"
   ]
  },
  {
   "cell_type": "markdown",
   "id": "991360a5",
   "metadata": {},
   "source": [
    "# 35. BOJ - 강의실 배정"
   ]
  },
  {
   "cell_type": "markdown",
   "id": "8a27a3ea",
   "metadata": {},
   "source": [
    "### 문제 해결 아이디어\n",
    "- 내가 생각한 아이디어\n",
    "    - 강의 종료 시간을 기준으로 강의리스트를 min-heapify\n",
    "    - cnt = 1\n",
    "    - 무한루프\n",
    "        - 가장 빨리 끝나는 강의 heappop 하고 끝나는 시간을 기준으로 설정\n",
    "        - 새로운 heap 세팅하고\n",
    "        - 강의리스트가 존재하는 동안,\n",
    "            1. 하나를 pop 하고\n",
    "            2. pop한 강의가 기준보다 일찍 시작하면(작으면), 새로운 heap에 넣는다.\n",
    "            3. pop한 강의가 기준보다 늦게 시작하면, 기준을 해당 강의의 끝나는 시간으로 변경.\n",
    "        - 새로운 heap이 안 비어있으면, 강의리스트를 새로운 heap으로 바꾸고 cnt += 1\n",
    "        - 새로운 heap이 비어있으면, 다 배정이 되었다는 뜻이니 break\n",
    "        \n",
    "- 두번째 아이디어\n",
    "    - 강의 시작 시간을 기준으로 강의리스트를 sort\n",
    "    - min heap 선언\n",
    "    - 첫번째 강의의 종료시간 push\n",
    "    - 두번째 강의 부터 for문\n",
    "        - min heap[0]보다 일찍 시작하면 : 해당 강의의 종료시간 push\n",
    "        - min heap[0]보다 같거나 늦게 시작하면 : 가장 빨리 끝나는 시간을 pop하고  해당 강의의 종료시간을 push\n",
    "    - for문 종료시 heap에 들어있는 종료시간의 갯수가 필요한 강의실의 갯수"
   ]
  },
  {
   "cell_type": "code",
   "execution_count": 88,
   "id": "4bd430a2",
   "metadata": {},
   "outputs": [
    {
     "name": "stdout",
     "output_type": "stream",
     "text": [
      "3\n",
      "1 3\n",
      "2 4\n",
      "3 5\n",
      "2\n"
     ]
    }
   ],
   "source": [
    "import heapq\n",
    "import sys\n",
    "\n",
    "n = int(sys.stdin.readline())\n",
    "classlist = []\n",
    "for _ in range(n):\n",
    "    classlist.append(list(map(int, sys.stdin.readline().split())))\n",
    "classlist.sort(key=lambda x : x[0])\n",
    "\n",
    "ls = []\n",
    "heapq.heappush(ls, classlist[0][1])\n",
    "\n",
    "for lecture in classlist[1:]:\n",
    "    if lecture[0] < ls[0] :\n",
    "        heapq.heappush(ls, lecture[1])\n",
    "    else :\n",
    "        heapq.heappop(ls)\n",
    "        heapq.heappush(ls, lecture[1])\n",
    "print(len(ls))"
   ]
  },
  {
   "cell_type": "code",
   "execution_count": null,
   "id": "0d88ec57",
   "metadata": {},
   "outputs": [],
   "source": [
    "import heapq\n",
    "import sys\n",
    "n = int(input())\n",
    "\n",
    "classlist = []\n",
    "\n",
    "for _ in range(n):\n",
    "    a, b = map(int, sys.stdin.readline().split())\n",
    "    heapq.heappush(classlist, (b, a))\n",
    "\n",
    "cnt = 1\n",
    "\n",
    "while True:\n",
    "    key = heapq.heappop(classlist)[0]\n",
    "    newlist = []\n",
    "    while classlist:\n",
    "        tmp = heapq.heappop(classlist)\n",
    "        if tmp[1] < key:\n",
    "            heapq.heappush(newlist, tmp)\n",
    "        else :\n",
    "            key = tmp[0]\n",
    "    if newlist :\n",
    "        classlist = newlist\n",
    "        cnt += 1\n",
    "    else :\n",
    "        break\n",
    "\n",
    "print(cnt)"
   ]
  },
  {
   "cell_type": "markdown",
   "id": "f13519dc",
   "metadata": {},
   "source": [
    "# 36. BOJ - 세탁소 사장 동혁"
   ]
  },
  {
   "cell_type": "markdown",
   "id": "e9fd3641",
   "metadata": {},
   "source": [
    "### 문제 해결 아이디어\n",
    "- 내가 생각한 아이디어\n",
    "    - "
   ]
  },
  {
   "cell_type": "code",
   "execution_count": 4,
   "id": "cee361b3",
   "metadata": {},
   "outputs": [
    {
     "name": "stdout",
     "output_type": "stream",
     "text": [
      "3\n",
      "124\n",
      "25\n",
      "194\n",
      "4 2 0 4\n",
      "1 0 0 0\n",
      "7 1 1 4\n"
     ]
    }
   ],
   "source": [
    "n = int(input())\n",
    "ls = []\n",
    "for _ in range(n):\n",
    "    ls.append(int(input()))\n",
    "    \n",
    "coins = [25, 10 ,5, 1]\n",
    "answers = []\n",
    "for ex in ls:\n",
    "    tmp = []\n",
    "    for coin in coins:\n",
    "        quo, ex = divmod(ex, coin)\n",
    "        tmp.append(str(quo))\n",
    "    answers.append(tmp)\n",
    "\n",
    "for answer in answers:\n",
    "    print(\" \".join(answer))"
   ]
  },
  {
   "cell_type": "markdown",
   "id": "8a2d19cf",
   "metadata": {},
   "source": [
    "# 37. BOJ - 게임을 만든 동준이"
   ]
  },
  {
   "cell_type": "markdown",
   "id": "92f36829",
   "metadata": {},
   "source": [
    "### 문제 해결 아이디어\n",
    "- 내가 생각한 아이디어\n",
    "    - list로 구현\n",
    "    - total = 0\n",
    "    - pop으로 꺼낸 맨 끝의 숫자를 key로 지정\n",
    "    - list가 존재하는 동안, \n",
    "        - pop으로 꺼낸 맨 끝의 숫자가 key-1 과 비교했을 때 \n",
    "            1. 크면 그 둘의 차이를 total에 더하고 key를 key-1로 변경\n",
    "            2. 같거나 작으면 해당 숫자를 key로 변경한다."
   ]
  },
  {
   "cell_type": "code",
   "execution_count": 3,
   "id": "039604b4",
   "metadata": {
    "ExecuteTime": {
     "end_time": "2022-02-22T02:22:35.861920Z",
     "start_time": "2022-02-22T02:22:30.518257Z"
    }
   },
   "outputs": [
    {
     "name": "stdout",
     "output_type": "stream",
     "text": [
      "4\n",
      "5\n",
      "3\n",
      "7\n",
      "5\n",
      "6\n"
     ]
    }
   ],
   "source": [
    "n = int(input())\n",
    "ls = []\n",
    "for _ in range(n):\n",
    "    ls.append(int(input()))\n",
    "\n",
    "total = 0\n",
    "key = ls.pop()\n",
    "\n",
    "while ls:\n",
    "    tmp = ls.pop()\n",
    "    if tmp > key -1 :\n",
    "        total += (tmp-key+1)\n",
    "        key -= 1\n",
    "    else :\n",
    "        key = tmp\n",
    "print(total)"
   ]
  },
  {
   "cell_type": "markdown",
   "id": "3e85c1eb",
   "metadata": {},
   "source": [
    "# 38. BOJ - 빵집"
   ]
  },
  {
   "cell_type": "markdown",
   "id": "b5c2a2f5",
   "metadata": {},
   "source": [
    "### 문제 해결 아이디어\n",
    "- 내가 생각한 아이디어\n",
    "    - 이중리스트 (배열)로 구현\n",
    "    - total = 0\n",
    "    - 첫째줄 맨왼쪽에서 시작 (x인 경우 다음줄)\n",
    "    - 오른쪽위, 오른쪽, 오른쪽아래 순서대로 x인지 확인하고 x가 아니라면 이동하고 x로 만든다. \n",
    "        - 셋 다 x인 경우 다음 줄의 맨 왼쪽에서 시작한다.\n",
    "        - 마지막 열에 도착한 경우, total += 1 하고 다음 줄의 맨 왼쪽에서 시작한다.\n",
    "    "
   ]
  },
  {
   "cell_type": "markdown",
   "id": "d8e2a5df",
   "metadata": {},
   "source": [
    "# 39. BOJ - 멀티탭 스케쥴링"
   ]
  },
  {
   "cell_type": "markdown",
   "id": "55db7931",
   "metadata": {},
   "source": [
    "### 문제 해결 아이디어\n",
    "- 내가 생각한 아이디어\n",
    "    - 멀티탭 구멍의 개수가 리스트에 담는 전기용품의 최대 갯수\n",
    "    - 리스트에 해당 전기용품이 있다면, continue\n",
    "    - 리스트에 해당 전기용품이 없다면\n",
    "        - 리스트가 꽉 차지 않았다면, append\n",
    "        - 마지막 전기용품이라면, cnt += 1\n",
    "        - 리스트가 꽉 차있고 마지막 전기용품이 아니라면,\n",
    "            - 리스트에 있는 전기용품들을 남은 전기용품리스트에서 찾는다.\n",
    "                - 남은 전기용품리스트에 없다면, 플러그를 뽑고(pop) 뽑았다고 표시하고 break\n",
    "                - 남은 전기용품리스트에 있다면, 지금까지의 maxindex와 비교하고 크면, maxindex를 갱신하고 해당 물품의 index를 저장해둔다.\n",
    "            - for문이 끝났을 때, 플러그를 뽑지 않았다면, maxindex를 가진 물품을 pop하고\n",
    "            - append 하고 cnt += 1\n",
    "        \n",
    "            "
   ]
  },
  {
   "cell_type": "code",
   "execution_count": 8,
   "id": "0c237f44",
   "metadata": {
    "ExecuteTime": {
     "end_time": "2022-02-25T03:25:01.614220Z",
     "start_time": "2022-02-25T03:24:55.794209Z"
    }
   },
   "outputs": [
    {
     "name": "stdout",
     "output_type": "stream",
     "text": [
      "2 7\n",
      "2 3 2 3 1 2 2\n",
      "1\n"
     ]
    }
   ],
   "source": [
    "n, k = map(int, input().split())\n",
    "toUse = list(map(int, input().split()))\n",
    "ls = []\n",
    "cnt = 0\n",
    "\n",
    "for idx, item in enumerate(toUse):\n",
    "    if item in ls:\n",
    "        continue\n",
    "    if len(ls) < n:\n",
    "        ls.append(item)\n",
    "    elif idx == len(toUse)-1 :\n",
    "        cnt+= 1\n",
    "    else:\n",
    "        alreadypop = False\n",
    "        maxindex = 0\n",
    "        existindex = 0\n",
    "        for i, exist in enumerate(ls):\n",
    "            if exist not in toUse[idx+1:]:\n",
    "                ls.pop(i)\n",
    "                alreadypop = True\n",
    "                break\n",
    "            result = toUse[idx+1:].index(exist)                \n",
    "            if result > maxindex:\n",
    "                maxindex = result\n",
    "                existindex = i\n",
    "        if not alreadypop :\n",
    "            ls.pop(existindex)\n",
    "        ls.append(item)\n",
    "        cnt += 1\n",
    "        \n",
    "        \n",
    "print(cnt)\n",
    "                "
   ]
  },
  {
   "cell_type": "code",
   "execution_count": 2,
   "id": "c0fa2b30",
   "metadata": {
    "ExecuteTime": {
     "end_time": "2022-02-25T03:04:40.992379Z",
     "start_time": "2022-02-25T03:04:40.976317Z"
    }
   },
   "outputs": [
    {
     "data": {
      "text/plain": [
       "[2, 3, 2, 3, 1, 2, 7]"
      ]
     },
     "execution_count": 2,
     "metadata": {},
     "output_type": "execute_result"
    }
   ],
   "source": [
    "toUse"
   ]
  },
  {
   "cell_type": "markdown",
   "id": "e8966462",
   "metadata": {},
   "source": [
    "# 40. BOJ - 팰린드롬 만들기"
   ]
  },
  {
   "cell_type": "markdown",
   "id": "317dcdf9",
   "metadata": {},
   "source": [
    "### 문제 해결 아이디어\n",
    "- 내가 생각한 아이디어\n",
    "    - 문자열을 구성하는 알파벳들 중 하나만 홀수개 존재하거나 전부다 짝수개 존재해야한다.\n",
    "        - 전부 다 짝수개인 경우: 전부 절반만 남겨서 알파벳순으로 정렬한뒤에, 역순의 문자열을 뒤에 붙인다.\n",
    "        - 하나의 홀수개 알파벳이 존재할 경우 : 해당 알파벳은 하나를 빼고 나머지를 똑같이 절반만 남겨서 알파벳 순으로 정렬한 뒤에, 빼뒀던 알파벳을 붙이고 역순의 문자열을 뒤에 붙인다.\n",
    "    - else : 암쏘리 한수"
   ]
  },
  {
   "cell_type": "code",
   "execution_count": 29,
   "id": "8cab1c45",
   "metadata": {
    "ExecuteTime": {
     "end_time": "2022-02-25T04:24:49.364588Z",
     "start_time": "2022-02-25T04:24:48.089808Z"
    }
   },
   "outputs": [
    {
     "name": "stdout",
     "output_type": "stream",
     "text": [
      "ABCD\n",
      "I'm Sorry Hansoo\n"
     ]
    }
   ],
   "source": [
    "ls = list(input())\n",
    "dictionary = {x:ls.count(x) for x in set(ls)}\n",
    "\n",
    "sorry = False\n",
    "found_odd = False\n",
    "for value in dictionary.values():\n",
    "    if value % 2:\n",
    "        if found_odd == False:\n",
    "            found_odd = True\n",
    "        else:\n",
    "            sorry = True\n",
    "if sorry : \n",
    "    print(\"I'm Sorry Hansoo\")\n",
    "else :\n",
    "    front = \"\"\n",
    "    middle = \"\"\n",
    "    for key, value in dictionary.items():\n",
    "        if value%2:\n",
    "            middle = key\n",
    "            value -= 1\n",
    "        front = front + (key * (value//2))\n",
    "    front = list(front)\n",
    "    front.sort()\n",
    "    front = \"\".join(front)\n",
    "    back = \"\".join(reversed(front))\n",
    "    print(front+middle+back)"
   ]
  },
  {
   "cell_type": "markdown",
   "id": "dd1761f2",
   "metadata": {},
   "source": [
    "# 41. BOJ - 공항"
   ]
  },
  {
   "cell_type": "markdown",
   "id": "df3d1344",
   "metadata": {},
   "source": [
    "### 문제 해결 아이디어\n",
    "- 내가 생각한 아이디어\n",
    "    - 가능한 한 큰 숫자의 게이트에 비행기를 도킹시킨다\n",
    "    - cnt = 0\n",
    "    - wish_list의 처음부터 (for)\n",
    "        - docking = False\n",
    "        - wish_gate부터 1번 게이트까지 (for)\n",
    "            - 해당 gate가 False이면 cnt += 1, True로 변경, docking = True, break\n",
    "            - 해당 gate가 True면 그 다음 게이트로 넘어감\n",
    "        - docking 이 False면 break\n",
    "   - print(cnt)\n",
    "   \n",
    "- 피드백\n",
    "    - 이중반복문으로는 시간 초과가 나기 때문에, union-find 알고리즘을 이용해야 한다.\n",
    "    - 이중반복문에서는 아직 도킹되지 않은 게이트를 찾기 위해 희망 게이트부터 일일이 확인을 하지만, 해당 게이트가 막혔다면, 어느 게이트로 향하면 되는지 바로 알 수 있다면 시간을 대폭 단축 시킬 수 있을 것이다.\n",
    "    - 굳이 parent를 x-1로 하지 말고, x-1의 parent로 해도 된다는 점이 충격이었다. 세상에는 똑똑한 사람들이 많다."
   ]
  },
  {
   "cell_type": "code",
   "execution_count": null,
   "id": "b669474f",
   "metadata": {
    "ExecuteTime": {
     "end_time": "2022-02-28T06:14:32.097210Z",
     "start_time": "2022-02-28T06:14:30.142607Z"
    },
    "code_folding": [
     0
    ],
    "scrolled": false
   },
   "outputs": [],
   "source": [
    "# 내가 작성한 코드\n",
    "import sys\n",
    "g = int(input())\n",
    "p = int(input())\n",
    "gate_list = [False ] * g\n",
    "wish_list = []\n",
    "for _ in range(p):\n",
    "    wish_list.append(int(input()))\n",
    "    \n",
    "cnt = 0\n",
    "for wish in wish_list:\n",
    "    docking = False\n",
    "    for gate_index in range(wish-1,-1,-1):\n",
    "        if gate_list[gate_index] == False:\n",
    "            cnt += 1\n",
    "            gate_list[gate_index] = True\n",
    "            docking = True\n",
    "            break\n",
    "    if docking == False:\n",
    "        break\n",
    "print(cnt)"
   ]
  },
  {
   "cell_type": "code",
   "execution_count": 22,
   "id": "57b2d593",
   "metadata": {
    "ExecuteTime": {
     "end_time": "2022-02-28T06:04:50.434149Z",
     "start_time": "2022-02-28T06:04:46.459776Z"
    },
    "code_folding": []
   },
   "outputs": [
    {
     "name": "stdout",
     "output_type": "stream",
     "text": [
      "4\n",
      "6\n",
      "2\n",
      "2\n",
      "3\n",
      "3\n",
      "4\n",
      "4\n",
      "{0: 0, 1: 1, 2: 2, 3: 3, 4: 4} 2\n",
      "{0: 0, 1: 1, 2: 1, 3: 3, 4: 4} 1\n",
      "{0: 0, 1: 0, 2: 1, 3: 3, 4: 4} 3\n",
      "{0: 0, 1: 0, 2: 0, 3: 0, 4: 4} 0\n",
      "3\n"
     ]
    }
   ],
   "source": [
    "# 구글 검색 후 작성한 코드\n",
    "import sys\n",
    "g = int(input())\n",
    "p = int(input())\n",
    "\n",
    "wish_list = []\n",
    "for _ in range(p):\n",
    "    wish_list.append(int(sys.stdin.readline()))\n",
    "\n",
    "cnt = 0\n",
    "parent = {i: i for i in range(0, g+1)}\n",
    "    \n",
    "def find_set(x):\n",
    "    if x != parent[x]:\n",
    "        parent[x] = find_set(parent[x])\n",
    "    return parent[x]\n",
    "\n",
    "for wish in wish_list:\n",
    "    \n",
    "    result = find_set(wish)\n",
    "    if result == 0:\n",
    "        break\n",
    "    parent[result] = parent[result - 1]\n",
    "    cnt += 1\n",
    "    \n",
    "print(cnt)"
   ]
  },
  {
   "cell_type": "markdown",
   "id": "e3457737",
   "metadata": {},
   "source": [
    "# 42. BOJ - 크게 만들기"
   ]
  },
  {
   "cell_type": "markdown",
   "id": "a782c9fc",
   "metadata": {},
   "source": [
    "### 문제 해결 아이디어\n",
    "- 내가 생각한 아이디어\n",
    "    - 3개를 없애야하면, 앞의 4개 숫자 중에서 최댓값을 찾고, 최댓값에 해당하는 숫자들을 제외한 모든 숫자를 제거한다. \n",
    "    - 더 제거할 숫자가 남았다면, 남은 숫자들의 문자열에서 앞 (제거할 숫자 + 1)개 숫자 중에서 최댓값을 찾고, 최댓값에 해당하는 수자들을 제외한 모든 숫자를 제거한다.\n",
    "\n",
    "- 피드백\n",
    "    - 스택을 활용한다.\n",
    "    - 위의 과정을 잘라서 반복하는 것이 아니라 연속적으로 진행한다.\n",
    "    \n",
    "    - 첫번째 숫자부터 (for)\n",
    "        - 지울 기회가 남았고, 스택이 안비었고, 스택의 마지막 숫자가 넣으려는 숫자보다 작으면\n",
    "            - stack에서 pop하고\n",
    "            - 지울 기회 -= 1\n",
    "        - while문이 끝나면 append\n",
    "   \n",
    "   - 만약, 지울 일이 없었다면, 남은 지울 기회만큼 끝에서부터 잘라내면된다\n",
    "       - 그게 아니라 그냥 애초에 n-k개 만큼만 뽑을거니까, stack에 몇개가 남아있던 n-k번째 까지만 join시킨다... 천잰가?"
   ]
  },
  {
   "cell_type": "code",
   "execution_count": 8,
   "id": "9f1ab0df",
   "metadata": {
    "ExecuteTime": {
     "end_time": "2022-03-02T01:32:56.655804Z",
     "start_time": "2022-03-02T01:32:52.758216Z"
    }
   },
   "outputs": [
    {
     "name": "stdout",
     "output_type": "stream",
     "text": [
      "4 2\n",
      "1924\n",
      "94\n"
     ]
    }
   ],
   "source": [
    "n, k = map(int, input().split())\n",
    "string = list(input())\n",
    "\n",
    "stack = []\n",
    "\n",
    "for i in range(n):\n",
    "    while k > 0 and stack and stack[-1] < string[i]:\n",
    "        stack.pop()\n",
    "        k -= 1\n",
    "    stack.append(string[i])\n",
    "if k>0:\n",
    "    print(\"\".join(stack[:-k]))\n",
    "else:\n",
    "    print(\"\".join(stack))"
   ]
  },
  {
   "cell_type": "markdown",
   "id": "a898396d",
   "metadata": {},
   "source": [
    "# 43. BOJ - 컵홀더"
   ]
  },
  {
   "cell_type": "markdown",
   "id": "ce7a7a43",
   "metadata": {},
   "source": [
    "### 문제 해결 아이디어\n",
    "- 내가 생각한 아이디어\n",
    "    - cnt, avail(컵홀더 여유분), i(좌석 인덱스)\n",
    "    - 시작할때는 여유분이 True\n",
    "    - S인 경우, 그 사람의 왼쪽이나 오른쪽에 반드시 자신이 사용할 수 있는 컵홀더가 있기 때문에, avail에는 변화가 없고, cnt += 1, i += 1\n",
    "    - L인 경우, 왼쪽 L은 avail이 True면 cnt += 1하고 avail을 False로, 오른쪽L은 자신의 컵홀더가 있기에 avail에는 변화가 없고 cnt += 1, 두명이니 i += 2"
   ]
  },
  {
   "cell_type": "code",
   "execution_count": 16,
   "id": "20e26fbe",
   "metadata": {
    "ExecuteTime": {
     "end_time": "2022-03-02T01:58:00.671715Z",
     "start_time": "2022-03-02T01:57:56.003500Z"
    }
   },
   "outputs": [
    {
     "name": "stdout",
     "output_type": "stream",
     "text": [
      "9\n",
      "SLLLLSSLL\n",
      "7\n"
     ]
    }
   ],
   "source": [
    "n = int(input())\n",
    "string = input()\n",
    "cnt = 0\n",
    "avail = True\n",
    "i = 0\n",
    "while i < n:\n",
    "    person = string[i]\n",
    "    if person == \"S\":\n",
    "        cnt += 1\n",
    "        i += 1\n",
    "    else :\n",
    "        if avail:\n",
    "            cnt += 1\n",
    "            avail = False\n",
    "        cnt += 1\n",
    "        i += 2\n",
    "print(cnt)"
   ]
  },
  {
   "cell_type": "markdown",
   "id": "28ea137b",
   "metadata": {},
   "source": [
    "# 44. 카드 합체 놀이"
   ]
  },
  {
   "cell_type": "markdown",
   "id": "d25dc5d1",
   "metadata": {},
   "source": [
    "### 문제 해결 아이디어\n",
    "- 내가 생각한 아이디어\n",
    "     - min heap을 구성\n",
    "     - for m\n",
    "         - heappop 2번, 2개를 합친 값을 2개 min heap에 heappush."
   ]
  },
  {
   "cell_type": "code",
   "execution_count": 5,
   "id": "2a183251",
   "metadata": {},
   "outputs": [
    {
     "name": "stdout",
     "output_type": "stream",
     "text": [
      "4 2\n",
      "4 2 3 1\n",
      "19\n"
     ]
    }
   ],
   "source": [
    "import heapq\n",
    "n, m = map(int, input().split())\n",
    "ls = list(map(int, input().split()))\n",
    "\n",
    "heapq.heapify(ls)\n",
    "\n",
    "for _ in range(m):\n",
    "    first = heapq.heappop(ls)\n",
    "    second = heapq.heappop(ls)\n",
    "    merge = first + second\n",
    "    heapq.heappush(ls, merge)\n",
    "    heapq.heappush(ls, merge)\n",
    "\n",
    "print(sum(ls))"
   ]
  },
  {
   "cell_type": "markdown",
   "id": "12d69ff5",
   "metadata": {},
   "source": [
    "# 45. BOJ - 센서"
   ]
  },
  {
   "cell_type": "markdown",
   "id": "bf5e3efe",
   "metadata": {},
   "source": [
    "### 문제 해결 아이디어\n",
    "- 내가 생각한 아이디어\n",
    "    - 센서사이의 거리가 가장 짧은 것부터 하나의 집중국의 영역으로 묶는다. K개의 집중국영역으로 줄어들 때까지\n",
    "    - 센서 사이의 거리 중에서 가장 큰 (K-1)개를 제외한 나머지 거리들의 합. N - K 개의 가장 작은 거리들의 합."
   ]
  },
  {
   "cell_type": "code",
   "execution_count": 9,
   "id": "1e5886ef",
   "metadata": {},
   "outputs": [
    {
     "name": "stdout",
     "output_type": "stream",
     "text": [
      "10\n",
      "5\n",
      "20 3 14 6 7 8 18 10 12 15\n",
      "7\n"
     ]
    }
   ],
   "source": [
    "n = int(input())\n",
    "k = int(input())\n",
    "ls = list(map(int, input().split()))\n",
    "\n",
    "ls.sort()\n",
    "\n",
    "distance = []\n",
    "for i in range(1,n):\n",
    "    distance.append(ls[i]-ls[i-1])\n",
    "    \n",
    "distance.sort()\n",
    "\n",
    "print(sum(distance[:n-k]))"
   ]
  },
  {
   "cell_type": "markdown",
   "id": "ff9964e9",
   "metadata": {},
   "source": [
    "# 46. BOJ - 통나무 건너뛰기"
   ]
  },
  {
   "cell_type": "markdown",
   "id": "a14634c6",
   "metadata": {},
   "source": [
    "### 문제 해결 아이디어\n",
    "- 내가 생각한 아이디어\n",
    "    - 시작 통나무 지정\n",
    "    - 가장 절댓값 차이가 작은 왼쪽 통나무 지정, 그 다음 오른쪽 통나무 지정\n",
    "    - 최대 차이값과 비교하면서 계속해서 갱신\n",
    "    - 짝수인 경우, 마지막에 같은 통나무에 대해서 차이 계산 후 마무리\n",
    "    - 홀수인 경우, 마지막에 서로에 대해서 차이 계산 후 마무리\n",
    "- 피드백\n",
    "    - 정렬 후, 왼쪽과 오른쪽에 그 다음으로 순서의 통나무 들을 놓는 패턴을 반복하면, 인덱스 차이는 아무리 커도 2가 최대이다. 그렇기 떄문에, 정렬 후 index 차이가 2인 통나무들의 크기 차이의 max 값을 구하면 된다."
   ]
  },
  {
   "cell_type": "code",
   "execution_count": 3,
   "id": "c671665a",
   "metadata": {
    "ExecuteTime": {
     "end_time": "2022-03-05T05:25:55.594718Z",
     "start_time": "2022-03-05T05:25:49.351035Z"
    }
   },
   "outputs": [
    {
     "name": "stdout",
     "output_type": "stream",
     "text": [
      "1\n",
      "8\n",
      "6 6 6 6 6 6 6 6\n",
      "0\n"
     ]
    }
   ],
   "source": [
    "t = int(input())\n",
    "for _ in range(t):\n",
    "    l = int(input())\n",
    "    ls = list(map(int, input().split()))\n",
    "    ls.sort()\n",
    "    difficult = 0\n",
    "    for i in range(l-2):\n",
    "        difficult = max(ls[i+2] - ls[i], difficult)\n",
    "    print(difficult)"
   ]
  },
  {
   "cell_type": "markdown",
   "id": "cc86c210",
   "metadata": {},
   "source": [
    "# 47. BOJ - UCPC는 무엇의 약자일까?"
   ]
  },
  {
   "cell_type": "markdown",
   "id": "6bbbd03b",
   "metadata": {},
   "source": [
    "### 문제 해결 아이디어\n",
    "- 내가 생각한 아이디어\n",
    "    - U를 찾고, U 이후의 문자열부터 C를 찾는다.\n",
    "    - C를 찾고, C 이후의 문자열부터 P를 찾는다.\n",
    "    - P를 찾고, P 이후의 문자열 부터 C를 찾는다.\n",
    "    - 위 과정에서 찾지 못한 문자가 있으면, I hate UCPC를 print, 다 찾으면 I love UCPC를 출력한다."
   ]
  },
  {
   "cell_type": "code",
   "execution_count": 10,
   "id": "08b0b23e",
   "metadata": {
    "ExecuteTime": {
     "end_time": "2022-03-05T05:43:52.526125Z",
     "start_time": "2022-03-05T05:43:51.917227Z"
    }
   },
   "outputs": [
    {
     "name": "stdout",
     "output_type": "stream",
     "text": [
      "Union of Computer Programming Contest club contest\n",
      "0 8 8 11\n",
      "I love UCPC\n"
     ]
    }
   ],
   "source": [
    "string = input()\n",
    "\n",
    "def printUCPC(number):\n",
    "    if number < 0:\n",
    "        print(\"I hate UCPC\")\n",
    "        return True\n",
    "    return False\n",
    "\n",
    "def solution(string):\n",
    "    first = string.find(\"U\")\n",
    "    if printUCPC(first):\n",
    "        return\n",
    "    second = string[first+1:].find(\"C\")\n",
    "    if printUCPC(second):\n",
    "        return\n",
    "    third = string[first+second+2:].find(\"P\")\n",
    "    if printUCPC(third):\n",
    "        return\n",
    "    last = string[first+second+third+3:].find(\"C\")\n",
    "    if printUCPC(last):\n",
    "        return\n",
    "    print(\"I love UCPC\")\n",
    "\n",
    "solution(string)    "
   ]
  },
  {
   "cell_type": "markdown",
   "id": "73f76e53",
   "metadata": {},
   "source": [
    "# 48. BOJ - 폴리오미노"
   ]
  },
  {
   "cell_type": "markdown",
   "id": "753f5e46",
   "metadata": {},
   "source": [
    "### 문제 해결 아이디어\n",
    "- 내가 생각한 아이디어\n",
    "    - answer = \"\"\n",
    "    - flag = True\n",
    "    - for 문자열을 .으로 split한 list의 요소들 중에서\n",
    "        - 연속된 X가 홀수개라면 flag를 False로 하고 break\n",
    "        - 아니라면, answer에 4로 나눈 몫만큼 AAAA, 나머지가 있다면 BB를 붙인다.\n",
    "        - answer에 .을 붙인다.\n",
    "    - flag가 True라면, answer의 맨 끝 . 을 제외한 나머지를 print한다"
   ]
  },
  {
   "cell_type": "code",
   "execution_count": 26,
   "id": "5332fa79",
   "metadata": {
    "ExecuteTime": {
     "end_time": "2022-03-05T06:04:16.694717Z",
     "start_time": "2022-03-05T06:04:16.190013Z"
    }
   },
   "outputs": [
    {
     "name": "stdout",
     "output_type": "stream",
     "text": [
      "XX.XXXXXXXXXX..XXXXXXXX...XXXXXX\n",
      "BB.AAAAAAAABB..AAAAAAAA...AAAABB\n"
     ]
    }
   ],
   "source": [
    "board = input()\n",
    "answer = \"\"\n",
    "flag = True\n",
    "for element in board.split(\".\"):\n",
    "    if len(element)%2:\n",
    "        flag = False\n",
    "        print(-1)\n",
    "        break\n",
    "    quo, rem = divmod(len(element), 4)\n",
    "    answer = answer + \"AAAA\" * quo\n",
    "    if rem:\n",
    "        answer = answer + \"BB\"\n",
    "    answer = answer + \".\"\n",
    "if flag:\n",
    "    print(answer[:-1])"
   ]
  },
  {
   "cell_type": "markdown",
   "id": "6c3fdebe",
   "metadata": {},
   "source": [
    "# 49. BOJ - 주사위"
   ]
  },
  {
   "cell_type": "markdown",
   "id": "f2cfbf6e",
   "metadata": {},
   "source": [
    "### 문제 해결 아이디어\n",
    "- 내가 생각한 아이디어\n",
    "    - n이 1인 경우 : sum(list) - max(list)\n",
    "    - else:\n",
    "        - 주사위 종류\n",
    "            - 1면 노출 :  (n^2 - (3n-2)) * 4 + (n-2)^2\n",
    "            - 2면 노출 : (n-1) * 4 + (n-2) * 4\n",
    "            - 3면 노출 : 4\n",
    "        - 주사위 갯수\n",
    "            - 2면 노출 조합 : 12개 (모서리 갯수)\n",
    "            - 3면 노출 조합 : 8개 (꼭짓점 갯수)\n",
    "    "
   ]
  },
  {
   "cell_type": "code",
   "execution_count": 38,
   "id": "36fae055",
   "metadata": {
    "ExecuteTime": {
     "end_time": "2022-03-05T06:35:35.301577Z",
     "start_time": "2022-03-05T06:35:30.693711Z"
    }
   },
   "outputs": [
    {
     "name": "stdout",
     "output_type": "stream",
     "text": [
      "1\n",
      "1 2 3 4 5 6\n",
      "15\n"
     ]
    }
   ],
   "source": [
    "import sys\n",
    "n = int(input())\n",
    "a, b, c, d, e, f = map(int, input().split())\n",
    "if n == 1:\n",
    "    print(sum([a,b,c,d,e,f]) - max([a,b,c,d,e,f]))\n",
    "else : \n",
    "    one = min([a,b,c,d,e,f])\n",
    "    two = min([a+b, a+c, a+d, a+e, b+c, b+d, b+f, c+e, c+f, d+e, d+f, e+f])\n",
    "    three = min([a+b+c, a+b+d, a+c+e, a+d+e, f+b+c, f+b+d, f+c+e, f+d+e])\n",
    "    print(4*three + (8*n-12)*two + (5 * n ** 2 - 16 * n + 12) * one)"
   ]
  },
  {
   "cell_type": "markdown",
   "id": "086aa9f4",
   "metadata": {},
   "source": [
    "# 50. BOJ - 배"
   ]
  },
  {
   "cell_type": "markdown",
   "id": "6d01b40c",
   "metadata": {},
   "source": [
    "### 문제 해결 아이디어\n",
    "- 내가 생각한 아이디어\n",
    "    - 가장 제한이 높은 크레인이, 가장 무거운 화물부터 움직여본다.\n",
    "    - 화물은 .sort(reverse=True)\n",
    "    - 크레인은 .sort(reverse=True)\n",
    "    - cnt = 0, flag = True\n",
    "    - 가장 제한이 높은 크레인보다 화물이 무겁다면 print(-1)\n",
    "    - 아니라면,\n",
    "        - whlie 화물이 남아 있을 때,\n",
    "            - cnt += 1\n",
    "            - 가장 제한이 높은 크레인부터\n",
    "                - 가장 무거운 화물을 움직일 수 있다면, 그 화물을 del\n",
    "        - print(cnt)"
   ]
  },
  {
   "cell_type": "code",
   "execution_count": 57,
   "id": "59411f63",
   "metadata": {
    "ExecuteTime": {
     "end_time": "2022-03-05T07:10:46.630302Z",
     "start_time": "2022-03-05T07:10:43.299518Z"
    }
   },
   "outputs": [
    {
     "name": "stdout",
     "output_type": "stream",
     "text": [
      "1\n",
      "10\n",
      "3\n",
      "10 10 10\n",
      "3\n"
     ]
    }
   ],
   "source": [
    "n = int(input())\n",
    "crains = list(map(int, input().split()))\n",
    "m = int(input())\n",
    "cargo = list(map(int, input().split()))\n",
    "cargo.sort(reverse=True)\n",
    "crains.sort(reverse=True)\n",
    "cargocheck = [True] * m\n",
    "\n",
    "cnt = 0\n",
    "flag = True\n",
    "\n",
    "if max(cargo) > max(crains):\n",
    "    print(-1)\n",
    "    \n",
    "else:\n",
    "    while cargo:\n",
    "        cnt += 1\n",
    "        for crain in crains:\n",
    "            for idx, item in enumerate(cargo):\n",
    "                if crain >= item:\n",
    "                    del cargo[idx]\n",
    "                    break\n",
    "    print(cnt)"
   ]
  },
  {
   "cell_type": "markdown",
   "id": "49d3aab0",
   "metadata": {},
   "source": [
    "# 프로그래머스 - 체육복 (재시도, 복습)"
   ]
  },
  {
   "cell_type": "markdown",
   "id": "00fb3899",
   "metadata": {},
   "source": [
    "### 문제 해결 아이디어\n",
    "- 내가 생각한 아이디어\n",
    "    - 여벌을 가져온 학생이 도난당한 경우는, 일반 학생과 똑같기 때문에, lost와 reserve에서 set을 이용해 모두 제거해 준다.\n",
    "    - 둘다 sort\n",
    "    - index = 0\n",
    "    - cnt = 0 \n",
    "    - for 잃어버린 학생 in lost:\n",
    "        - reserve의 index번째가 잃어버린학생+1 이하인 동안,\n",
    "            - reserve의 index번째가 잃어버린 학생-1 또는 +1이라면\n",
    "                - cnt += 1\n",
    "                - break\n",
    "            - index += 1\n",
    "    - print( n - len(lost) + cnt)"
   ]
  },
  {
   "cell_type": "code",
   "execution_count": 13,
   "id": "86b73827",
   "metadata": {
    "ExecuteTime": {
     "end_time": "2022-03-05T08:40:12.174215Z",
     "start_time": "2022-03-05T08:40:12.163882Z"
    }
   },
   "outputs": [],
   "source": [
    "def solution(n, lost, reserve):\n",
    "    lost, reserve = list(set(lost) - set(reserve)), list(set(reserve)- set(lost))\n",
    "    lost.sort()\n",
    "    reserve.sort()\n",
    "    cnt = 0\n",
    "    for student in lost:\n",
    "        if student -1 in reserve:\n",
    "            reserve.remove(student-1)\n",
    "            cnt += 1\n",
    "        elif student +1 in reserve:\n",
    "            reserve.remove(student+1)\n",
    "            cnt += 1\n",
    "    return (n - len(lost) + cnt)"
   ]
  },
  {
   "cell_type": "code",
   "execution_count": 14,
   "id": "fa23fa99",
   "metadata": {
    "ExecuteTime": {
     "end_time": "2022-03-05T08:40:12.719411Z",
     "start_time": "2022-03-05T08:40:12.699157Z"
    }
   },
   "outputs": [
    {
     "data": {
      "text/plain": [
       "3"
      ]
     },
     "execution_count": 14,
     "metadata": {},
     "output_type": "execute_result"
    }
   ],
   "source": [
    "solution(5, [1,2,3], [3,4,5])"
   ]
  },
  {
   "cell_type": "code",
   "execution_count": null,
   "id": "1f5e0574",
   "metadata": {},
   "outputs": [],
   "source": [
    "def solution(n, lost, reserve):\n",
    "    lost, reserve = list(set(lost) - set(reserve)), list(set(reserve)- set(lost))\n",
    "    lost.sort()\n",
    "    reserve.sort()\n",
    "    index = 0\n",
    "    cnt = 0\n",
    "    for student in lost:\n",
    "        while index < len(reserve) and reserve[index] <= student+1:\n",
    "            if abs(reserve[index]-student) == 1:\n",
    "                index += 1\n",
    "                cnt += 1\n",
    "                break\n",
    "            index += 1\n",
    "    return (n - len(lost) + cnt)"
   ]
  },
  {
   "cell_type": "markdown",
   "id": "93d3df14",
   "metadata": {},
   "source": [
    "# 프로그래머스 - 큰 수 만들기 (재시도, 복습)"
   ]
  },
  {
   "cell_type": "markdown",
   "id": "aea8edab",
   "metadata": {},
   "source": [
    "### 문제 해결 아이디어\n",
    "- 내가 생각한 아이디어\n",
    "    - 높은 자릿수의 숫자가 커져야 수가 가장 커지기 때문에, 앞에서부터 최대한 큰 수만을 남기는 방식으로 진행한다. stack으로 구현한다.\n",
    "    - stack = []\n",
    "    - for 숫자 in 문자열:\n",
    "        - 제거할 기회가 남아있고, stack에 무엇인가 존재하고, 넣으려는 숫자보다 stack의 마지막 숫자가 작으면,\n",
    "            - stack에서 pop을 하고, k -= 1\n",
    "        - stack에 숫자를 append\n",
    "    - stack에 있는 숫자들을 join하고 n-k번째까지 잘라낸다. (제거할 기회가 남아있는 경우, 끝의 k개를 잘라낸다. n 은 문자열의 길이. 그냥 -k로 할 경우 k가 0일때 문제가 된다)\n",
    "    "
   ]
  },
  {
   "cell_type": "code",
   "execution_count": 15,
   "id": "fb2a5716",
   "metadata": {
    "ExecuteTime": {
     "end_time": "2022-03-05T09:15:52.002204Z",
     "start_time": "2022-03-05T09:15:51.968060Z"
    }
   },
   "outputs": [],
   "source": [
    "def solution(number, k):\n",
    "    n = len(number)\n",
    "    stack = []\n",
    "    for num in number:\n",
    "        while k > 0 and stack and num > stack[-1]:\n",
    "            stack.pop()\n",
    "            k -= 1\n",
    "        stack.append(num)\n",
    "    return \"\".join(stack)[:n-k]"
   ]
  },
  {
   "cell_type": "markdown",
   "id": "1bd289a2",
   "metadata": {},
   "source": [
    "# 프로그래머스 - 구명보트 (재시도, 복습)"
   ]
  },
  {
   "cell_type": "markdown",
   "id": "0929f83e",
   "metadata": {},
   "source": [
    "### 문제 해결 아이디어\n",
    "- 내가 생각한 아이디어\n",
    "    - 오름차순으로 정렬\n",
    "    - start = 0\n",
    "    - end = len(people) -1\n",
    "    - cnt = 0\n",
    "    - while end > start:\n",
    "        - 만약 제일 무거운 사람이 limit/2 이하이면,\n",
    "            - cnt += 남은 사람 / 2의 올림, break\n",
    "        - 만약 제일 무거운 사람과 가벼운 사람의 합이 limit 이하라면,\n",
    "            - start += 1\n",
    "        - cnt += 1\n",
    "        - end -= 1\n",
    "    - 만약 end == start면,\n",
    "        - cnt += 1\n",
    "    - return cnt"
   ]
  },
  {
   "cell_type": "code",
   "execution_count": 16,
   "id": "4f5f370a",
   "metadata": {
    "ExecuteTime": {
     "end_time": "2022-03-05T09:28:15.473422Z",
     "start_time": "2022-03-05T09:28:15.448677Z"
    }
   },
   "outputs": [],
   "source": [
    "import numpy as np\n",
    "def solution(people, limit):\n",
    "    people.sort()\n",
    "    start = 0\n",
    "    end = len(people) -1\n",
    "    cnt = 0\n",
    "    while end > start:\n",
    "        if people[end] <= limit/2:\n",
    "            cnt += np.ceil((end - start + 1)/2)\n",
    "            break\n",
    "        if people[end] + people[start] <= limit:\n",
    "            start += 1\n",
    "        cnt += 1\n",
    "        end -= 1\n",
    "    if end == start:\n",
    "        cnt += 1\n",
    "    return cnt"
   ]
  },
  {
   "cell_type": "markdown",
   "id": "ee4c09fa",
   "metadata": {},
   "source": [
    "# "
   ]
  }
 ],
 "metadata": {
  "kernelspec": {
   "display_name": "Python 3",
   "language": "python",
   "name": "python3"
  },
  "language_info": {
   "codemirror_mode": {
    "name": "ipython",
    "version": 3
   },
   "file_extension": ".py",
   "mimetype": "text/x-python",
   "name": "python",
   "nbconvert_exporter": "python",
   "pygments_lexer": "ipython3",
   "version": "3.8.8"
  },
  "toc": {
   "base_numbering": 1,
   "nav_menu": {},
   "number_sections": false,
   "sideBar": true,
   "skip_h1_title": false,
   "title_cell": "Table of Contents",
   "title_sidebar": "Contents",
   "toc_cell": false,
   "toc_position": {},
   "toc_section_display": true,
   "toc_window_display": false
  }
 },
 "nbformat": 4,
 "nbformat_minor": 5
}
