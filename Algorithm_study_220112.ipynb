{
 "cells": [
  {
   "cell_type": "markdown",
   "id": "6349650a",
   "metadata": {},
   "source": [
    "# 신규 아이디 추천"
   ]
  },
  {
   "cell_type": "code",
   "execution_count": 16,
   "id": "48634f93",
   "metadata": {
    "ExecuteTime": {
     "end_time": "2022-01-12T05:33:22.782232Z",
     "start_time": "2022-01-12T05:33:22.770264Z"
    }
   },
   "outputs": [],
   "source": [
    "import re\n",
    "\n",
    "def solution(new_id):\n",
    "    # 대문자를 소문자로\n",
    "    new_id = new_id.lower()\n",
    "    \n",
    "    # 조건 외의 모든 문자를 문자열에서 제거\n",
    "    new_id = re.sub(\"[^a-z0-9-_.]\",\"\",new_id)\n",
    "    \n",
    "    # 앞뒤에서 '.' 제거\n",
    "    new_id = new_id.strip('.')\n",
    "\n",
    "    # 내부에 있는 다중 온점을 하나의 온점으로 치환\n",
    "    new_id = re.sub(\"\\.+\",\".\",new_id)\n",
    "\n",
    "    # 빈 문자열이라면 a를 대입, 아니라면 15자까지 자른다\n",
    "    new_id = 'a' if len(new_id) == 0 else new_id[:15]\n",
    "    \n",
    "    # 앞뒤에서 '.' 제거\n",
    "    new_id = new_id.strip('.')\n",
    "    \n",
    "    # 3글자 미만인 경우 마지막 글자를 3글자가 되도록 반복시켜서 더한다\n",
    "    return new_id if len(new_id)>= 3 else new_id + (new_id[-1] * (3 -len(new_id)))"
   ]
  }
 ],
 "metadata": {
  "kernelspec": {
   "display_name": "Python 3",
   "language": "python",
   "name": "python3"
  },
  "language_info": {
   "codemirror_mode": {
    "name": "ipython",
    "version": 3
   },
   "file_extension": ".py",
   "mimetype": "text/x-python",
   "name": "python",
   "nbconvert_exporter": "python",
   "pygments_lexer": "ipython3",
   "version": "3.8.8"
  },
  "toc": {
   "base_numbering": 1,
   "nav_menu": {},
   "number_sections": false,
   "sideBar": true,
   "skip_h1_title": false,
   "title_cell": "Table of Contents",
   "title_sidebar": "Contents",
   "toc_cell": false,
   "toc_position": {},
   "toc_section_display": true,
   "toc_window_display": true
  }
 },
 "nbformat": 4,
 "nbformat_minor": 5
}
