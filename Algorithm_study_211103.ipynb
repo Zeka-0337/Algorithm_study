{
 "cells": [
  {
   "cell_type": "markdown",
   "id": "5e1cef84",
   "metadata": {},
   "source": [
    "# 최대공약수와 최소공배수"
   ]
  },
  {
   "cell_type": "code",
   "execution_count": 4,
   "id": "603adc42",
   "metadata": {
    "ExecuteTime": {
     "end_time": "2021-10-15T04:16:35.826908Z",
     "start_time": "2021-10-15T04:16:35.808739Z"
    }
   },
   "outputs": [],
   "source": [
    "# 최대공약수와 최소공배수\n",
    "def solution(n, m):\n",
    "    return [int(max([i for i in range(1, min(n,m)+1) if (n%i ==0 and m%i ==0)])),\\\n",
    "           int(n*m/max([i for i in range(1, min(n,m)+1) if (n%i ==0 and m%i ==0)]))]"
   ]
  },
  {
   "cell_type": "code",
   "execution_count": 5,
   "id": "ec10bdf3",
   "metadata": {
    "ExecuteTime": {
     "end_time": "2021-10-15T04:16:35.975642Z",
     "start_time": "2021-10-15T04:16:35.959693Z"
    }
   },
   "outputs": [
    {
     "data": {
      "text/plain": [
       "[3, 12]"
      ]
     },
     "execution_count": 5,
     "metadata": {},
     "output_type": "execute_result"
    }
   ],
   "source": [
    "solution(3,12)"
   ]
  },
  {
   "cell_type": "code",
   "execution_count": 6,
   "id": "19388003",
   "metadata": {
    "ExecuteTime": {
     "end_time": "2021-10-15T04:16:43.888435Z",
     "start_time": "2021-10-15T04:16:43.878970Z"
    }
   },
   "outputs": [
    {
     "data": {
      "text/plain": [
       "[1, 10]"
      ]
     },
     "execution_count": 6,
     "metadata": {},
     "output_type": "execute_result"
    }
   ],
   "source": [
    "solution(2,5)"
   ]
  },
  {
   "cell_type": "markdown",
   "id": "a2653e6e",
   "metadata": {},
   "source": [
    "# 숫자 문자열과 영단어"
   ]
  },
  {
   "cell_type": "code",
   "execution_count": 7,
   "id": "704e1104",
   "metadata": {
    "ExecuteTime": {
     "end_time": "2021-10-15T04:16:46.890618Z",
     "start_time": "2021-10-15T04:16:46.878006Z"
    }
   },
   "outputs": [],
   "source": [
    "# 숫자 문자열과 영단어\n",
    "def solution(s):\n",
    "    nums_dict = {\n",
    "    'one' : 1,\n",
    "    'two' : 2,\n",
    "    'three' : 3,\n",
    "    'four' : 4,\n",
    "    'five' : 5,\n",
    "    'six' : 6,\n",
    "    'seven' : 7,\n",
    "    'eight' : 8,\n",
    "    'nine' : 9,\n",
    "    'zero' : 0, \n",
    "    }\n",
    "    for key,value in nums_dict.items():\n",
    "            s = s.replace(key, str(value))\n",
    "    return int(s)"
   ]
  },
  {
   "cell_type": "code",
   "execution_count": 8,
   "id": "ac1c8df0",
   "metadata": {
    "ExecuteTime": {
     "end_time": "2021-10-15T04:17:15.450947Z",
     "start_time": "2021-10-15T04:17:15.439325Z"
    }
   },
   "outputs": [
    {
     "data": {
      "text/plain": [
       "1478"
      ]
     },
     "execution_count": 8,
     "metadata": {},
     "output_type": "execute_result"
    }
   ],
   "source": [
    "solution(\"one4seveneight\")"
   ]
  },
  {
   "cell_type": "code",
   "execution_count": 9,
   "id": "e98a5003",
   "metadata": {
    "ExecuteTime": {
     "end_time": "2021-10-15T04:17:26.341295Z",
     "start_time": "2021-10-15T04:17:26.328310Z"
    }
   },
   "outputs": [
    {
     "data": {
      "text/plain": [
       "234567"
      ]
     },
     "execution_count": 9,
     "metadata": {},
     "output_type": "execute_result"
    }
   ],
   "source": [
    "solution(\"23four5six7\")"
   ]
  },
  {
   "cell_type": "code",
   "execution_count": 10,
   "id": "7c1a15bf",
   "metadata": {
    "ExecuteTime": {
     "end_time": "2021-10-15T04:17:35.312811Z",
     "start_time": "2021-10-15T04:17:35.299103Z"
    }
   },
   "outputs": [
    {
     "data": {
      "text/plain": [
       "234567"
      ]
     },
     "execution_count": 10,
     "metadata": {},
     "output_type": "execute_result"
    }
   ],
   "source": [
    "solution(\"2three45sixseven\")"
   ]
  },
  {
   "cell_type": "code",
   "execution_count": 11,
   "id": "4e687a04",
   "metadata": {
    "ExecuteTime": {
     "end_time": "2021-10-15T04:17:40.958372Z",
     "start_time": "2021-10-15T04:17:40.937732Z"
    }
   },
   "outputs": [
    {
     "data": {
      "text/plain": [
       "123"
      ]
     },
     "execution_count": 11,
     "metadata": {},
     "output_type": "execute_result"
    }
   ],
   "source": [
    "solution(\"123\")"
   ]
  },
  {
   "cell_type": "markdown",
   "id": "a0ef1d01",
   "metadata": {},
   "source": [
    "# 소수찾기"
   ]
  },
  {
   "cell_type": "code",
   "execution_count": 13,
   "id": "08a1b4f1",
   "metadata": {
    "ExecuteTime": {
     "end_time": "2021-10-15T04:18:08.405204Z",
     "start_time": "2021-10-15T04:18:08.388509Z"
    }
   },
   "outputs": [],
   "source": [
    "# 소수 찾기\n",
    "import numpy as np\n",
    "# 1차 시도 :\n",
    "def solution(n):\n",
    "    return len([i for i in range(2,n+1) if len([j for j in range(1,i) if i%j ==0]) == 1])\n",
    "# n차 시도 :\n",
    "def solution(n):\n",
    "    arr = [True] * (n+1)\n",
    "    for i in range(2,int(np.sqrt(n)+1)):\n",
    "        if arr[i] == True:\n",
    "            j = 2\n",
    "\n",
    "            while i*j<=n:\n",
    "                arr[i*j] = False\n",
    "                j+=1\n",
    "    return arr.count(True) -2"
   ]
  },
  {
   "cell_type": "code",
   "execution_count": 14,
   "id": "329a2ab2",
   "metadata": {
    "ExecuteTime": {
     "end_time": "2021-10-15T04:18:28.017461Z",
     "start_time": "2021-10-15T04:18:27.887134Z"
    }
   },
   "outputs": [
    {
     "data": {
      "text/plain": [
       "9592"
      ]
     },
     "execution_count": 14,
     "metadata": {},
     "output_type": "execute_result"
    }
   ],
   "source": [
    "solution(100000)"
   ]
  },
  {
   "cell_type": "markdown",
   "id": "3cce6bd1",
   "metadata": {
    "ExecuteTime": {
     "end_time": "2021-10-15T04:18:45.131240Z",
     "start_time": "2021-10-15T04:18:45.110071Z"
    }
   },
   "source": [
    "## 코드 설명 및 피드백\n",
    "- 소수 찾기 (n차 시도) : list나 array형태로 소수를 체크/보관 하려고 했으나, 애초에 그것 자체가 연산시간을 소모하기 때문에, 그냥 소수인지 아닌지에 대한 여부(T/F)를 담고 있는 array로 진행했다.\n",
    "- 또한, 특정 수가 소수인지 아닌지를 따지기 위해서는, 그 수의 제곱근까지만 확인해보면 되기에, n의 제곱근까지만 소수들의 배수를 제거하면, n까지의 숫자중의 모든 소수가 아닌수가 제거된다."
   ]
  },
  {
   "cell_type": "code",
   "execution_count": null,
   "id": "4e11b46f",
   "metadata": {},
   "outputs": [],
   "source": []
  }
 ],
 "metadata": {
  "kernelspec": {
   "display_name": "Python 3",
   "language": "python",
   "name": "python3"
  },
  "language_info": {
   "codemirror_mode": {
    "name": "ipython",
    "version": 3
   },
   "file_extension": ".py",
   "mimetype": "text/x-python",
   "name": "python",
   "nbconvert_exporter": "python",
   "pygments_lexer": "ipython3",
   "version": "3.8.8"
  },
  "toc": {
   "base_numbering": 1,
   "nav_menu": {},
   "number_sections": false,
   "sideBar": true,
   "skip_h1_title": false,
   "title_cell": "Table of Contents",
   "title_sidebar": "Contents",
   "toc_cell": false,
   "toc_position": {},
   "toc_section_display": true,
   "toc_window_display": true
  }
 },
 "nbformat": 4,
 "nbformat_minor": 5
}
