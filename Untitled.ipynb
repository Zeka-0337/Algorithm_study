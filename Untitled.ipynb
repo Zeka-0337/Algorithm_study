{
 "cells": [
  {
   "cell_type": "markdown",
   "id": "c7100c80",
   "metadata": {},
   "source": [
    "# [백준, 파이썬] 로또, Brute Force\n",
    "## 문제 해결 아이디어\n",
    "- 내가 생각한 아이디어\n",
    "    - 모음 리스트와 자음 리스트로 분리한 후에, 조건에 부합한 모든 조합을 계산한다"
   ]
  },
  {
   "cell_type": "code",
   "execution_count": 11,
   "id": "6bef8358",
   "metadata": {
    "ExecuteTime": {
     "end_time": "2022-03-08T07:02:46.471332Z",
     "start_time": "2022-03-08T07:02:41.055348Z"
    }
   },
   "outputs": [
    {
     "name": "stdout",
     "output_type": "stream",
     "text": [
      "4 6\n",
      "a t c i s w\n"
     ]
    }
   ],
   "source": [
    "from itertools import combinations\n",
    "L, C = map(int, input().split())\n",
    "consonant = list(input().split())\n",
    "vowel = []\n",
    "for alphabet in ['a', 'e', 'i', 'o', 'u']:\n",
    "    if alphabet in consonant :\n",
    "        consonant.remove(alphabet)\n",
    "        vowel.append(alphabet) \n",
    "\n",
    "answer = []\n",
    "for i in range(1, min(len(vowel)+1, L-1)):\n",
    "    for case1 in list(combinations(vowel, i)):\n",
    "        for case2 in list(combinations(consonant, L-i)):\n",
    "            tmp = list(case1 + case2)\n",
    "            tmp.sort()\n",
    "            answer.append(\"\".join(tmp))\n",
    "\n",
    "answer.sort()\n",
    "for ans in answer:\n",
    "    print(ans)"
   ]
  },
  {
   "cell_type": "code",
   "execution_count": 13,
   "id": "0faaee41",
   "metadata": {
    "ExecuteTime": {
     "end_time": "2022-03-08T07:03:01.387465Z",
     "start_time": "2022-03-08T07:03:01.369990Z"
    }
   },
   "outputs": [
    {
     "name": "stdout",
     "output_type": "stream",
     "text": [
      "acis\n",
      "acit\n",
      "aciw\n",
      "acst\n",
      "acsw\n",
      "actw\n",
      "aist\n",
      "aisw\n",
      "aitw\n",
      "astw\n",
      "cist\n",
      "cisw\n",
      "citw\n",
      "istw\n"
     ]
    }
   ],
   "source": [
    "answer = []\n",
    "for i in range(1, min(len(vowel)+1, L-1)):\n",
    "    for case1 in list(combinations(vowel, i)):\n",
    "        for case2 in list(combinations(consonant, L-i)):\n",
    "            tmp = list(case1 + case2)\n",
    "            tmp.sort()\n",
    "            answer.append(\"\".join(tmp))\n",
    "\n",
    "answer.sort()\n",
    "for ans in answer:\n",
    "    print(ans)"
   ]
  },
  {
   "cell_type": "code",
   "execution_count": null,
   "id": "70932f77",
   "metadata": {},
   "outputs": [],
   "source": []
  }
 ],
 "metadata": {
  "kernelspec": {
   "display_name": "Python 3",
   "language": "python",
   "name": "python3"
  },
  "language_info": {
   "codemirror_mode": {
    "name": "ipython",
    "version": 3
   },
   "file_extension": ".py",
   "mimetype": "text/x-python",
   "name": "python",
   "nbconvert_exporter": "python",
   "pygments_lexer": "ipython3",
   "version": "3.8.8"
  },
  "toc": {
   "base_numbering": 1,
   "nav_menu": {},
   "number_sections": false,
   "sideBar": true,
   "skip_h1_title": false,
   "title_cell": "Table of Contents",
   "title_sidebar": "Contents",
   "toc_cell": false,
   "toc_position": {},
   "toc_section_display": true,
   "toc_window_display": false
  }
 },
 "nbformat": 4,
 "nbformat_minor": 5
}
