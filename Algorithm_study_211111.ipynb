{
 "cells": [
  {
   "cell_type": "markdown",
   "id": "420b8ff6",
   "metadata": {},
   "source": [
    "# 소수 조합 개수"
   ]
  },
  {
   "cell_type": "code",
   "execution_count": 204,
   "id": "afa1c6a9",
   "metadata": {
    "ExecuteTime": {
     "end_time": "2021-11-11T13:05:43.767021Z",
     "start_time": "2021-11-11T13:05:43.735403Z"
    }
   },
   "outputs": [],
   "source": [
    "from itertools import combinations\n",
    "nums = [1,2,3,4]\n",
    "ls = (list(map(sum,list(combinations(nums,3)))))\n",
    "cnt = 0\n",
    "for num in ls:\n",
    "    cnt += check(num)\n",
    "def check(n):\n",
    "    for i in range(2,int(np.sqrt(n))+1):\n",
    "        if n % i == 0:\n",
    "            return False\n",
    "    else:\n",
    "        return True"
   ]
  },
  {
   "cell_type": "markdown",
   "id": "b33b170d",
   "metadata": {
    "ExecuteTime": {
     "end_time": "2021-11-11T10:06:57.837455Z",
     "start_time": "2021-11-11T10:06:57.832064Z"
    }
   },
   "source": [
    "# 배달가능한 마을 갯수"
   ]
  },
  {
   "cell_type": "code",
   "execution_count": 203,
   "id": "f47e5034",
   "metadata": {
    "ExecuteTime": {
     "end_time": "2021-11-11T12:24:28.358972Z",
     "start_time": "2021-11-11T12:24:28.329963Z"
    }
   },
   "outputs": [
    {
     "name": "stdout",
     "output_type": "stream",
     "text": [
      "{1: [[2, 1], [4, 2]], 2: [[1, 1], [3, 3], [5, 2]], 3: [[2, 3], [5, 1]], 4: [[1, 2], [5, 2]], 5: [[2, 2], [3, 1], [4, 2]]}\n",
      "[0, 0, 1, 4, 2, 3]\n",
      "Answer :  5\n"
     ]
    }
   ],
   "source": [
    "N = 5\n",
    "road = [[1,2,1],[2,3,3],[5,2,2],[1,4,2],[5,3,1],[5,4,2]]\n",
    "K = 3\n",
    "\n",
    "map_dict = {}\n",
    "for i in range(1,N+1):\n",
    "    map_dict[i] = []\n",
    "    \n",
    "for r in road:\n",
    "    map_dict[r[0]].append([r[1],r[2]])\n",
    "    map_dict[r[1]].append([r[0],r[2]])\n",
    "print(map_dict)\n",
    "\n",
    "dist = [0 for _ in range(N+1)]\n",
    "\n",
    "def move(n,dist,map_dict):\n",
    "    \n",
    "    for r in map_dict[n]:\n",
    "        next_town = r[0]\n",
    "        taking_time = r[1] + dist[n]\n",
    "        if next_town != 1 and (taking_time < dist[next_town] or dist[next_town] == 0):\n",
    "                dist[next_town] = taking_time\n",
    "                move(next_town, dist, map_dict)\n",
    "                \n",
    "move(1,dist,map_dict)\n",
    "print(dist)\n",
    "\n",
    "cnt = 0\n",
    "for num in dist:\n",
    "    if num <= K :\n",
    "        cnt += 1\n",
    "print(\"Answer : \", cnt)"
   ]
  },
  {
   "cell_type": "markdown",
   "id": "0634353c",
   "metadata": {},
   "source": [
    "# 치킨거리"
   ]
  },
  {
   "cell_type": "code",
   "execution_count": null,
   "id": "a31a9b8e",
   "metadata": {
    "ExecuteTime": {
     "end_time": "2021-11-11T12:05:36.769654Z",
     "start_time": "2021-11-11T12:05:34.536Z"
    }
   },
   "outputs": [],
   "source": [
    "from itertools import combinations\n",
    "\n",
    "# 입력 받기\n",
    "N, M = map(int, input().split())\n",
    "home = []\n",
    "store = []\n",
    "# 가정집과 치킨집의 좌표 입력\n",
    "for i in range(N):\n",
    "    ls = list(map(int, input().split()))\n",
    "    for idx, point in enumerate(ls):\n",
    "        if point == 1:\n",
    "            home.append([i,idx])\n",
    "        if point == 2:\n",
    "            store.append([i,idx])\n",
    "\n",
    "# 치킨집 별 치킨거리 리스트 만들기\n",
    "dist = [[] for _ in range(len(store))]\n",
    "for idx, s in enumerate(store):\n",
    "    for h in home:\n",
    "        dist[idx].append(abs(s[0]-h[0]) + abs(s[1]-h[1]))\n",
    "\n",
    "# M개의 치킨집 인덱스 조합\n",
    "selection = list(combinations(list(range(len(store))),M))\n",
    "\n",
    "\n",
    "Min = 0\n",
    "\n",
    "for select in selection:\n",
    "    # 골라진 M개의 치킨집\n",
    "    chick_dist = 0\n",
    "    selected = []\n",
    "    # M개의 치킨집의 치킨 거리만 추가\n",
    "    for s in select:\n",
    "        selected.append(dist[s])\n",
    "    # 각 가정집 별 치킨거리 계산 후 마을 전체 치킨 거리에 추가\n",
    "    for i in range(len(home)):\n",
    "        ls = [s[i] for s in selected]\n",
    "        chick_dist += min(ls)\n",
    "    # 만약 해당 M개 조합의 마을전체 치킨거리가 기존의 최소값보다 작다면, 최솟값을 변경\n",
    "    if chick_dist < Min or Min == 0:\n",
    "        Min = chick_dist\n",
    "print(Min)\n",
    "\n"
   ]
  },
  {
   "cell_type": "code",
   "execution_count": 178,
   "id": "806a9083",
   "metadata": {
    "ExecuteTime": {
     "end_time": "2021-11-11T11:51:39.223505Z",
     "start_time": "2021-11-11T11:51:19.058640Z"
    }
   },
   "outputs": [
    {
     "name": "stdout",
     "output_type": "stream",
     "text": [
      "5 2\n",
      "0 2 0 1 0\n",
      "1 0 1 0 0\n",
      "0 0 0 0 0\n",
      "2 0 0 1 1\n",
      "2 2 0 1 2\n"
     ]
    }
   ],
   "source": [
    "N, M = map(int, input().split())\n",
    "home = []\n",
    "store = []\n",
    "for i in range(N):\n",
    "    ls = list(map(int, input().split()))\n",
    "    for idx, point in enumerate(ls):\n",
    "        if point == 1:\n",
    "            home.append([i,idx])\n",
    "        if point == 2:\n",
    "            store.append([i,idx])"
   ]
  },
  {
   "cell_type": "code",
   "execution_count": 193,
   "id": "c5e03f9d",
   "metadata": {
    "ExecuteTime": {
     "end_time": "2021-11-11T11:57:19.516715Z",
     "start_time": "2021-11-11T11:57:19.508669Z"
    }
   },
   "outputs": [],
   "source": [
    "dist = [[] for _ in range(len(store))]"
   ]
  },
  {
   "cell_type": "code",
   "execution_count": 194,
   "id": "56cfc3d7",
   "metadata": {
    "ExecuteTime": {
     "end_time": "2021-11-11T11:57:19.735954Z",
     "start_time": "2021-11-11T11:57:19.718885Z"
    }
   },
   "outputs": [
    {
     "data": {
      "text/plain": [
       "[[], [], []]"
      ]
     },
     "execution_count": 194,
     "metadata": {},
     "output_type": "execute_result"
    }
   ],
   "source": [
    "dist"
   ]
  },
  {
   "cell_type": "code",
   "execution_count": 195,
   "id": "251300ca",
   "metadata": {
    "ExecuteTime": {
     "end_time": "2021-11-11T11:57:19.973521Z",
     "start_time": "2021-11-11T11:57:19.960556Z"
    }
   },
   "outputs": [],
   "source": [
    "for idx, s in enumerate(store):\n",
    "    for h in home:\n",
    "        dist[idx].append(abs(s[0]-h[0]) + abs(s[1]-h[1]))"
   ]
  },
  {
   "cell_type": "code",
   "execution_count": 198,
   "id": "011885b9",
   "metadata": {
    "ExecuteTime": {
     "end_time": "2021-11-11T11:57:33.353286Z",
     "start_time": "2021-11-11T11:57:33.335334Z"
    }
   },
   "outputs": [
    {
     "data": {
      "text/plain": [
       "[1, 2, 2, 2]"
      ]
     },
     "execution_count": 198,
     "metadata": {},
     "output_type": "execute_result"
    }
   ],
   "source": [
    "dist[0]"
   ]
  },
  {
   "cell_type": "code",
   "execution_count": 183,
   "id": "7ee1c4ea",
   "metadata": {
    "ExecuteTime": {
     "end_time": "2021-11-11T11:51:45.908491Z",
     "start_time": "2021-11-11T11:51:45.902507Z"
    }
   },
   "outputs": [],
   "source": [
    "from itertools import combinations\n",
    "selection = list(combinations(list(range(len(store))),M))"
   ]
  },
  {
   "cell_type": "code",
   "execution_count": null,
   "id": "4c7f5b5f",
   "metadata": {},
   "outputs": [],
   "source": []
  },
  {
   "cell_type": "code",
   "execution_count": 200,
   "id": "b8c74a22",
   "metadata": {
    "ExecuteTime": {
     "end_time": "2021-11-11T12:03:48.268166Z",
     "start_time": "2021-11-11T12:03:48.251997Z"
    }
   },
   "outputs": [
    {
     "name": "stdout",
     "output_type": "stream",
     "text": [
      "[[1, 2, 2, 2], [2, 3, 1, 1], [6, 3, 5, 3]]\n",
      "5\n"
     ]
    }
   ],
   "source": [
    "Min = 0\n",
    "for select in selection:\n",
    "    chick_dist = 0\n",
    "    selected = []\n",
    "    for s in select:\n",
    "        selected.append(dist[s])\n",
    "    for i in range(len(home)):\n",
    "        ls = [s[i] for s in selected]\n",
    "        chick_dist += min(ls)\n",
    "    if chick_dist < Min or Min == 0:\n",
    "        Min = chick_dist\n",
    "print(Min)"
   ]
  },
  {
   "cell_type": "code",
   "execution_count": 185,
   "id": "d5878044",
   "metadata": {
    "ExecuteTime": {
     "end_time": "2021-11-11T11:51:47.202246Z",
     "start_time": "2021-11-11T11:51:47.196262Z"
    }
   },
   "outputs": [
    {
     "data": {
      "text/plain": [
       "10"
      ]
     },
     "execution_count": 185,
     "metadata": {},
     "output_type": "execute_result"
    }
   ],
   "source": [
    "print(Min)"
   ]
  },
  {
   "cell_type": "code",
   "execution_count": null,
   "id": "b6159a26",
   "metadata": {},
   "outputs": [],
   "source": []
  }
 ],
 "metadata": {
  "kernelspec": {
   "display_name": "Python 3",
   "language": "python",
   "name": "python3"
  },
  "language_info": {
   "codemirror_mode": {
    "name": "ipython",
    "version": 3
   },
   "file_extension": ".py",
   "mimetype": "text/x-python",
   "name": "python",
   "nbconvert_exporter": "python",
   "pygments_lexer": "ipython3",
   "version": "3.8.8"
  },
  "toc": {
   "base_numbering": 1,
   "nav_menu": {},
   "number_sections": false,
   "sideBar": true,
   "skip_h1_title": false,
   "title_cell": "Table of Contents",
   "title_sidebar": "Contents",
   "toc_cell": false,
   "toc_position": {},
   "toc_section_display": true,
   "toc_window_display": true
  }
 },
 "nbformat": 4,
 "nbformat_minor": 5
}
