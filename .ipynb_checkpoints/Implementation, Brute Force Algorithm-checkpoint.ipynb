{
 "cells": [
  {
   "cell_type": "markdown",
   "metadata": {},
   "source": [
    "# 1. 상하좌우"
   ]
  },
  {
   "cell_type": "markdown",
   "metadata": {},
   "source": [
    "### 문제 설명\n",
    "- 여행가 A가 N X N 크기의 정사각형 공간 위에 서 있습니다. 이 공간은 1 x 1 크기의 정사각형으로 나누어져 있습니다 .가장 왼쪽 위 좌표는 (1, 1)이며, 가장 오른쪽 아래 좌표는 (N, N)에 해당합니다. 여행가 A는 **상, 하, 좌, 우 방향으로 이동**할 수 있으며, 시작 좌표는 항상 (1, 1)입니다. 우리 앞에는 여행가 A가 이동할 계획이 적힌 계획서가 놓여 있습니다.\n",
    "- 계획서에는 하나의 줄에 띄어쓰기를 기준으로 하여 L, R, U, D 중 하나의 문자가 반복적으로 적혀 있습니다. 각 문자의 의미는 다음과 같습니다.\n",
    "    - L : left, R : right, U : up, D : down\n",
    "- 이때 여행가 A가 N x N 크기의 정사각형 공간을 벗어나는 움직임은 무시됩니다."
   ]
  },
  {
   "cell_type": "markdown",
   "metadata": {},
   "source": [
    "### 문제 조건\n",
    "- 난이도 : 하\n",
    "- 풀이 시간 : 15분\n",
    "- 시간 제한 : 2초\n",
    "- 메모리 제한 : 128MB\n",
    "<br>\n",
    "\n",
    "- 입력 조건 : 첫째 줄에 공간의 크기를 나타내는 N이 주어집니다. / 둘째 줄에 여행가 A가 이동할 계획서 내용이 주어집니다.\n",
    "- 출력 조건 : 첫째 줄에 여행가 A가 최종적으로 도착할 지점의 좌표 (X, Y)를 공백을 기준으로 구분하여 출력합니다.\n",
    "<br>\n",
    "\n",
    "- 입력 예시 : 5 / R R R U D D\n",
    "- 출력 에시 : 3 4"
   ]
  },
  {
   "cell_type": "markdown",
   "metadata": {},
   "source": [
    "### 프로그램 코드"
   ]
  },
  {
   "cell_type": "code",
   "execution_count": 2,
   "metadata": {},
   "outputs": [
    {
     "name": "stdout",
     "output_type": "stream",
     "text": [
      "5\n",
      "R R R U D D\n",
      "3 4\n"
     ]
    }
   ],
   "source": [
    "# 내가 작성한 코드\n",
    "N = int(input())\n",
    "ls = list(input().split())\n",
    "x = 1\n",
    "y = 1\n",
    "for dr in ls:\n",
    "    if dr == \"R\" and x < N:\n",
    "        y += 1\n",
    "    elif dr == \"L\" and x > 1:\n",
    "        y -= 1\n",
    "    elif dr == \"D\" and x < N:\n",
    "        x += 1\n",
    "    elif dr == \"U\" and x > 1:\n",
    "        x -= 1\n",
    "print(x, y)"
   ]
  },
  {
   "cell_type": "markdown",
   "metadata": {},
   "source": [
    "# 2. 시각"
   ]
  },
  {
   "cell_type": "markdown",
   "metadata": {},
   "source": [
    "### 문제 설명\n",
    "- 정수 N이 입력되면 00시 00분 00초부터 N시 59분 59초까지 **모든 시각 중에서 3이 하나라도 포함되는 모든 경우의 수를 구하는** 프로그램을 작성하세요. 예를 들어 1을 입력했을 때 다음은 3이 하나라도 포함되어 있으므로 세어야하는 시각입니다. (00시 00분 03초, 00시 13분 30초)\n",
    "- 반면에 다음은 3이 하나도 포함되어 있지 않으므로 세면 안되는 시각입니다. (00시 02분 55초, 01시 27분 45초)"
   ]
  },
  {
   "cell_type": "markdown",
   "metadata": {},
   "source": [
    "### 문제 조건\n",
    "- 난이도 : 하\n",
    "- 풀이 시간 : 15분\n",
    "- 시간 제한 : 2초\n",
    "- 메모리 제한 : 128MB\n",
    "<br>\n",
    "- 입력 조건 : 첫째 줄에 정수 N이 입력됩니다. \n",
    "- 출력 조건 : 00시 00분 00초부터 N시 59분 59초까지의 모든 시각 중에서 3이 하나라도 포함되는 모든 경우의 수를 출력합니다.\n",
    "<br>\n",
    "- 입력 예시 : 5\n",
    "- 출력 예시 : 11475"
   ]
  },
  {
   "cell_type": "markdown",
   "metadata": {},
   "source": [
    "### 문제 해결 아이디어\n",
    "- 내가 생각한 아이디어\n",
    "    - 시간>분>초 순서대로 3이 포함되어있는지 아닌지 확인하고 포함되어있다면 해당flag = True, 초까지 확인하고 모든 flag 중에서 하나라도 True면 cnt += 1"
   ]
  },
  {
   "cell_type": "markdown",
   "metadata": {},
   "source": [
    "### 프로그램 코드"
   ]
  },
  {
   "cell_type": "code",
   "execution_count": 8,
   "metadata": {},
   "outputs": [
    {
     "name": "stdout",
     "output_type": "stream",
     "text": [
      "23\n",
      "43875\n",
      "23\n",
      "43875\n"
     ]
    }
   ],
   "source": [
    "# 내가 작성한 코드\n",
    "N = int(input())\n",
    "\n",
    "cnt = 0\n",
    "\n",
    "for i in range(N+1):\n",
    "    flag_H = False\n",
    "    if \"3\" in str(i):\n",
    "        flag_H = True\n",
    "        \n",
    "    for j in range(60):\n",
    "        flag_M = False\n",
    "        if flag_H or \"3\" in str(j):\n",
    "            flag_M = True\n",
    "            \n",
    "        for k in range(60):\n",
    "            flag_S = False\n",
    "            if flag_H or flag_M or \"3\" in str(k):\n",
    "                flag_S = True\n",
    "                \n",
    "            if flag_H or flag_M or flag_S :\n",
    "                cnt += 1\n",
    "                                              \n",
    "print(cnt)\n",
    "\n",
    "# 답안 코드\n",
    "N = int(input())\n",
    "\n",
    "cnt = 0\n",
    "for i in range(N+1):\n",
    "    for j in range(60):\n",
    "        for k in range(60):\n",
    "            if \"3\" in str(i)+str(j)+str(k):\n",
    "                cnt += 1\n",
    "print(cnt)"
   ]
  },
  {
   "cell_type": "markdown",
   "metadata": {},
   "source": [
    "# 3. 왕실의 나이트"
   ]
  },
  {
   "cell_type": "markdown",
   "metadata": {},
   "source": [
    "### 문제 설명\n",
    "- 행복 왕국의 왕실 정원은 체스판과 같은 8 x 8 좌표 평면입니다. 왕실 정원의 특정한 한 칸에 나이트가 서 있습니다. 나이트는 매우 충성스러운 신하로서 매일 무술을 연마합니다.\n",
    "- 나이트는 말을 타고 있기 때문에 이동을 할 때에는 L자 형태로만 이동할 수 있으며, 정원밖으로는 나갈 수 없습니다.\n",
    "- 나이트는 특정위치에서 다음과 같은 2가지 경우로 이동할 수 있습니다.\n",
    "    1. 수평으로 두칸 이동한 뒤에 수직으로 한칸 이동하기\n",
    "    2. 수직으로 두칸 이동한 뒤에 수평으로 한칸 이동하기\n",
    "- 이처럼 8 x 8 평면 상에서 나이트의 위치가 주어졌을 때 나이트가 이동할 수 있는 경우의 수를 출력하는 프로그램을 작성하세요. 왕실의 정원에서 행 위치를 표현할 떄는 1부터 8로 표현하며, 열 위치를 표현할 때는 a부터 h로 표현합니다.\n",
    "    - c2에 있을 때 이동할 수 있는 경우의 수는 6가지 입니다.\n",
    "    - a1에 있을 때 이동할 수 있는 경우의 수는 2가지 입니다.\n",
    "    "
   ]
  },
  {
   "cell_type": "markdown",
   "metadata": {},
   "source": [
    "### 문제 조건\n",
    "- 난이도 : 하\n",
    "- 풀이 시간 : 20분\n",
    "- 시간 제한 : 1초\n",
    "- 메모리 제한 : 128MB\n",
    "<br>\n",
    "- 입력 조건 : 첫째 줄에 8 x 8 좌표 평면 상에서 현재 나이트가 위치한 곳의 좌표를 나타내는 두 문자로 구성된 문자열이 입력된다. 입력 문자는 a1처럼 열과 행으로 이뤄진다.\n",
    "- 출력 조건 : 첫째 줄에 나이트가 이동할 수 있는 경우의 수를 출력하시오.\n",
    "<br>\n",
    "- 입력 예시 : a1\n",
    "- 출력 예시 : 2"
   ]
  },
  {
   "cell_type": "markdown",
   "metadata": {},
   "source": [
    "### 프로그램 코드"
   ]
  },
  {
   "cell_type": "code",
   "execution_count": 14,
   "metadata": {},
   "outputs": [
    {
     "name": "stdout",
     "output_type": "stream",
     "text": [
      "c2\n",
      "6\n"
     ]
    }
   ],
   "source": [
    "# 내가 작성한 코드\n",
    "loc = input()\n",
    "x, y = ord(loc[0])-96, int(loc[1])\n",
    "\n",
    "move_x = [-2, -2, -1, -1, 1, 1, 2, 2]\n",
    "move_y = [1, -1, 2, -2, 2, -2, 1, -1]\n",
    "\n",
    "cnt = 0\n",
    "\n",
    "for i in range(8):\n",
    "    next_x = x+move_x[i]\n",
    "    next_y = y+move_y[i]\n",
    "    \n",
    "    if next_x < 1 or next_x > 8 or next_y < 1 or next_y > 8:\n",
    "        continue\n",
    "    cnt += 1\n",
    "    \n",
    "print(cnt)"
   ]
  },
  {
   "cell_type": "markdown",
   "metadata": {},
   "source": [
    "# 4. 문자열 재정렬"
   ]
  },
  {
   "cell_type": "markdown",
   "metadata": {},
   "source": [
    "### 문제 설명\n",
    "- 알파벳 대문자와 숫자(0~9)로만 구성된 문자열이 입력으로 주어집니다. 이때 모든 알파벳을 오름차순으로 정렬하여 이어서 출력한 뒤에, 그 뒤에 모든 숫자를 더한 값을 이어서 출력합니다.\n",
    "- 예를 들어 K1KA5CB7이라는 값이 들어오면 ABCKK13을 출력합니다."
   ]
  },
  {
   "cell_type": "markdown",
   "metadata": {},
   "source": [
    "### 문제 조건\n",
    "- 난이도 : 하\n",
    "- 풀이 시간 : 20분\n",
    "- 시간 제한 : 1초\n",
    "- 메모리 제한 : 128MB\n",
    "- 기출: Facebook 인터뷰\n",
    "<br>\n",
    "- 입력 조건 : 첫째 줄에 하나의 문자열 S가 주어집니다. \n",
    "- 출력 조건 : 첫째 줄에 문제에서 요구하는 정답을 출력합니다."
   ]
  },
  {
   "cell_type": "markdown",
   "metadata": {},
   "source": [
    "### 프로그램 코드"
   ]
  },
  {
   "cell_type": "code",
   "execution_count": 22,
   "metadata": {},
   "outputs": [
    {
     "name": "stdout",
     "output_type": "stream",
     "text": [
      "K1KA5CB7\n",
      "ABCKK13\n"
     ]
    }
   ],
   "source": [
    "# 내가 작성한 코드\n",
    "S = input()\n",
    "ls = list(S)\n",
    "ls.sort()\n",
    "\n",
    "total = 0\n",
    "for i in range(len(ls)):\n",
    "    if ord(ls[i]) >= 65:\n",
    "        print(''.join(ls[i:]) + str(total))\n",
    "        break\n",
    "    total += int(ls[i])"
   ]
  },
  {
   "cell_type": "markdown",
   "metadata": {},
   "source": [
    "# 5. 프로그래머스 - 모의고사"
   ]
  },
  {
   "cell_type": "code",
   "execution_count": 26,
   "metadata": {},
   "outputs": [],
   "source": [
    "# 내가 작성한 코드\n",
    "def solution(answers):\n",
    "    way1 = [1,2,3,4,5]\n",
    "    way2 = [2,1,2,3,2,4,2,5]\n",
    "    way3 = [3,3,1,1,2,2,4,4,5,5]\n",
    "    \n",
    "    cnt1 = 0\n",
    "    cnt2 = 0\n",
    "    cnt3 = 0\n",
    "    \n",
    "    for idx, num in enumerate(answers):\n",
    "        if num == way1[idx%len(way1)]:\n",
    "            cnt1 += 1\n",
    "        if num == way2[idx%len(way2)]:\n",
    "            cnt2 += 1\n",
    "        if num == way3[idx%len(way3)]:\n",
    "            cnt3 += 1\n",
    "            \n",
    "    cntList = [cnt1, cnt2, cnt3]\n",
    "    maxNum = max(cntList)\n",
    "    ls = []\n",
    "    for idx, num in enumerate(cntList):\n",
    "        if num == maxNum:\n",
    "            ls.append(idx+1)\n",
    "    return ls"
   ]
  },
  {
   "cell_type": "markdown",
   "metadata": {},
   "source": [
    "# 6. 프로그래머스 - 카펫"
   ]
  },
  {
   "cell_type": "markdown",
   "metadata": {},
   "source": [
    "### 문제 해결 아이디어\n",
    "- 내가 생각한 아이디어\n",
    "    - yellow의 약수 조합 (i,j) 중, (i+2) * (j+2) == total 인 경우"
   ]
  },
  {
   "cell_type": "code",
   "execution_count": 48,
   "metadata": {},
   "outputs": [
    {
     "data": {
      "text/plain": [
       "[4, 3]"
      ]
     },
     "execution_count": 48,
     "metadata": {},
     "output_type": "execute_result"
    }
   ],
   "source": [
    "# 내가 작성한 코드\n",
    "def solution(brown, yellow):\n",
    "    total = brown + yellow\n",
    "    num = total//2\n",
    "    for i in range(1,int((yellow)**(1/2)+1)):\n",
    "        j, mod = divmod(yellow, i)\n",
    "        if (mod == 0):\n",
    "            if (total%(j+2) == 0):\n",
    "                return [j+2, i+2]\n",
    "solution(10, 2)            "
   ]
  }
 ],
 "metadata": {
  "kernelspec": {
   "display_name": "Python 3",
   "language": "python",
   "name": "python3"
  },
  "language_info": {
   "codemirror_mode": {
    "name": "ipython",
    "version": 3
   },
   "file_extension": ".py",
   "mimetype": "text/x-python",
   "name": "python",
   "nbconvert_exporter": "python",
   "pygments_lexer": "ipython3",
   "version": "3.8.5"
  },
  "toc": {
   "base_numbering": 1,
   "nav_menu": {},
   "number_sections": false,
   "sideBar": true,
   "skip_h1_title": false,
   "title_cell": "Table of Contents",
   "title_sidebar": "Contents",
   "toc_cell": false,
   "toc_position": {},
   "toc_section_display": true,
   "toc_window_display": false
  }
 },
 "nbformat": 4,
 "nbformat_minor": 4
}
