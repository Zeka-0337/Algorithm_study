{
 "cells": [
  {
   "cell_type": "markdown",
   "metadata": {},
   "source": [
    "# 1. 상하좌우"
   ]
  },
  {
   "cell_type": "markdown",
   "metadata": {},
   "source": [
    "### 문제 설명\n",
    "- 여행가 A가 N X N 크기의 정사각형 공간 위에 서 있습니다. 이 공간은 1 x 1 크기의 정사각형으로 나누어져 있습니다 .가장 왼쪽 위 좌표는 (1, 1)이며, 가장 오른쪽 아래 좌표는 (N, N)에 해당합니다. 여행가 A는 **상, 하, 좌, 우 방향으로 이동**할 수 있으며, 시작 좌표는 항상 (1, 1)입니다. 우리 앞에는 여행가 A가 이동할 계획이 적힌 계획서가 놓여 있습니다.\n",
    "- 계획서에는 하나의 줄에 띄어쓰기를 기준으로 하여 L, R, U, D 중 하나의 문자가 반복적으로 적혀 있습니다. 각 문자의 의미는 다음과 같습니다.\n",
    "    - L : left, R : right, U : up, D : down\n",
    "- 이때 여행가 A가 N x N 크기의 정사각형 공간을 벗어나는 움직임은 무시됩니다."
   ]
  },
  {
   "cell_type": "markdown",
   "metadata": {},
   "source": [
    "### 문제 조건\n",
    "- 난이도 : 하\n",
    "- 풀이 시간 : 15분\n",
    "- 시간 제한 : 2초\n",
    "- 메모리 제한 : 128MB\n",
    "<br>\n",
    "\n",
    "- 입력 조건 : 첫째 줄에 공간의 크기를 나타내는 N이 주어집니다. / 둘째 줄에 여행가 A가 이동할 계획서 내용이 주어집니다.\n",
    "- 출력 조건 : 첫째 줄에 여행가 A가 최종적으로 도착할 지점의 좌표 (X, Y)를 공백을 기준으로 구분하여 출력합니다.\n",
    "<br>\n",
    "\n",
    "- 입력 예시 : 5 / R R R U D D\n",
    "- 출력 에시 : 3 4"
   ]
  },
  {
   "cell_type": "markdown",
   "metadata": {},
   "source": [
    "### 프로그램 코드"
   ]
  },
  {
   "cell_type": "code",
   "execution_count": 2,
   "metadata": {},
   "outputs": [
    {
     "name": "stdout",
     "output_type": "stream",
     "text": [
      "5\n",
      "R R R U D D\n",
      "3 4\n"
     ]
    }
   ],
   "source": [
    "# 내가 작성한 코드\n",
    "N = int(input())\n",
    "ls = list(input().split())\n",
    "x = 1\n",
    "y = 1\n",
    "for dr in ls:\n",
    "    if dr == \"R\" and x < N:\n",
    "        y += 1\n",
    "    elif dr == \"L\" and x > 1:\n",
    "        y -= 1\n",
    "    elif dr == \"D\" and x < N:\n",
    "        x += 1\n",
    "    elif dr == \"U\" and x > 1:\n",
    "        x -= 1\n",
    "print(x, y)"
   ]
  },
  {
   "cell_type": "markdown",
   "metadata": {},
   "source": [
    "# 2. 시각"
   ]
  },
  {
   "cell_type": "markdown",
   "metadata": {},
   "source": [
    "### 문제 설명\n",
    "- 정수 N이 입력되면 00시 00분 00초부터 N시 59분 59초까지 **모든 시각 중에서 3이 하나라도 포함되는 모든 경우의 수를 구하는** 프로그램을 작성하세요. 예를 들어 1을 입력했을 때 다음은 3이 하나라도 포함되어 있으므로 세어야하는 시각입니다. (00시 00분 03초, 00시 13분 30초)\n",
    "- 반면에 다음은 3이 하나도 포함되어 있지 않으므로 세면 안되는 시각입니다. (00시 02분 55초, 01시 27분 45초)"
   ]
  },
  {
   "cell_type": "markdown",
   "metadata": {},
   "source": [
    "### 문제 조건\n",
    "- 난이도 : 하\n",
    "- 풀이 시간 : 15분\n",
    "- 시간 제한 : 2초\n",
    "- 메모리 제한 : 128MB\n",
    "<br>\n",
    "- 입력 조건 : 첫째 줄에 정수 N이 입력됩니다. \n",
    "- 출력 조건 : 00시 00분 00초부터 N시 59분 59초까지의 모든 시각 중에서 3이 하나라도 포함되는 모든 경우의 수를 출력합니다.\n",
    "<br>\n",
    "- 입력 예시 : 5\n",
    "- 출력 예시 : 11475"
   ]
  },
  {
   "cell_type": "markdown",
   "metadata": {},
   "source": [
    "### 문제 해결 아이디어\n",
    "- 내가 생각한 아이디어\n",
    "    - 시간>분>초 순서대로 3이 포함되어있는지 아닌지 확인하고 포함되어있다면 해당flag = True, 초까지 확인하고 모든 flag 중에서 하나라도 True면 cnt += 1"
   ]
  },
  {
   "cell_type": "markdown",
   "metadata": {},
   "source": [
    "### 프로그램 코드"
   ]
  },
  {
   "cell_type": "code",
   "execution_count": 8,
   "metadata": {},
   "outputs": [
    {
     "name": "stdout",
     "output_type": "stream",
     "text": [
      "23\n",
      "43875\n",
      "23\n",
      "43875\n"
     ]
    }
   ],
   "source": [
    "# 내가 작성한 코드\n",
    "N = int(input())\n",
    "\n",
    "cnt = 0\n",
    "\n",
    "for i in range(N+1):\n",
    "    flag_H = False\n",
    "    if \"3\" in str(i):\n",
    "        flag_H = True\n",
    "        \n",
    "    for j in range(60):\n",
    "        flag_M = False\n",
    "        if flag_H or \"3\" in str(j):\n",
    "            flag_M = True\n",
    "            \n",
    "        for k in range(60):\n",
    "            flag_S = False\n",
    "            if flag_H or flag_M or \"3\" in str(k):\n",
    "                flag_S = True\n",
    "                \n",
    "            if flag_H or flag_M or flag_S :\n",
    "                cnt += 1\n",
    "                                              \n",
    "print(cnt)\n",
    "\n",
    "# 답안 코드\n",
    "N = int(input())\n",
    "\n",
    "cnt = 0\n",
    "for i in range(N+1):\n",
    "    for j in range(60):\n",
    "        for k in range(60):\n",
    "            if \"3\" in str(i)+str(j)+str(k):\n",
    "                cnt += 1\n",
    "print(cnt)"
   ]
  },
  {
   "cell_type": "markdown",
   "metadata": {},
   "source": [
    "# 3. 왕실의 나이트"
   ]
  },
  {
   "cell_type": "markdown",
   "metadata": {},
   "source": [
    "### 문제 설명\n",
    "- 행복 왕국의 왕실 정원은 체스판과 같은 8 x 8 좌표 평면입니다. 왕실 정원의 특정한 한 칸에 나이트가 서 있습니다. 나이트는 매우 충성스러운 신하로서 매일 무술을 연마합니다.\n",
    "- 나이트는 말을 타고 있기 때문에 이동을 할 때에는 L자 형태로만 이동할 수 있으며, 정원밖으로는 나갈 수 없습니다.\n",
    "- 나이트는 특정위치에서 다음과 같은 2가지 경우로 이동할 수 있습니다.\n",
    "    1. 수평으로 두칸 이동한 뒤에 수직으로 한칸 이동하기\n",
    "    2. 수직으로 두칸 이동한 뒤에 수평으로 한칸 이동하기\n",
    "- 이처럼 8 x 8 평면 상에서 나이트의 위치가 주어졌을 때 나이트가 이동할 수 있는 경우의 수를 출력하는 프로그램을 작성하세요. 왕실의 정원에서 행 위치를 표현할 떄는 1부터 8로 표현하며, 열 위치를 표현할 때는 a부터 h로 표현합니다.\n",
    "    - c2에 있을 때 이동할 수 있는 경우의 수는 6가지 입니다.\n",
    "    - a1에 있을 때 이동할 수 있는 경우의 수는 2가지 입니다.\n",
    "    "
   ]
  },
  {
   "cell_type": "markdown",
   "metadata": {},
   "source": [
    "### 문제 조건\n",
    "- 난이도 : 하\n",
    "- 풀이 시간 : 20분\n",
    "- 시간 제한 : 1초\n",
    "- 메모리 제한 : 128MB\n",
    "<br>\n",
    "- 입력 조건 : 첫째 줄에 8 x 8 좌표 평면 상에서 현재 나이트가 위치한 곳의 좌표를 나타내는 두 문자로 구성된 문자열이 입력된다. 입력 문자는 a1처럼 열과 행으로 이뤄진다.\n",
    "- 출력 조건 : 첫째 줄에 나이트가 이동할 수 있는 경우의 수를 출력하시오.\n",
    "<br>\n",
    "- 입력 예시 : a1\n",
    "- 출력 예시 : 2"
   ]
  },
  {
   "cell_type": "markdown",
   "metadata": {},
   "source": [
    "### 프로그램 코드"
   ]
  },
  {
   "cell_type": "code",
   "execution_count": 14,
   "metadata": {},
   "outputs": [
    {
     "name": "stdout",
     "output_type": "stream",
     "text": [
      "c2\n",
      "6\n"
     ]
    }
   ],
   "source": [
    "# 내가 작성한 코드\n",
    "loc = input()\n",
    "x, y = ord(loc[0])-96, int(loc[1])\n",
    "\n",
    "move_x = [-2, -2, -1, -1, 1, 1, 2, 2]\n",
    "move_y = [1, -1, 2, -2, 2, -2, 1, -1]\n",
    "\n",
    "cnt = 0\n",
    "\n",
    "for i in range(8):\n",
    "    next_x = x+move_x[i]\n",
    "    next_y = y+move_y[i]\n",
    "    \n",
    "    if next_x < 1 or next_x > 8 or next_y < 1 or next_y > 8:\n",
    "        continue\n",
    "    cnt += 1\n",
    "    \n",
    "print(cnt)"
   ]
  },
  {
   "cell_type": "markdown",
   "metadata": {},
   "source": [
    "# 4. 문자열 재정렬"
   ]
  },
  {
   "cell_type": "markdown",
   "metadata": {},
   "source": [
    "### 문제 설명\n",
    "- 알파벳 대문자와 숫자(0~9)로만 구성된 문자열이 입력으로 주어집니다. 이때 모든 알파벳을 오름차순으로 정렬하여 이어서 출력한 뒤에, 그 뒤에 모든 숫자를 더한 값을 이어서 출력합니다.\n",
    "- 예를 들어 K1KA5CB7이라는 값이 들어오면 ABCKK13을 출력합니다."
   ]
  },
  {
   "cell_type": "markdown",
   "metadata": {},
   "source": [
    "### 문제 조건\n",
    "- 난이도 : 하\n",
    "- 풀이 시간 : 20분\n",
    "- 시간 제한 : 1초\n",
    "- 메모리 제한 : 128MB\n",
    "- 기출: Facebook 인터뷰\n",
    "<br>\n",
    "- 입력 조건 : 첫째 줄에 하나의 문자열 S가 주어집니다. \n",
    "- 출력 조건 : 첫째 줄에 문제에서 요구하는 정답을 출력합니다."
   ]
  },
  {
   "cell_type": "markdown",
   "metadata": {},
   "source": [
    "### 프로그램 코드"
   ]
  },
  {
   "cell_type": "code",
   "execution_count": 22,
   "metadata": {},
   "outputs": [
    {
     "name": "stdout",
     "output_type": "stream",
     "text": [
      "K1KA5CB7\n",
      "ABCKK13\n"
     ]
    }
   ],
   "source": [
    "# 내가 작성한 코드\n",
    "S = input()\n",
    "ls = list(S)\n",
    "ls.sort()\n",
    "\n",
    "total = 0\n",
    "for i in range(len(ls)):\n",
    "    if ord(ls[i]) >= 65:\n",
    "        print(''.join(ls[i:]) + str(total))\n",
    "        break\n",
    "    total += int(ls[i])"
   ]
  },
  {
   "cell_type": "markdown",
   "metadata": {},
   "source": [
    "# 7. [백준, 파이썬] 일곱 난쟁이, Brute Force\n",
    "### 문제 해결 아이디어\n",
    "- 내가 생각한 아이디어\n",
    "    - 이중 반복문을 이용한 풀이\n",
    "    1. 아홉 명의 키를 오름차순으로 정렬\n",
    "    2. total = 9명의 키 총합\n",
    "    3. flag = False\n",
    "    4. for i in range(9):\n",
    "        - for j in range(i+1,9):\n",
    "            - 만약 (total - i번째 난쟁이의 키 - j번째 난쟁이의 키)가 100이면\n",
    "                - flag = True\n",
    "                - break\n",
    "        - if flag : break\n",
    "    5. i, j번째 난쟁이를 remove\n",
    "    6. 남은 난쟁이 리스트를 반복문 돌면서 print"
   ]
  },
  {
   "cell_type": "code",
   "execution_count": 1,
   "metadata": {
    "ExecuteTime": {
     "end_time": "2022-03-06T09:40:59.010653Z",
     "start_time": "2022-03-06T09:40:45.823715Z"
    }
   },
   "outputs": [
    {
     "name": "stdout",
     "output_type": "stream",
     "text": [
      "20\n",
      "7\n",
      "23\n",
      "19\n",
      "10\n",
      "15\n",
      "25\n",
      "8\n",
      "13\n",
      "7\n",
      "8\n",
      "10\n",
      "13\n",
      "19\n",
      "20\n",
      "23\n"
     ]
    }
   ],
   "source": [
    "ls = []\n",
    "for _ in range(9):\n",
    "    ls.append(int(input()))\n",
    "    \n",
    "ls.sort()\n",
    "total = sum(ls)\n",
    "flag = False\n",
    "for i in range(9):\n",
    "    for j in range(i+1, 9):\n",
    "        if (total - ls[i] - ls[j] == 100):\n",
    "            flag = True\n",
    "            break\n",
    "    if flag:\n",
    "        break\n",
    "a = ls[i]\n",
    "b = ls[j]\n",
    "ls.remove(a)\n",
    "ls.remove(b)\n",
    "for i in ls:\n",
    "    print(i)"
   ]
  },
  {
   "cell_type": "markdown",
   "metadata": {},
   "source": [
    "# 8. [백준, 파이썬] 사탕 게임, Brute Force\n",
    "### 문제 해결 아이디어\n",
    "- 내가 생각한 아이디어\n",
    "    - 모든 경우의 수를 다 시도하되, n이 나오면 break\n",
    "- 피드백\n",
    "    - deepcopy는 시간이 겁나게 오래걸린다. 차라리 원본을 바꾸고 원래대로 되돌려 놓는게 더 빠르다\n",
    "    - 시간복잡도가 1억이 넘으면 대략적으로 1초를 넘긴다고 한다. 하지만, 굉장히 허술한 방법이니 유의하자"
   ]
  },
  {
   "cell_type": "code",
   "execution_count": 18,
   "metadata": {
    "ExecuteTime": {
     "end_time": "2022-03-06T10:46:00.572839Z",
     "start_time": "2022-03-06T10:45:57.095661Z"
    }
   },
   "outputs": [
    {
     "name": "stdout",
     "output_type": "stream",
     "text": [
      "3\n",
      "CCC\n",
      "PPP\n",
      "ZZC\n",
      "3\n"
     ]
    }
   ],
   "source": [
    "import sys\n",
    "#  백준에 넘길 때만 주석 풀기\n",
    "# input = sys.stdin.readline\n",
    "n = int(input())\n",
    "arr = []\n",
    "for _ in range(n):\n",
    "    arr.append(list(input()))\n",
    "\n",
    "def count_max(array, n):\n",
    "    maxNum = 0\n",
    "    for i in range(n):\n",
    "        key = \"\"\n",
    "        cnt = 1\n",
    "        for j in range(n):\n",
    "            if key != array[i][j]:\n",
    "                cnt = 1\n",
    "                key = array[i][j]\n",
    "            else :\n",
    "                cnt += 1\n",
    "                maxNum = max(maxNum, cnt)\n",
    "                if maxNum == n:\n",
    "                    return n\n",
    "        key = \"\"\n",
    "        cnt = 1\n",
    "        for j in range(n):\n",
    "            if key != array[j][i]:\n",
    "                cnt = 1\n",
    "                key = array[j][i]\n",
    "            else :\n",
    "                cnt += 1\n",
    "                maxNum = max(maxNum, cnt)\n",
    "                if maxNum == n:\n",
    "                    return n\n",
    "    return maxNum\n",
    "\n",
    "def try_change(array, n):\n",
    "    maxNum = 0\n",
    "    for i in range(n):\n",
    "        for j in range(n-1):\n",
    "            if array[i][j] != array[i][j+1]:\n",
    "                tmp = array\n",
    "                tmp[i][j], tmp[i][j+1] = tmp[i][j+1], tmp[i][j]\n",
    "                maxNum = max(maxNum, count_max(tmp, n))\n",
    "                if maxNum == n:\n",
    "                    return n\n",
    "                tmp[i][j], tmp[i][j+1] = tmp[i][j+1], tmp[i][j]\n",
    "                \n",
    "            if array[j][i] != array[j+1][i]:\n",
    "                tmp = array\n",
    "                tmp[j][i], tmp[j+1][i] = tmp[j+1][i], tmp[j][i]\n",
    "                maxNum = max(maxNum, count_max(tmp, n))\n",
    "                if maxNum == n:\n",
    "                    return n\n",
    "                tmp[j][i], tmp[j+1][i] = tmp[j+1][i], tmp[j][i]\n",
    "    return maxNum\n",
    "\n",
    "print(try_change(arr,n))"
   ]
  },
  {
   "cell_type": "markdown",
   "metadata": {},
   "source": [
    "# 9. [백준, 파이썬] 날짜 계산, Brute Force\n",
    "### 문제 해결 아이디어\n",
    "- 내가 생각한 아이디어\n",
    "    - 해당하는 지구의 연도는 (15의 배수 + E) 이고 (28의 배수 + S) 이고 (19의 배수 + M)이다.\n",
    "    - 28의 배수가 가장 빠르게 증가하니 28의 배수 + S를 기준으로 나머지 조건이 맞는지 확인해보자"
   ]
  },
  {
   "cell_type": "code",
   "execution_count": 26,
   "metadata": {
    "ExecuteTime": {
     "end_time": "2022-03-06T10:58:16.414875Z",
     "start_time": "2022-03-06T10:58:13.562566Z"
    }
   },
   "outputs": [
    {
     "name": "stdout",
     "output_type": "stream",
     "text": [
      "15 28 19\n",
      "7980\n"
     ]
    }
   ],
   "source": [
    "E, S, M = map(int, input().split())\n",
    "for i in range(286):\n",
    "    target = i * 28 + S\n",
    "    if (target-E)%15 == 0 and (target-M)%19 == 0:\n",
    "        print(target)\n",
    "        break"
   ]
  },
  {
   "cell_type": "markdown",
   "metadata": {},
   "source": [
    "# 10. [백준, 파이썬] 리모컨, Brute Force\n",
    "## 문제 해결 아이디어\n",
    "- 수정한 아이디어\n",
    "    - 최대한 가까운 숫자를 누르고 +-로 해결 vs +-로 해결 중 적은 횟수를 출력\n",
    "    1. answer = abs(100 - n), +-로 해결할 때 누르는 횟수\n",
    "    2. 10개 숫자 리스트에서 고장난 버튼 remove\n",
    "    3. for i in 0부터 100000까지\n",
    "        - i를 구성하는 숫자들이 숫자 리스트에 전부 있다면 \n",
    "            - answer = min(기존 정답, 자릿수 + (+- 횟수))\n",
    "    4. print(answer)\n",
    "- 피드백\n",
    "    - 왜 안되는지는 모르겠지만, N을 기준으로 위나 아래로 가면서 찾는 것은 틀린다.\n",
    "    - 그냥 무식하게 풀자!"
   ]
  },
  {
   "cell_type": "code",
   "execution_count": 2,
   "metadata": {},
   "outputs": [
    {
     "name": "stdout",
     "output_type": "stream",
     "text": [
      "10\n",
      "10\n",
      "0 1 2 3 4 5 6 7 8 9 \n",
      "90\n"
     ]
    }
   ],
   "source": [
    "import sys\n",
    "# 백준에 넘길 때만 주석 풀기\n",
    "# input = sys.stdin.readline\n",
    "\n",
    "N = int(input())\n",
    "\n",
    "ls = [str(i) for i in range(10)]\n",
    "M = int(input())\n",
    "if M:\n",
    "    broken = list(input().split())\n",
    "    for b in broken:\n",
    "        ls.remove(b)\n",
    "ls = set(ls)\n",
    "\n",
    "answer = abs(100 - N)\n",
    "for i in range(1000001):\n",
    "    for n in str(i):\n",
    "        if n not in ls:\n",
    "            break\n",
    "    else:\n",
    "        answer = min(answer, len(str(i)) + abs(i - N))\n",
    "print(answer)"
   ]
  },
  {
   "cell_type": "markdown",
   "metadata": {},
   "source": [
    "# 11. [백준, 파이썬] 테트로미노, Brute Force\n",
    "## 문제 해결 아이디어\n",
    "- 내가 생각한 아이디어\n",
    "    - 테트로미노를 회전하거나 대칭시켰을 때의 모든 경우의 수는 19가지. N x M의 최댓값은 2000. 대략 40000 정도이기에 모든 경우의 수를 탐색해도 충분히 2초 내로 해낼 수 있을 것이다.\n",
    "    1. 입력 받기\n",
    "    2. maxNum = 0\n",
    "    3. 1x4의 모든 경우의 수 확인 및 maxNum 갱신\n",
    "    4. 2x2의 모든 경우의 수 확인 및 maxNum 갱신 \n",
    "    5. 2x3 (3가지)의 모든 경우의 수 확인 및 maxNum 갱신\n",
    "    \n",
    "    - 추가 장치로, 입력을 정렬하여 가장 큰 4개의 숫자들의 합을 한계치로 두고, maxNum이 한계치라면 바로 break하는 것을 넣을 수 있을 듯 하다"
   ]
  },
  {
   "cell_type": "code",
   "execution_count": 11,
   "metadata": {},
   "outputs": [
    {
     "name": "stdout",
     "output_type": "stream",
     "text": [
      "4 10\n",
      "1 2 1 2 1 2 1 2 1 2\n",
      "2 1 2 1 2 1 2 1 2 1\n",
      "1 2 1 2 1 2 1 2 1 2\n",
      "2 1 2 1 2 1 2 1 2 1\n",
      "7\n"
     ]
    }
   ],
   "source": [
    "import sys\n",
    "# 백준에 넘길 때만 주석 풀기\n",
    "# input = sys.stdin.readline\n",
    "\n",
    "n, m = map(int, input().split())\n",
    "array = []\n",
    "total_array = []\n",
    "for _ in range(n):\n",
    "    tmp = list(map(int, input().split()))\n",
    "    array.append(tmp)\n",
    "    total_array.extend(tmp)\n",
    "total_array.sort()\n",
    "limit = sum(total_array[-4:])\n",
    "\n",
    "\n",
    "def print_max(n, m, array, limit):\n",
    "    maxNum = 0\n",
    "    for i in range(n):\n",
    "        for j in range(m-3):\n",
    "            tmp = sum([array[i][j], array[i][j+1], array[i][j+2], array[i][j+3]])\n",
    "            if tmp > maxNum:\n",
    "                if tmp == limit:\n",
    "                    print(tmp)\n",
    "                    return\n",
    "                maxNum = tmp\n",
    "\n",
    "    for i in range(n-3):\n",
    "        for j in range(m):\n",
    "            tmp = sum([array[i][j], array[i+1][j], array[i+2][j], array[i+3][j]])\n",
    "            if tmp > maxNum:\n",
    "                if tmp == limit:\n",
    "                    print(tmp)\n",
    "                    return\n",
    "                maxNum = tmp\n",
    "\n",
    "    for i in range(n-1):\n",
    "        for j in range(m-1):\n",
    "            tmp = sum([array[i][j], array[i+1][j], array[i][j+1], array[i+1][j+1]])\n",
    "            if tmp > maxNum:\n",
    "                if tmp == limit:\n",
    "                    print(tmp)\n",
    "                    return\n",
    "                maxNum = tmp\n",
    "\n",
    "    for i in range(n-2):\n",
    "        for j in range(m-1):\n",
    "            tmp = max(sum([array[i][j], array[i+1][j], array[i+2][j], array[i+2][j+1]]),\n",
    "                     sum([array[i][j+1], array[i+1][j+1], array[i+2][j], array[i+2][j+1]]),\n",
    "                     sum([array[i][j], array[i+1][j], array[i+2][j], array[i][j+1]]),\n",
    "                     sum([array[i][j], array[i][j+1], array[i+1][j+1], array[i+2][j+1]]),\n",
    "                     sum([array[i][j], array[i+1][j], array[i+1][j+1], array[i+2][j+1]]),\n",
    "                     sum([array[i][j+1], array[i+1][j], array[i+1][j+1], array[i+2][j]]),\n",
    "                     sum([array[i][j], array[i+1][j], array[i+2][j], array[i+1][j+1]]),\n",
    "                     sum([array[i][j+1], array[i+1][j], array[i+1][j+1], array[i+2][j+1]]))\n",
    "            if tmp > maxNum:\n",
    "                if tmp == limit:\n",
    "                    print(tmp)\n",
    "                    return\n",
    "                maxNum = tmp\n",
    "\n",
    "    for i in range(n-1):\n",
    "        for j in range(m-2):\n",
    "            tmp = max(sum([array[i][j], array[i][j+1], array[i][j+2], array[i+1][j]]),\n",
    "                      sum([array[i][j], array[i][j+1], array[i][j+2], array[i+1][j+2]]),\n",
    "                      sum([array[i+1][j], array[i+1][j+1], array[i+1][j+2], array[i][j]]),\n",
    "                      sum([array[i+1][j], array[i+1][j+1], array[i+1][j+2], array[i][j+2]]),\n",
    "                      sum([array[i][j+1], array[i+1][j+1], array[i][j], array[i+1][j+2]]),\n",
    "                      sum([array[i][j+1], array[i+1][j+1], array[i+1][j], array[i][j+2]]),\n",
    "                      sum([array[i][j], array[i][j+1], array[i][j+2], array[i+1][j+1]]),\n",
    "                       sum([array[i+1][j], array[i+1][j+1], array[i+1][j+2], array[i][j+1]]),\n",
    "                     )\n",
    "            if tmp > maxNum:\n",
    "                if tmp == limit:\n",
    "                    print(tmp)\n",
    "                    return\n",
    "                maxNum = tmp\n",
    "    print(maxNum)\n",
    "    return\n",
    "\n",
    "print_max(n, m, array, limit)\n",
    "            \n"
   ]
  },
  {
   "cell_type": "markdown",
   "metadata": {},
   "source": [
    "# 12. [백준, 파이썬] 카잉 달력, Brute Force\n",
    "## 문제 해결 아이디어\n",
    "- 내가 생각한 아이디어\n",
    "    - m의 배수 + x 이면서 n의 배수 + y인 수를 찾아 출력을 한다"
   ]
  },
  {
   "cell_type": "code",
   "execution_count": 2,
   "metadata": {
    "ExecuteTime": {
     "end_time": "2022-03-07T04:37:43.967413Z",
     "start_time": "2022-03-07T04:37:35.623241Z"
    }
   },
   "outputs": [
    {
     "name": "stdout",
     "output_type": "stream",
     "text": [
      "3\n",
      "10 12 3 9\n",
      "10 12 7 2\n",
      "13 11 5 6\n",
      "33\n",
      "-1\n",
      "83\n"
     ]
    }
   ],
   "source": [
    "import sys\n",
    "# 백준에 넘길 때만 주석 풀기\n",
    "# input = sys.stdin.readline\n",
    "\n",
    "t = int(input())\n",
    "answer = []\n",
    "for _ in range(t):\n",
    "    m, n, x, y = map(int, input().split())\n",
    "    for i in range(40000):\n",
    "        if (m*i + x)%n == (y%n):\n",
    "            answer.append(m*i + x)\n",
    "            break\n",
    "    else :\n",
    "        answer.append(-1)\n",
    "\n",
    "for ans in answer:\n",
    "    print(ans)"
   ]
  },
  {
   "cell_type": "markdown",
   "metadata": {},
   "source": [
    "# 13. [백준, 파이썬] 수 이어쓰기 1, Brute Force\n",
    "## 문제 해결 아이디어\n",
    "- 내가 생각한 아이디어\n",
    "    - 해당 숫자의 자릿수를 따져서 바로 계산해낸다\n",
    "    - n자리 수라면, n자리 수의 개수 : 해당 수 - 10^(n-1) + 1 \n",
    "    - n-1 이하인, k 자리의 수의 개수 : 9 * (10 ** (k-1))"
   ]
  },
  {
   "cell_type": "code",
   "execution_count": 12,
   "metadata": {
    "ExecuteTime": {
     "end_time": "2022-03-07T04:58:37.869078Z",
     "start_time": "2022-03-07T04:58:37.116562Z"
    }
   },
   "outputs": [
    {
     "name": "stdout",
     "output_type": "stream",
     "text": [
      "5\n",
      "5\n"
     ]
    }
   ],
   "source": [
    "import sys\n",
    "# 백준에 넘길 때만 주석 풀기\n",
    "# input = sys.stdin.readline\n",
    "N = int(input())\n",
    "n = len(str(N))\n",
    "\n",
    "total = (N - 10 ** (n-1) + 1) * n\n",
    "for i in range(n-1):\n",
    "    total += (i+1) * 9 * (10 ** i)\n",
    "\n",
    "print(total)"
   ]
  },
  {
   "cell_type": "markdown",
   "metadata": {},
   "source": [
    "# 14. [백준, 파이썬] 다음 순열, Brute Force\n",
    "## 문제 해결 아이디어\n",
    "- 내가 생각한 아이디어\n",
    "    - 순열의 맨 뒤에서부터, 숫자가 증가하지 않는 순간을 찾는다. (for)\n",
    "    - 숫자가 증가하지 않는다는 것은, 그보다 앞의 숫자를 건드리지 않고도, 사전순으로 더 높은 순열을 만들 수 있다는 뜻이다.\n",
    "        - 그보다 앞의 숫자들은 건드리지 않는다.\n",
    "        - 그리고 그 때까지의 숫자들로, 사전순으로 다음에 오는 순열을 만들어 붙인다.\n",
    "            - 감소한 순간의 숫자를 key라고 할 때, 그 때까지의 숫자들 중 key의 바로 다음으로 큰 숫자를 찾아 key의 자리에 앉히고, 나머지 숫자들은 오름차순으로 정렬하여 key의 자리 뒤에 붙인다.\n",
    "    - 숫자가 증가하지 않는 순간을 찾지 못하면, -1을 출력한다. (else)"
   ]
  },
  {
   "cell_type": "code",
   "execution_count": 20,
   "metadata": {
    "ExecuteTime": {
     "end_time": "2022-03-07T05:36:35.198624Z",
     "start_time": "2022-03-07T05:36:31.164645Z"
    }
   },
   "outputs": [
    {
     "name": "stdout",
     "output_type": "stream",
     "text": [
      "5\n",
      "5 4 3 2 1\n",
      "-1\n"
     ]
    }
   ],
   "source": [
    "n = int(input())\n",
    "ls = list(map(int, input().split()))\n",
    "key = 0\n",
    "for i in range(n-1, -1, -1):\n",
    "    if ls[i] < key:\n",
    "        tmp = ls[i:]\n",
    "        tmp.sort()\n",
    "        index = tmp.index(ls[i])\n",
    "        first = tmp.pop(index+1)\n",
    "        print(\" \".join(list(map(str, ls[:i] + [first] + tmp))))\n",
    "        break\n",
    "    key = ls[i]\n",
    "else :\n",
    "    print(-1)"
   ]
  },
  {
   "cell_type": "markdown",
   "metadata": {},
   "source": [
    "# 15. [백준, 파이썬] 이전 순열, Brute Force\n",
    "## 문제 해결 아이디어\n",
    "- 내가 생각한 아이디어\n",
    "    - 다음 순열의 정반대 알고리즘\n",
    "    - 순열의 맨 뒤에서부터, 숫자가 감소하지 않는 순간을 찾는다. (for)\n",
    "    - 숫자가 감소하지 않는다는 것은, 그보다 앞의 숫자를 건드리지 않고도, 사전순으로 더 낮은 순열을 만들 수 있다는 뜻이다.\n",
    "        - 그보다 앞의 숫자들은 건드리지 않는다.\n",
    "        - 그리고 그 때까지의 숫자들로, 사전순으로 이전에 오는 순열을 만들어 붙인다.\n",
    "            - 증가한 순간의 숫자를 key라고 할 때, 그 때까지의 숫자들 중 key의 바로 다음으로 작은 숫자를 찾아 key의 자리에 앉히고, 나머지 숫자들은 내림차순으로 정렬하여 key의 자리 뒤에 붙인다.\n",
    "    - 숫자가 감소하지 않는 순간을 찾지 못하면, -1을 출력한다. (else)"
   ]
  },
  {
   "cell_type": "code",
   "execution_count": 22,
   "metadata": {
    "ExecuteTime": {
     "end_time": "2022-03-07T05:48:04.442977Z",
     "start_time": "2022-03-07T05:48:00.747164Z"
    }
   },
   "outputs": [
    {
     "name": "stdout",
     "output_type": "stream",
     "text": [
      "5\n",
      "5 4 3 2 1\n",
      "5 4 3 1 2\n"
     ]
    }
   ],
   "source": [
    "import sys\n",
    "# 백준에 넘길 때만 주석 풀기\n",
    "# input = sys.stdin.readline\n",
    "\n",
    "n = int(input())\n",
    "ls = list(map(int, input().split()))\n",
    "key = 10001\n",
    "for i in range(n-1, -1, -1):\n",
    "    if ls[i] > key:\n",
    "        tmp = ls[i:]\n",
    "        tmp.sort(reverse=True)\n",
    "        index = tmp.index(ls[i])\n",
    "        first = tmp.pop(index+1)\n",
    "        print(\" \".join(list(map(str, ls[:i] + [first] + tmp))))\n",
    "        break\n",
    "    key = ls[i]\n",
    "else :\n",
    "    print(-1)"
   ]
  },
  {
   "cell_type": "markdown",
   "metadata": {},
   "source": [
    "# 16. [백준, 파이썬] 모든 순열, Brute Force\n",
    "## 문제 해결 아이디어\n",
    "- 내가 생각한 아이디어\n",
    "    - itertools의 permutations"
   ]
  },
  {
   "cell_type": "code",
   "execution_count": 26,
   "metadata": {
    "ExecuteTime": {
     "end_time": "2022-03-07T05:54:47.495419Z",
     "start_time": "2022-03-07T05:54:46.794422Z"
    }
   },
   "outputs": [
    {
     "name": "stdout",
     "output_type": "stream",
     "text": [
      "3\n",
      "1 2 3\n",
      "1 3 2\n",
      "2 1 3\n",
      "2 3 1\n",
      "3 1 2\n",
      "3 2 1\n"
     ]
    }
   ],
   "source": [
    "from itertools import permutations\n",
    "\n",
    "n = int(input())\n",
    "ls = [str(i) for i in range(1,n+1)]\n",
    "for case in list(permutations(ls)):\n",
    "    print(\" \".join(case))"
   ]
  },
  {
   "cell_type": "markdown",
   "metadata": {
    "ExecuteTime": {
     "end_time": "2022-03-07T06:09:44.050932Z",
     "start_time": "2022-03-07T06:09:44.041949Z"
    }
   },
   "source": [
    "# 17. [백준, 파이썬] 차이를 최대로, Brute Force\n",
    "## 문제 해결 아이디어\n",
    "- 내가 생각한 아이디어\n",
    "    - 해당 패턴은, 두 수 중에 하나만 반드시 -가 붙는다는 의미이다. \n",
    "    - n이 짝수인 경우, 전체 갯수의 n//2에 반드시 -가 붙는다.\n",
    "    - n이 홀수인 경우, 전체 갯수의 n//2 또는 n//2 +1개 만큼 -가 붙을 수 있다.\n",
    "    1. 오름차순으로 정렬\n",
    "    2. 앞의 n//2개 혹은 n//2+1개에 -를 붙인 합계 중 큰 것을 출력"
   ]
  },
  {
   "cell_type": "code",
   "execution_count": 31,
   "metadata": {
    "ExecuteTime": {
     "end_time": "2022-03-07T06:29:39.427440Z",
     "start_time": "2022-03-07T06:29:31.028370Z"
    }
   },
   "outputs": [
    {
     "name": "stdout",
     "output_type": "stream",
     "text": [
      "6\n",
      "20 1 15 8 4 10\n",
      "62\n"
     ]
    }
   ],
   "source": [
    "from itertools import permutations\n",
    "\n",
    "n = int(input())\n",
    "ls = list(map(int, input().split()))\n",
    "\n",
    "maxNum = 0\n",
    "for case in list(permutations(ls)):\n",
    "    total = 0\n",
    "    for i in range(n-1):\n",
    "        total += abs(case[i+1] - case[i])\n",
    "    \n",
    "    if total > maxNum:\n",
    "        maxNum = total\n",
    "\n",
    "print(maxNum)"
   ]
  },
  {
   "cell_type": "code",
   "execution_count": 30,
   "metadata": {
    "ExecuteTime": {
     "end_time": "2022-03-07T06:23:07.834251Z",
     "start_time": "2022-03-07T06:23:07.816592Z"
    }
   },
   "outputs": [
    {
     "data": {
      "text/plain": [
       "62"
      ]
     },
     "execution_count": 30,
     "metadata": {},
     "output_type": "execute_result"
    }
   ],
   "source": [
    "-8 +20 +20 -1 -1 +15 +15 -4 -4 +10"
   ]
  },
  {
   "cell_type": "markdown",
   "metadata": {},
   "source": [
    "# 17. [백준, 파이썬] 외판원 순회 2, Brute Force\n",
    "## 문제 해결 아이디어\n",
    "- 내가 생각한 아이디어\n",
    "    - 10!은 360만. 경우의수를 다 살펴볼만하다\n",
    "    - permutations로 도시순회순서의 모든 경우를 계산\n",
    "    - for 모든 경우, 비용 계산하여 최소비용과 비교하여 갱신"
   ]
  },
  {
   "cell_type": "code",
   "execution_count": 51,
   "metadata": {
    "ExecuteTime": {
     "end_time": "2022-03-07T06:59:37.389928Z",
     "start_time": "2022-03-07T06:59:27.899078Z"
    }
   },
   "outputs": [
    {
     "name": "stdout",
     "output_type": "stream",
     "text": [
      "4\n",
      "0 10 15 20\n",
      "5 0 9 10\n",
      "6 13 0 12\n",
      "8 8 9 0\n",
      "[0, 1, 2, 3, 0]\n",
      "[0, 1, 3, 2, 0]\n",
      "35\n"
     ]
    }
   ],
   "source": [
    "from itertools import permutations\n",
    "import sys\n",
    "# 백준에 넘길 때만 주석 풀기\n",
    "# input = sys.stdin.readline\n",
    "\n",
    "n = int(input())\n",
    "array = []\n",
    "for _ in range(n):\n",
    "    array.append(list(map(int, input().split())))\n",
    "\n",
    "all_case = list(permutations([i for i in range(n)]))\n",
    "\n",
    "min_cost = 99999999\n",
    "for case in all_case:\n",
    "    case = list(case)\n",
    "    case.append(case[0])\n",
    "    total = 0\n",
    "    for i in range(n):\n",
    "        cost = array[case[i]][case[i+1]]\n",
    "        if cost == 0: \n",
    "            break\n",
    "        total += cost\n",
    "        if total > min_cost:\n",
    "            break\n",
    "    else: \n",
    "        if total < min_cost:\n",
    "            min_cost = total\n",
    "print(min_cost)"
   ]
  },
  {
   "cell_type": "markdown",
   "metadata": {},
   "source": [
    "# 17. [백준, 파이썬] 로또, Brute Force\n",
    "## 문제 해결 아이디어\n",
    "- 내가 생각한 아이디어\n",
    "    - itertools의 permutations"
   ]
  },
  {
   "cell_type": "code",
   "execution_count": 56,
   "metadata": {
    "ExecuteTime": {
     "end_time": "2022-03-07T07:08:26.348694Z",
     "start_time": "2022-03-07T07:08:20.786056Z"
    },
    "scrolled": true
   },
   "outputs": [
    {
     "name": "stdout",
     "output_type": "stream",
     "text": [
      "7 1 2 3 4 5 6 7\n",
      "8 1 2 3 5 8 13 21 34\n",
      "0\n",
      "1 2 3 4 5 6\n",
      "1 2 3 4 5 7\n",
      "1 2 3 4 6 7\n",
      "1 2 3 5 6 7\n",
      "1 2 4 5 6 7\n",
      "1 3 4 5 6 7\n",
      "2 3 4 5 6 7\n",
      "\n",
      "1 2 3 5 8 13\n",
      "1 2 3 5 8 21\n",
      "1 2 3 5 8 34\n",
      "1 2 3 5 13 21\n",
      "1 2 3 5 13 34\n",
      "1 2 3 5 21 34\n",
      "1 2 3 8 13 21\n",
      "1 2 3 8 13 34\n",
      "1 2 3 8 21 34\n",
      "1 2 3 13 21 34\n",
      "1 2 5 8 13 21\n",
      "1 2 5 8 13 34\n",
      "1 2 5 8 21 34\n",
      "1 2 5 13 21 34\n",
      "1 2 8 13 21 34\n",
      "1 3 5 8 13 21\n",
      "1 3 5 8 13 34\n",
      "1 3 5 8 21 34\n",
      "1 3 5 13 21 34\n",
      "1 3 8 13 21 34\n",
      "1 5 8 13 21 34\n",
      "2 3 5 8 13 21\n",
      "2 3 5 8 13 34\n",
      "2 3 5 8 21 34\n",
      "2 3 5 13 21 34\n",
      "2 3 8 13 21 34\n",
      "2 5 8 13 21 34\n",
      "3 5 8 13 21 34\n",
      "\n"
     ]
    }
   ],
   "source": [
    "from itertools import combinations\n",
    "answer = []\n",
    "while True:\n",
    "    tmp = list(map(int, input().split()))\n",
    "    k = tmp[0]\n",
    "    if k == 0:\n",
    "        break\n",
    "    ls = tmp[1:]\n",
    "    all_case = list(combinations(ls, 6))\n",
    "    for case in all_case:\n",
    "        answer.append(\" \".join(list(map(str, case))))\n",
    "    answer.append(\"\")\n",
    "for ans in answer:\n",
    "    print(ans)"
   ]
  },
  {
   "cell_type": "markdown",
   "metadata": {},
   "source": [
    "# [프로그래머스 / 파이썬] 모의고사, Brute Force (완전 탐색)\n",
    "## 문제 해결 아이디어\n",
    "- 내가 생각한 아이디어\n",
    "    - 단순히 1,2,3번 수포자가 찍는 방식대로 찍으면 몇개를 맞추는지 확인하고, 가장 높은 점수를 받은 수포자들이 담긴 리스트를 반환한다."
   ]
  },
  {
   "cell_type": "code",
   "execution_count": 9,
   "metadata": {},
   "outputs": [],
   "source": [
    "def solution(answers):\n",
    "    student = [[1,2,3,4,5],\n",
    "               [2,1,2,3,2,4,2,5],\n",
    "               [3,3,1,1,2,2,4,4,5,5]]\n",
    "    scores = [0,0,0]\n",
    "    \n",
    "    for number, answer in enumerate(answers):\n",
    "        for i in range(3):\n",
    "            if answer == student[i][number%len(student[i])]:\n",
    "                scores[i] += 1\n",
    "    maxScore = max(scores)\n",
    "    answer = []\n",
    "    for i in range(3):\n",
    "        if scores[i] == maxScore:\n",
    "            answer.append(i+1)\n",
    "    return answer"
   ]
  },
  {
   "cell_type": "code",
   "execution_count": 11,
   "metadata": {},
   "outputs": [
    {
     "data": {
      "text/plain": [
       "[1, 2, 3]"
      ]
     },
     "execution_count": 11,
     "metadata": {},
     "output_type": "execute_result"
    }
   ],
   "source": [
    "solution([1,2,3,4,5])\n",
    "solution([1,3,2,4,2])"
   ]
  },
  {
   "cell_type": "markdown",
   "metadata": {},
   "source": [
    "# [프로그래머스 / 파이썬] 소수 찾기, Brute Force (완전 탐색)\n",
    "## 문제 해결 아이디어\n",
    "- 내가 생각한 아이디어\n",
    "    - 모든 순열의 경우를 다 시도해보는 문제 같다.\n",
    "    - itertools의 permutations를 이용해서 숫자 1개~n개까지의 모든 순열을 다 소수인지 확인해본다\n",
    "    - 소수인지 확인하는 함수를 작성한다 (에라토스테네스의 체)"
   ]
  },
  {
   "cell_type": "code",
   "execution_count": 42,
   "metadata": {},
   "outputs": [],
   "source": [
    "from itertools import permutations\n",
    "\n",
    "def check(x):\n",
    "    if x == 0 or x == 1:\n",
    "        return False\n",
    "    for i in range(2, int(x**(1/2))+1):\n",
    "        if x % i == 0:\n",
    "            return False\n",
    "    return True\n",
    "\n",
    "def solution(numbers):\n",
    "    numbers = list(numbers)\n",
    "    N = len(numbers)\n",
    "    answer = []\n",
    "    for i in range(1, N+1):\n",
    "        for case in list(permutations(numbers, i)):\n",
    "            trial = int(\"\".join(case))\n",
    "            if check(trial) and trial not in answer:\n",
    "                answer.append(trial)\n",
    "    return len(answer)"
   ]
  },
  {
   "cell_type": "code",
   "execution_count": 43,
   "metadata": {},
   "outputs": [
    {
     "data": {
      "text/plain": [
       "2"
      ]
     },
     "execution_count": 43,
     "metadata": {},
     "output_type": "execute_result"
    }
   ],
   "source": [
    "solution(\"011\")"
   ]
  },
  {
   "cell_type": "markdown",
   "metadata": {},
   "source": [
    "# [프로그래머스 / 파이썬] 카펫, Brute Force (완전 탐색)\n",
    "## 문제 해결 아이디어\n",
    "- 내가 생각한 아이디어\n",
    "    - brown과 yellow를 합친 값의 약수여야한다.\n",
    "    - 2 x (두수의 합) - 4  == brown 이어야한다."
   ]
  },
  {
   "cell_type": "code",
   "execution_count": 44,
   "metadata": {},
   "outputs": [],
   "source": [
    "def solution(brown, yellow):\n",
    "    for i in range(3, int((brown+yellow)**(1/2))+1):\n",
    "        quo, rem = divmod(brown+yellow, i)\n",
    "        if rem == 0 and 2*(i + quo)- 4 == brown:\n",
    "            return [quo, i]"
   ]
  },
  {
   "cell_type": "code",
   "execution_count": 45,
   "metadata": {},
   "outputs": [
    {
     "data": {
      "text/plain": [
       "[4, 3]"
      ]
     },
     "execution_count": 45,
     "metadata": {},
     "output_type": "execute_result"
    }
   ],
   "source": [
    "solution(10,2)"
   ]
  }
 ],
 "metadata": {
  "kernelspec": {
   "display_name": "Python 3",
   "language": "python",
   "name": "python3"
  },
  "language_info": {
   "codemirror_mode": {
    "name": "ipython",
    "version": 3
   },
   "file_extension": ".py",
   "mimetype": "text/x-python",
   "name": "python",
   "nbconvert_exporter": "python",
   "pygments_lexer": "ipython3",
   "version": "3.8.5"
  },
  "toc": {
   "base_numbering": 1,
   "nav_menu": {},
   "number_sections": false,
   "sideBar": true,
   "skip_h1_title": false,
   "title_cell": "Table of Contents",
   "title_sidebar": "Contents",
   "toc_cell": false,
   "toc_position": {},
   "toc_section_display": true,
   "toc_window_display": false
  }
 },
 "nbformat": 4,
 "nbformat_minor": 4
}
