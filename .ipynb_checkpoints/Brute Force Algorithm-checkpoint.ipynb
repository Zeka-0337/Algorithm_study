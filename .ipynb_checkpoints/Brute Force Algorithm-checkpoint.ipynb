{
 "cells": [
  {
   "cell_type": "markdown",
   "metadata": {},
   "source": [
    "# 1. 상하좌우"
   ]
  },
  {
   "cell_type": "markdown",
   "metadata": {},
   "source": [
    "### 문제 설명\n",
    "- 여행가 A가 N X N 크기의 정사각형 공간 위에 서 있습니다. 이 공간은 1 x 1 크기의 정사각형으로 나누어져 있습니다 .가장 왼쪽 위 좌표는 (1, 1)이며, 가장 오른쪽 아래 좌표는 (N, N)에 해당합니다. 여행가 A는 **상, 하, 좌, 우 방향으로 이동**할 수 있으며, 시작 좌표는 항상 (1, 1)입니다. 우리 앞에는 여행가 A가 이동할 계획이 적힌 계획서가 놓여 있습니다.\n",
    "- 계획서에는 하나의 줄에 띄어쓰기를 기준으로 하여 L, R, U, D 중 하나의 문자가 반복적으로 적혀 있습니다. 각 문자의 의미는 다음과 같습니다.\n",
    "    - L : left, R : right, U : up, D : down\n",
    "- 이때 여행가 A가 N x N 크기의 정사각형 공간을 벗어나는 움직임은 무시됩니다."
   ]
  },
  {
   "cell_type": "markdown",
   "metadata": {},
   "source": [
    "### 문제 조건\n",
    "- 난이도 : 하\n",
    "- 풀이 시간 : 15분\n",
    "- 시간 제한 : 2초\n",
    "- 메모리 제한 : 128MB\n",
    "<br>\n",
    "\n",
    "- 입력 조건 : 첫째 줄에 공간의 크기를 나타내는 N이 주어집니다. / 둘째 줄에 여행가 A가 이동할 계획서 내용이 주어집니다.\n",
    "- 출력 조건 : 첫째 줄에 여행가 A가 최종적으로 도착할 지점의 좌표 (X, Y)를 공백을 기준으로 구분하여 출력합니다.\n",
    "<br>\n",
    "\n",
    "- 입력 예시 : 5 / R R R U D D\n",
    "- 출력 에시 : 3 4"
   ]
  },
  {
   "cell_type": "markdown",
   "metadata": {},
   "source": [
    "### 프로그램 코드"
   ]
  },
  {
   "cell_type": "code",
   "execution_count": 2,
   "metadata": {},
   "outputs": [
    {
     "name": "stdout",
     "output_type": "stream",
     "text": [
      "5\n",
      "R R R U D D\n",
      "3 4\n"
     ]
    }
   ],
   "source": [
    "# 내가 작성한 코드\n",
    "N = int(input())\n",
    "ls = list(input().split())\n",
    "x = 1\n",
    "y = 1\n",
    "for dr in ls:\n",
    "    if dr == \"R\" and x < N:\n",
    "        y += 1\n",
    "    elif dr == \"L\" and x > 1:\n",
    "        y -= 1\n",
    "    elif dr == \"D\" and x < N:\n",
    "        x += 1\n",
    "    elif dr == \"U\" and x > 1:\n",
    "        x -= 1\n",
    "print(x, y)"
   ]
  },
  {
   "cell_type": "markdown",
   "metadata": {},
   "source": [
    "# 2. 시각"
   ]
  },
  {
   "cell_type": "markdown",
   "metadata": {},
   "source": [
    "### 문제 설명\n",
    "- 정수 N이 입력되면 00시 00분 00초부터 N시 59분 59초까지 **모든 시각 중에서 3이 하나라도 포함되는 모든 경우의 수를 구하는** 프로그램을 작성하세요. 예를 들어 1을 입력했을 때 다음은 3이 하나라도 포함되어 있으므로 세어야하는 시각입니다. (00시 00분 03초, 00시 13분 30초)\n",
    "- 반면에 다음은 3이 하나도 포함되어 있지 않으므로 세면 안되는 시각입니다. (00시 02분 55초, 01시 27분 45초)"
   ]
  },
  {
   "cell_type": "markdown",
   "metadata": {},
   "source": [
    "### 문제 조건\n",
    "- 난이도 : 하\n",
    "- 풀이 시간 : 15분\n",
    "- 시간 제한 : 2초\n",
    "- 메모리 제한 : 128MB\n",
    "<br>\n",
    "- 입력 조건 : 첫째 줄에 정수 N이 입력됩니다. \n",
    "- 출력 조건 : 00시 00분 00초부터 N시 59분 59초까지의 모든 시각 중에서 3이 하나라도 포함되는 모든 경우의 수를 출력합니다.\n",
    "<br>\n",
    "- 입력 예시 : 5\n",
    "- 출력 예시 : 11475"
   ]
  },
  {
   "cell_type": "markdown",
   "metadata": {},
   "source": [
    "### 문제 해결 아이디어\n",
    "- 내가 생각한 아이디어\n",
    "    - 시간>분>초 순서대로 3이 포함되어있는지 아닌지 확인하고 포함되어있다면 해당flag = True, 초까지 확인하고 모든 flag 중에서 하나라도 True면 cnt += 1"
   ]
  },
  {
   "cell_type": "markdown",
   "metadata": {},
   "source": [
    "### 프로그램 코드"
   ]
  },
  {
   "cell_type": "code",
   "execution_count": 8,
   "metadata": {},
   "outputs": [
    {
     "name": "stdout",
     "output_type": "stream",
     "text": [
      "23\n",
      "43875\n",
      "23\n",
      "43875\n"
     ]
    }
   ],
   "source": [
    "# 내가 작성한 코드\n",
    "N = int(input())\n",
    "\n",
    "cnt = 0\n",
    "\n",
    "for i in range(N+1):\n",
    "    flag_H = False\n",
    "    if \"3\" in str(i):\n",
    "        flag_H = True\n",
    "        \n",
    "    for j in range(60):\n",
    "        flag_M = False\n",
    "        if flag_H or \"3\" in str(j):\n",
    "            flag_M = True\n",
    "            \n",
    "        for k in range(60):\n",
    "            flag_S = False\n",
    "            if flag_H or flag_M or \"3\" in str(k):\n",
    "                flag_S = True\n",
    "                \n",
    "            if flag_H or flag_M or flag_S :\n",
    "                cnt += 1\n",
    "                                              \n",
    "print(cnt)\n",
    "\n",
    "# 답안 코드\n",
    "N = int(input())\n",
    "\n",
    "cnt = 0\n",
    "for i in range(N+1):\n",
    "    for j in range(60):\n",
    "        for k in range(60):\n",
    "            if \"3\" in str(i)+str(j)+str(k):\n",
    "                cnt += 1\n",
    "print(cnt)"
   ]
  },
  {
   "cell_type": "markdown",
   "metadata": {},
   "source": [
    "# 3. 왕실의 나이트"
   ]
  },
  {
   "cell_type": "markdown",
   "metadata": {},
   "source": [
    "### 문제 설명\n",
    "- 행복 왕국의 왕실 정원은 체스판과 같은 8 x 8 좌표 평면입니다. 왕실 정원의 특정한 한 칸에 나이트가 서 있습니다. 나이트는 매우 충성스러운 신하로서 매일 무술을 연마합니다.\n",
    "- 나이트는 말을 타고 있기 때문에 이동을 할 때에는 L자 형태로만 이동할 수 있으며, 정원밖으로는 나갈 수 없습니다.\n",
    "- 나이트는 특정위치에서 다음과 같은 2가지 경우로 이동할 수 있습니다.\n",
    "    1. 수평으로 두칸 이동한 뒤에 수직으로 한칸 이동하기\n",
    "    2. 수직으로 두칸 이동한 뒤에 수평으로 한칸 이동하기\n",
    "- 이처럼 8 x 8 평면 상에서 나이트의 위치가 주어졌을 때 나이트가 이동할 수 있는 경우의 수를 출력하는 프로그램을 작성하세요. 왕실의 정원에서 행 위치를 표현할 떄는 1부터 8로 표현하며, 열 위치를 표현할 때는 a부터 h로 표현합니다.\n",
    "    - c2에 있을 때 이동할 수 있는 경우의 수는 6가지 입니다.\n",
    "    - a1에 있을 때 이동할 수 있는 경우의 수는 2가지 입니다.\n",
    "    "
   ]
  },
  {
   "cell_type": "markdown",
   "metadata": {},
   "source": [
    "### 문제 조건\n",
    "- 난이도 : 하\n",
    "- 풀이 시간 : 20분\n",
    "- 시간 제한 : 1초\n",
    "- 메모리 제한 : 128MB\n",
    "<br>\n",
    "- 입력 조건 : 첫째 줄에 8 x 8 좌표 평면 상에서 현재 나이트가 위치한 곳의 좌표를 나타내는 두 문자로 구성된 문자열이 입력된다. 입력 문자는 a1처럼 열과 행으로 이뤄진다.\n",
    "- 출력 조건 : 첫째 줄에 나이트가 이동할 수 있는 경우의 수를 출력하시오.\n",
    "<br>\n",
    "- 입력 예시 : a1\n",
    "- 출력 예시 : 2"
   ]
  },
  {
   "cell_type": "markdown",
   "metadata": {},
   "source": [
    "### 프로그램 코드"
   ]
  },
  {
   "cell_type": "code",
   "execution_count": 14,
   "metadata": {},
   "outputs": [
    {
     "name": "stdout",
     "output_type": "stream",
     "text": [
      "c2\n",
      "6\n"
     ]
    }
   ],
   "source": [
    "# 내가 작성한 코드\n",
    "loc = input()\n",
    "x, y = ord(loc[0])-96, int(loc[1])\n",
    "\n",
    "move_x = [-2, -2, -1, -1, 1, 1, 2, 2]\n",
    "move_y = [1, -1, 2, -2, 2, -2, 1, -1]\n",
    "\n",
    "cnt = 0\n",
    "\n",
    "for i in range(8):\n",
    "    next_x = x+move_x[i]\n",
    "    next_y = y+move_y[i]\n",
    "    \n",
    "    if next_x < 1 or next_x > 8 or next_y < 1 or next_y > 8:\n",
    "        continue\n",
    "    cnt += 1\n",
    "    \n",
    "print(cnt)"
   ]
  },
  {
   "cell_type": "markdown",
   "metadata": {},
   "source": [
    "# 4. 문자열 재정렬"
   ]
  },
  {
   "cell_type": "markdown",
   "metadata": {},
   "source": [
    "### 문제 설명\n",
    "- 알파벳 대문자와 숫자(0~9)로만 구성된 문자열이 입력으로 주어집니다. 이때 모든 알파벳을 오름차순으로 정렬하여 이어서 출력한 뒤에, 그 뒤에 모든 숫자를 더한 값을 이어서 출력합니다.\n",
    "- 예를 들어 K1KA5CB7이라는 값이 들어오면 ABCKK13을 출력합니다."
   ]
  },
  {
   "cell_type": "markdown",
   "metadata": {},
   "source": [
    "### 문제 조건\n",
    "- 난이도 : 하\n",
    "- 풀이 시간 : 20분\n",
    "- 시간 제한 : 1초\n",
    "- 메모리 제한 : 128MB\n",
    "- 기출: Facebook 인터뷰\n",
    "<br>\n",
    "- 입력 조건 : 첫째 줄에 하나의 문자열 S가 주어집니다. \n",
    "- 출력 조건 : 첫째 줄에 문제에서 요구하는 정답을 출력합니다."
   ]
  },
  {
   "cell_type": "markdown",
   "metadata": {},
   "source": [
    "### 프로그램 코드"
   ]
  },
  {
   "cell_type": "code",
   "execution_count": 22,
   "metadata": {},
   "outputs": [
    {
     "name": "stdout",
     "output_type": "stream",
     "text": [
      "K1KA5CB7\n",
      "ABCKK13\n"
     ]
    }
   ],
   "source": [
    "# 내가 작성한 코드\n",
    "S = input()\n",
    "ls = list(S)\n",
    "ls.sort()\n",
    "\n",
    "total = 0\n",
    "for i in range(len(ls)):\n",
    "    if ord(ls[i]) >= 65:\n",
    "        print(''.join(ls[i:]) + str(total))\n",
    "        break\n",
    "    total += int(ls[i])"
   ]
  },
  {
   "cell_type": "markdown",
   "metadata": {},
   "source": [
    "# 5. 프로그래머스 - 모의고사"
   ]
  },
  {
   "cell_type": "code",
   "execution_count": 26,
   "metadata": {},
   "outputs": [],
   "source": [
    "# 내가 작성한 코드\n",
    "def solution(answers):\n",
    "    way1 = [1,2,3,4,5]\n",
    "    way2 = [2,1,2,3,2,4,2,5]\n",
    "    way3 = [3,3,1,1,2,2,4,4,5,5]\n",
    "    \n",
    "    cnt1 = 0\n",
    "    cnt2 = 0\n",
    "    cnt3 = 0\n",
    "    \n",
    "    for idx, num in enumerate(answers):\n",
    "        if num == way1[idx%len(way1)]:\n",
    "            cnt1 += 1\n",
    "        if num == way2[idx%len(way2)]:\n",
    "            cnt2 += 1\n",
    "        if num == way3[idx%len(way3)]:\n",
    "            cnt3 += 1\n",
    "            \n",
    "    cntList = [cnt1, cnt2, cnt3]\n",
    "    maxNum = max(cntList)\n",
    "    ls = []\n",
    "    for idx, num in enumerate(cntList):\n",
    "        if num == maxNum:\n",
    "            ls.append(idx+1)\n",
    "    return ls"
   ]
  },
  {
   "cell_type": "markdown",
   "metadata": {},
   "source": [
    "# 6. 프로그래머스 - 카펫"
   ]
  },
  {
   "cell_type": "markdown",
   "metadata": {},
   "source": [
    "### 문제 해결 아이디어\n",
    "- 내가 생각한 아이디어\n",
    "    - yellow의 약수 조합 (i,j) 중, (i+2) * (j+2) == total 인 경우"
   ]
  },
  {
   "cell_type": "code",
   "execution_count": 48,
   "metadata": {},
   "outputs": [
    {
     "data": {
      "text/plain": [
       "[4, 3]"
      ]
     },
     "execution_count": 48,
     "metadata": {},
     "output_type": "execute_result"
    }
   ],
   "source": [
    "# 내가 작성한 코드\n",
    "def solution(brown, yellow):\n",
    "    total = brown + yellow\n",
    "    num = total//2\n",
    "    for i in range(1,int((yellow)**(1/2)+1)):\n",
    "        j, mod = divmod(yellow, i)\n",
    "        if (mod == 0):\n",
    "            if (total%(j+2) == 0):\n",
    "                return [j+2, i+2]\n",
    "solution(10, 2)            "
   ]
  },
  {
   "cell_type": "markdown",
   "metadata": {},
   "source": [
    "# 7. [백준, 파이썬] 일곱 난쟁이, Brute Force\n",
    "### 문제 해결 아이디어\n",
    "- 내가 생각한 아이디어\n",
    "    - 이중 반복문을 이용한 풀이\n",
    "    1. 아홉 명의 키를 오름차순으로 정렬\n",
    "    2. total = 9명의 키 총합\n",
    "    3. flag = False\n",
    "    4. for i in range(9):\n",
    "        - for j in range(i+1,9):\n",
    "            - 만약 (total - i번째 난쟁이의 키 - j번째 난쟁이의 키)가 100이면\n",
    "                - flag = True\n",
    "                - break\n",
    "        - if flag : break\n",
    "    5. i, j번째 난쟁이를 remove\n",
    "    6. 남은 난쟁이 리스트를 반복문 돌면서 print"
   ]
  },
  {
   "cell_type": "code",
   "execution_count": 1,
   "metadata": {
    "ExecuteTime": {
     "end_time": "2022-03-06T09:40:59.010653Z",
     "start_time": "2022-03-06T09:40:45.823715Z"
    }
   },
   "outputs": [
    {
     "name": "stdout",
     "output_type": "stream",
     "text": [
      "20\n",
      "7\n",
      "23\n",
      "19\n",
      "10\n",
      "15\n",
      "25\n",
      "8\n",
      "13\n",
      "7\n",
      "8\n",
      "10\n",
      "13\n",
      "19\n",
      "20\n",
      "23\n"
     ]
    }
   ],
   "source": [
    "ls = []\n",
    "for _ in range(9):\n",
    "    ls.append(int(input()))\n",
    "    \n",
    "ls.sort()\n",
    "total = sum(ls)\n",
    "flag = False\n",
    "for i in range(9):\n",
    "    for j in range(i+1, 9):\n",
    "        if (total - ls[i] - ls[j] == 100):\n",
    "            flag = True\n",
    "            break\n",
    "    if flag:\n",
    "        break\n",
    "a = ls[i]\n",
    "b = ls[j]\n",
    "ls.remove(a)\n",
    "ls.remove(b)\n",
    "for i in ls:\n",
    "    print(i)"
   ]
  },
  {
   "cell_type": "markdown",
   "metadata": {},
   "source": [
    "# 8. [백준, 파이썬] 사탕 게임, Brute Force\n",
    "### 문제 해결 아이디어\n",
    "- 내가 생각한 아이디어\n",
    "    - 모든 경우의 수를 다 시도하되, n이 나오면 break\n",
    "- 피드백\n",
    "    - deepcopy는 시간이 겁나게 오래걸린다. 차라리 원본을 바꾸고 원래대로 되돌려 놓는게 더 빠르다\n",
    "    - 시간복잡도가 1억이 넘으면 대략적으로 1초를 넘긴다고 한다. 하지만, 굉장히 허술한 방법이니 유의하자"
   ]
  },
  {
   "cell_type": "code",
   "execution_count": 18,
   "metadata": {
    "ExecuteTime": {
     "end_time": "2022-03-06T10:46:00.572839Z",
     "start_time": "2022-03-06T10:45:57.095661Z"
    }
   },
   "outputs": [
    {
     "name": "stdout",
     "output_type": "stream",
     "text": [
      "3\n",
      "CCC\n",
      "PPP\n",
      "ZZC\n",
      "3\n"
     ]
    }
   ],
   "source": [
    "import sys\n",
    "#  백준에 넘길 때만 주석 풀기\n",
    "# input = sys.stdin.readline\n",
    "n = int(input())\n",
    "arr = []\n",
    "for _ in range(n):\n",
    "    arr.append(list(input()))\n",
    "\n",
    "def count_max(array, n):\n",
    "    maxNum = 0\n",
    "    for i in range(n):\n",
    "        key = \"\"\n",
    "        cnt = 1\n",
    "        for j in range(n):\n",
    "            if key != array[i][j]:\n",
    "                cnt = 1\n",
    "                key = array[i][j]\n",
    "            else :\n",
    "                cnt += 1\n",
    "                maxNum = max(maxNum, cnt)\n",
    "                if maxNum == n:\n",
    "                    return n\n",
    "        key = \"\"\n",
    "        cnt = 1\n",
    "        for j in range(n):\n",
    "            if key != array[j][i]:\n",
    "                cnt = 1\n",
    "                key = array[j][i]\n",
    "            else :\n",
    "                cnt += 1\n",
    "                maxNum = max(maxNum, cnt)\n",
    "                if maxNum == n:\n",
    "                    return n\n",
    "    return maxNum\n",
    "\n",
    "def try_change(array, n):\n",
    "    maxNum = 0\n",
    "    for i in range(n):\n",
    "        for j in range(n-1):\n",
    "            if array[i][j] != array[i][j+1]:\n",
    "                tmp = array\n",
    "                tmp[i][j], tmp[i][j+1] = tmp[i][j+1], tmp[i][j]\n",
    "                maxNum = max(maxNum, count_max(tmp, n))\n",
    "                if maxNum == n:\n",
    "                    return n\n",
    "                tmp[i][j], tmp[i][j+1] = tmp[i][j+1], tmp[i][j]\n",
    "                \n",
    "            if array[j][i] != array[j+1][i]:\n",
    "                tmp = array\n",
    "                tmp[j][i], tmp[j+1][i] = tmp[j+1][i], tmp[j][i]\n",
    "                maxNum = max(maxNum, count_max(tmp, n))\n",
    "                if maxNum == n:\n",
    "                    return n\n",
    "                tmp[j][i], tmp[j+1][i] = tmp[j+1][i], tmp[j][i]\n",
    "    return maxNum\n",
    "\n",
    "print(try_change(arr,n))"
   ]
  },
  {
   "cell_type": "markdown",
   "metadata": {},
   "source": [
    "# 9. [백준, 파이썬] 날짜 계산, Brute Force\n",
    "### 문제 해결 아이디어\n",
    "- 내가 생각한 아이디어\n",
    "    - 해당하는 지구의 연도는 (15의 배수 + E) 이고 (28의 배수 + S) 이고 (19의 배수 + M)이다.\n",
    "    - 28의 배수가 가장 빠르게 증가하니 28의 배수 + S를 기준으로 나머지 조건이 맞는지 확인해보자"
   ]
  },
  {
   "cell_type": "code",
   "execution_count": 26,
   "metadata": {
    "ExecuteTime": {
     "end_time": "2022-03-06T10:58:16.414875Z",
     "start_time": "2022-03-06T10:58:13.562566Z"
    }
   },
   "outputs": [
    {
     "name": "stdout",
     "output_type": "stream",
     "text": [
      "15 28 19\n",
      "7980\n"
     ]
    }
   ],
   "source": [
    "E, S, M = map(int, input().split())\n",
    "for i in range(286):\n",
    "    target = i * 28 + S\n",
    "    if (target-E)%15 == 0 and (target-M)%19 == 0:\n",
    "        print(target)\n",
    "        break"
   ]
  },
  {
   "cell_type": "markdown",
   "metadata": {},
   "source": [
    "# 10. [백준, 파이썬] 리모컨, Brute Force\n",
    "## 문제 해결 아이디어\n",
    "- 수정한 아이디어\n",
    "    - 최대한 가까운 숫자를 누르고 +-로 해결 vs +-로 해결 중 적은 횟수를 출력\n",
    "    1. answer = abs(100 - n), +-로 해결할 때 누르는 횟수\n",
    "    2. 10개 숫자 리스트에서 고장난 버튼 remove\n",
    "    3. for i in 0부터 100000까지\n",
    "        - i를 구성하는 숫자들이 숫자 리스트에 전부 있다면 \n",
    "            - answer = min(기존 정답, 자릿수 + (+- 횟수))\n",
    "    4. print(answer)\n",
    "- 피드백\n",
    "    - 왜 안되는지는 모르겠지만, N을 기준으로 위나 아래로 가면서 찾는 것은 틀린다.\n",
    "    - 그냥 무식하게 풀자!"
   ]
  },
  {
   "cell_type": "code",
   "execution_count": 2,
   "metadata": {},
   "outputs": [
    {
     "name": "stdout",
     "output_type": "stream",
     "text": [
      "10\n",
      "10\n",
      "0 1 2 3 4 5 6 7 8 9 \n",
      "90\n"
     ]
    }
   ],
   "source": [
    "import sys\n",
    "# 백준에 넘길 때만 주석 풀기\n",
    "# input = sys.stdin.readline\n",
    "\n",
    "N = int(input())\n",
    "\n",
    "ls = [str(i) for i in range(10)]\n",
    "M = int(input())\n",
    "if M:\n",
    "    broken = list(input().split())\n",
    "    for b in broken:\n",
    "        ls.remove(b)\n",
    "ls = set(ls)\n",
    "\n",
    "answer = abs(100 - N)\n",
    "for i in range(1000001):\n",
    "    for n in str(i):\n",
    "        if n not in ls:\n",
    "            break\n",
    "    else:\n",
    "        answer = min(answer, len(str(i)) + abs(i - N))\n",
    "print(answer)"
   ]
  },
  {
   "cell_type": "markdown",
   "metadata": {},
   "source": [
    "# 11. [백준, 파이썬] 테트로미노, Brute Force\n",
    "## 문제 해결 아이디어\n",
    "- 내가 생각한 아이디어\n",
    "    - 테트로미노를 회전하거나 대칭시켰을 때의 모든 경우의 수는 19가지. N x M의 최댓값은 2000. 대략 40000 정도이기에 모든 경우의 수를 탐색해도 충분히 2초 내로 해낼 수 있을 것이다.\n",
    "    1. 입력 받기\n",
    "    2. maxNum = 0\n",
    "    3. 1x4의 모든 경우의 수 확인 및 maxNum 갱신\n",
    "    4. 2x2의 모든 경우의 수 확인 및 maxNum 갱신 \n",
    "    5. 2x3 (3가지)의 모든 경우의 수 확인 및 maxNum 갱신\n",
    "    \n",
    "    - 추가 장치로, 입력을 정렬하여 가장 큰 4개의 숫자들의 합을 한계치로 두고, maxNum이 한계치라면 바로 break하는 것을 넣을 수 있을 듯 하다"
   ]
  },
  {
   "cell_type": "code",
   "execution_count": 11,
   "metadata": {},
   "outputs": [
    {
     "name": "stdout",
     "output_type": "stream",
     "text": [
      "4 10\n",
      "1 2 1 2 1 2 1 2 1 2\n",
      "2 1 2 1 2 1 2 1 2 1\n",
      "1 2 1 2 1 2 1 2 1 2\n",
      "2 1 2 1 2 1 2 1 2 1\n",
      "7\n"
     ]
    }
   ],
   "source": [
    "import sys\n",
    "# 백준에 넘길 때만 주석 풀기\n",
    "# input = sys.stdin.readline\n",
    "\n",
    "n, m = map(int, input().split())\n",
    "array = []\n",
    "total_array = []\n",
    "for _ in range(n):\n",
    "    tmp = list(map(int, input().split()))\n",
    "    array.append(tmp)\n",
    "    total_array.extend(tmp)\n",
    "total_array.sort()\n",
    "limit = sum(total_array[-4:])\n",
    "\n",
    "\n",
    "def print_max(n, m, array, limit):\n",
    "    maxNum = 0\n",
    "    for i in range(n):\n",
    "        for j in range(m-3):\n",
    "            tmp = sum([array[i][j], array[i][j+1], array[i][j+2], array[i][j+3]])\n",
    "            if tmp > maxNum:\n",
    "                if tmp == limit:\n",
    "                    print(tmp)\n",
    "                    return\n",
    "                maxNum = tmp\n",
    "\n",
    "    for i in range(n-3):\n",
    "        for j in range(m):\n",
    "            tmp = sum([array[i][j], array[i+1][j], array[i+2][j], array[i+3][j]])\n",
    "            if tmp > maxNum:\n",
    "                if tmp == limit:\n",
    "                    print(tmp)\n",
    "                    return\n",
    "                maxNum = tmp\n",
    "\n",
    "    for i in range(n-1):\n",
    "        for j in range(m-1):\n",
    "            tmp = sum([array[i][j], array[i+1][j], array[i][j+1], array[i+1][j+1]])\n",
    "            if tmp > maxNum:\n",
    "                if tmp == limit:\n",
    "                    print(tmp)\n",
    "                    return\n",
    "                maxNum = tmp\n",
    "\n",
    "    for i in range(n-2):\n",
    "        for j in range(m-1):\n",
    "            tmp = max(sum([array[i][j], array[i+1][j], array[i+2][j], array[i+2][j+1]]),\n",
    "                     sum([array[i][j+1], array[i+1][j+1], array[i+2][j], array[i+2][j+1]]),\n",
    "                     sum([array[i][j], array[i+1][j], array[i+2][j], array[i][j+1]]),\n",
    "                     sum([array[i][j], array[i][j+1], array[i+1][j+1], array[i+2][j+1]]),\n",
    "                     sum([array[i][j], array[i+1][j], array[i+1][j+1], array[i+2][j+1]]),\n",
    "                     sum([array[i][j+1], array[i+1][j], array[i+1][j+1], array[i+2][j]]),\n",
    "                     sum([array[i][j], array[i+1][j], array[i+2][j], array[i+1][j+1]]),\n",
    "                     sum([array[i][j+1], array[i+1][j], array[i+1][j+1], array[i+2][j+1]]))\n",
    "            if tmp > maxNum:\n",
    "                if tmp == limit:\n",
    "                    print(tmp)\n",
    "                    return\n",
    "                maxNum = tmp\n",
    "\n",
    "    for i in range(n-1):\n",
    "        for j in range(m-2):\n",
    "            tmp = max(sum([array[i][j], array[i][j+1], array[i][j+2], array[i+1][j]]),\n",
    "                      sum([array[i][j], array[i][j+1], array[i][j+2], array[i+1][j+2]]),\n",
    "                      sum([array[i+1][j], array[i+1][j+1], array[i+1][j+2], array[i][j]]),\n",
    "                      sum([array[i+1][j], array[i+1][j+1], array[i+1][j+2], array[i][j+2]]),\n",
    "                      sum([array[i][j+1], array[i+1][j+1], array[i][j], array[i+1][j+2]]),\n",
    "                      sum([array[i][j+1], array[i+1][j+1], array[i+1][j], array[i][j+2]]),\n",
    "                      sum([array[i][j], array[i][j+1], array[i][j+2], array[i+1][j+1]]),\n",
    "                       sum([array[i+1][j], array[i+1][j+1], array[i+1][j+2], array[i][j+1]]),\n",
    "                     )\n",
    "            if tmp > maxNum:\n",
    "                if tmp == limit:\n",
    "                    print(tmp)\n",
    "                    return\n",
    "                maxNum = tmp\n",
    "    print(maxNum)\n",
    "    return\n",
    "\n",
    "print_max(n, m, array, limit)\n",
    "            \n"
   ]
  },
  {
   "cell_type": "code",
   "execution_count": null,
   "metadata": {},
   "outputs": [],
   "source": []
  }
 ],
 "metadata": {
  "kernelspec": {
   "display_name": "Python 3",
   "language": "python",
   "name": "python3"
  },
  "toc": {
   "base_numbering": 1,
   "nav_menu": {},
   "number_sections": false,
   "sideBar": true,
   "skip_h1_title": false,
   "title_cell": "Table of Contents",
   "title_sidebar": "Contents",
   "toc_cell": false,
   "toc_position": {},
   "toc_section_display": true,
   "toc_window_display": false
  }
 },
 "nbformat": 4,
 "nbformat_minor": 4
}
