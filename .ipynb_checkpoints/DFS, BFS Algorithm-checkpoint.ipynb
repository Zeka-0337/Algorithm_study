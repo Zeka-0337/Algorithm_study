{
 "cells": [
  {
   "cell_type": "markdown",
   "id": "23a438c7",
   "metadata": {},
   "source": [
    "# [백준, 파이썬] 1, 2, 3 더하기, Brute Force\n",
    "## 문제 해결 아이디어\n",
    "- 피드백\n",
    "    - 점화식을 통한 수학 풀이\n",
    "    - 이해는 https://e-you.tistory.com/304 이곳을 참고"
   ]
  },
  {
   "cell_type": "code",
   "execution_count": null,
   "id": "aa37526f",
   "metadata": {
    "scrolled": true
   },
   "outputs": [],
   "source": [
    "def solution(x):\n",
    "    if x == 1:\n",
    "        return 1\n",
    "    elif x == 2:\n",
    "        return 2\n",
    "    elif x == 3:\n",
    "        return 4\n",
    "    else:\n",
    "        return solution(x-1) + solution(x-2) + solution(x-3)\n",
    "n = int(input())\n",
    "answer = []\n",
    "for _ in range(n):\n",
    "    answer.append(solution(int(input())))\n",
    "for ans in answer:\n",
    "    print(ans)"
   ]
  },
  {
   "cell_type": "markdown",
   "id": "4e730627",
   "metadata": {},
   "source": [
    "# [백준, 파이썬] 암호만들기, Brute Force\n",
    "## 문제 해결 아이디어\n",
    "- 내가 생각한 아이디어\n",
    "    - 모음 리스트와 자음 리스트로 분리한 후에, 조건에 부합한 모든 조합을 계산한다"
   ]
  },
  {
   "cell_type": "code",
   "execution_count": 11,
   "id": "90040903",
   "metadata": {
    "ExecuteTime": {
     "end_time": "2022-03-08T07:02:46.471332Z",
     "start_time": "2022-03-08T07:02:41.055348Z"
    }
   },
   "outputs": [
    {
     "name": "stdout",
     "output_type": "stream",
     "text": [
      "4 6\n",
      "a t c i s w\n"
     ]
    }
   ],
   "source": [
    "from itertools import combinations\n",
    "L, C = map(int, input().split())\n",
    "consonant = list(input().split())\n",
    "vowel = []\n",
    "for alphabet in ['a', 'e', 'i', 'o', 'u']:\n",
    "    if alphabet in consonant :\n",
    "        consonant.remove(alphabet)\n",
    "        vowel.append(alphabet) \n",
    "\n",
    "answer = []\n",
    "for i in range(1, min(len(vowel)+1, L-1)):\n",
    "    for case1 in list(combinations(vowel, i)):\n",
    "        for case2 in list(combinations(consonant, L-i)):\n",
    "            tmp = list(case1 + case2)\n",
    "            tmp.sort()\n",
    "            answer.append(\"\".join(tmp))\n",
    "\n",
    "answer.sort()\n",
    "for ans in answer:\n",
    "    print(ans)"
   ]
  },
  {
   "cell_type": "markdown",
   "id": "2e5bdb40",
   "metadata": {},
   "source": [
    "# [백준, 파이썬] 퇴사, Brute Force\n",
    "## 문제 해결 아이디어\n",
    "- 내가 생각한 아이디어\n",
    "    - 상담을 진행하는가 / 하지 않는가의 선택지를 지닌 DFS로 풀면 될 것 같다."
   ]
  },
  {
   "cell_type": "code",
   "execution_count": 7,
   "id": "04ad0e64",
   "metadata": {
    "ExecuteTime": {
     "end_time": "2022-03-10T08:47:49.154287Z",
     "start_time": "2022-03-10T08:47:37.932176Z"
    },
    "scrolled": true
   },
   "outputs": [
    {
     "name": "stdout",
     "output_type": "stream",
     "text": [
      "7\n",
      "3 10\n",
      "5 20\n",
      "1 10\n",
      "1 20\n",
      "2 15\n",
      "4 40\n",
      "2 200\n",
      "[[3, 10], [5, 20], [1, 10], [1, 20], [2, 15], [4, 40], [2, 200]]\n"
     ]
    }
   ],
   "source": [
    "N = int(input())\n",
    "G = []\n",
    "for _ in range(N):\n",
    "    G.append(list(map(int, input().split())))\n",
    "print(G)\n",
    "    "
   ]
  },
  {
   "cell_type": "code",
   "execution_count": 2,
   "id": "3660d989",
   "metadata": {
    "ExecuteTime": {
     "end_time": "2022-03-10T08:57:53.266522Z",
     "start_time": "2022-03-10T08:57:33.429698Z"
    }
   },
   "outputs": [
    {
     "name": "stdout",
     "output_type": "stream",
     "text": [
      "7\n",
      "3 10\n",
      "5 20\n",
      "1 10\n",
      "1 20\n",
      "2 15\n",
      "4 40\n",
      "2 200\n",
      "45\n"
     ]
    }
   ],
   "source": [
    "N = int(input())\n",
    "G = []\n",
    "for _ in range(N):\n",
    "    G.append(list(map(int, input().split())))\n",
    "    \n",
    "ls = [0] * (N+1)\n",
    "for i in range(N-1, -1, -1):\n",
    "    t = G[i][0]\n",
    "    p = G[i][1]\n",
    "    if i == N-1 :\n",
    "        if i + t <= N:\n",
    "            ls[i] += p\n",
    "        continue\n",
    "    if i + t <= N:\n",
    "        ls[i] = max(ls[i+1], p + ls[i + t])\n",
    "    else :\n",
    "        ls[i] = ls[i+1]\n",
    "\n",
    "print(max(ls))"
   ]
  },
  {
   "cell_type": "markdown",
   "id": "a96a55be",
   "metadata": {},
   "source": [
    "# "
   ]
  }
 ],
 "metadata": {
  "kernelspec": {
   "display_name": "Python 3",
   "language": "python",
   "name": "python3"
  },
  "language_info": {
   "codemirror_mode": {
    "name": "ipython",
    "version": 3
   },
   "file_extension": ".py",
   "mimetype": "text/x-python",
   "name": "python",
   "nbconvert_exporter": "python",
   "pygments_lexer": "ipython3",
   "version": "3.8.8"
  },
  "toc": {
   "base_numbering": 1,
   "nav_menu": {},
   "number_sections": false,
   "sideBar": true,
   "skip_h1_title": false,
   "title_cell": "Table of Contents",
   "title_sidebar": "Contents",
   "toc_cell": false,
   "toc_position": {},
   "toc_section_display": true,
   "toc_window_display": false
  }
 },
 "nbformat": 4,
 "nbformat_minor": 5
}
