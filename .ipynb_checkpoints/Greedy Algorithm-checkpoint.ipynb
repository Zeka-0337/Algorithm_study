{
 "cells": [
  {
   "cell_type": "markdown",
   "id": "bae6a368",
   "metadata": {},
   "source": [
    "# Greedy (탐욕법)"
   ]
  },
  {
   "cell_type": "markdown",
   "id": "b5f98e79",
   "metadata": {},
   "source": [
    "# 1. 1이 될 때까지"
   ]
  },
  {
   "cell_type": "markdown",
   "id": "dcdb20f1",
   "metadata": {},
   "source": [
    "### 문제설명 \n",
    "- 어떠한 수 N이 1이 될 때까지 다음 두 과정 중 하나를 반복적으로 선택하여 수행하려고 합니다. 단, 두번째 연산은 N이 K로 나누어 떨어질 때만 선택할 수 있습니다.\n",
    "1. N에서 1을 뺍니다\n",
    "2. N을 K로 나눕니다.\n",
    "- 예를 들어 N이 17, K가 4라고 가정합시다. 이때 1번의 과정을 한 번 수행하면 N은 16이 됩니다. 이후에 2번의 과정을 두 번 수행하면 N은 1이 됩니다. 결과적으로 이 경우 전체 과정을 실행한 횟수는 3이 됩니다. 이는 N을 1로 만드는 최소 횟수입니다.\n",
    "- N과 K가 주어질 때 N이 1이 될 때까지 1번 혹은 2번의 **과정을 수행해야 하는 최소 횟수**를 구하는 프로그램을 작성하세요."
   ]
  },
  {
   "cell_type": "markdown",
   "id": "f62cbefe",
   "metadata": {},
   "source": [
    "### 문제조건\n",
    "- 난이도 : 하\n",
    "- 풀이시간 : 15분\n",
    "- 시간제한 : 2초\n",
    "- 메모리제한 : 128MB \n",
    "<br>\n",
    "\n",
    "- 입력 조건  : 첫째 줄에는 N (1 <= N <= 100,000)과 K (2 <= K <= 100,000)가 공백을 기준으로 하여 각각 자연수로 주어집니다.\n",
    "- 출력 조건 : 첫째 줄의 N이 1이 될 때까지 1번 혹은 2번의 과정을 수행해야 하는 횟수의 최솟값을 출력합니다.\n",
    "<br>\n",
    "\n",
    "- 입력 예시 : 25 5\n",
    "- 출력 예시 : 2"
   ]
  },
  {
   "cell_type": "markdown",
   "id": "31a2580c",
   "metadata": {},
   "source": [
    "### 문제 해결 아이디어\n",
    "- 정답 아이디어\n",
    "    - 주어진 N에 대하여 **최대한 많이 나누기**를 수행하면 됩니다.\n",
    "    - N의 값을 줄일 때, 2 이상의 수로 나누는 작업이 1을 빼는 작업보다 항상 빠르게 N을 줄일 수 있습니다.\n",
    "    - 또한 N은 항상 1에 도달하게 됩니다.\n",
    "    \n",
    "- 피드백\n",
    "    - 나눠지지 않으면 빼고 나눠떨어지면 나누는 반복문을 작성하는 것이 아니라, **1회 반복 시에 나눠지지 않으면 뺄 수 있는 만큼 뺀 뒤에 1번은 나눗셈을 시도**하는 것이 **시간 복잡도를 log_N**으로 줄일 수 있다는 사실을 깨달았다."
   ]
  },
  {
   "cell_type": "markdown",
   "id": "4ec2cca3",
   "metadata": {},
   "source": [
    "### 프로그램 코드"
   ]
  },
  {
   "cell_type": "code",
   "execution_count": 7,
   "id": "80ceba5c",
   "metadata": {
    "ExecuteTime": {
     "end_time": "2022-02-19T03:33:55.526919Z",
     "start_time": "2022-02-19T03:33:53.471887Z"
    }
   },
   "outputs": [
    {
     "name": "stdout",
     "output_type": "stream",
     "text": [
      "25 3\n",
      "6\n"
     ]
    }
   ],
   "source": [
    "# 공백 기준으로 구분하여 입력 받기 및 type casting\n",
    "n, k = map(int, input().split())\n",
    "\n",
    "count = 0\n",
    "\n",
    "while True:\n",
    "    # N이 K로 나누어떨어질 때까지 1을 빼기\n",
    "    tmp = n // k * k\n",
    "    # 뺄셈횟수를 추가\n",
    "    count += n - tmp\n",
    "    # 뺼셈 완료한 값을 n에 배정\n",
    "    n = tmp\n",
    "\n",
    "    # 만약 N이 K보다 작다면, 나눗셈이 불가하므로 반복문 탈출\n",
    "    if n < k:\n",
    "        break\n",
    "\n",
    "    # 나눗셈이 가능하다면, 횟수를 추가하고 나눗셈 진행.\n",
    "    count += 1\n",
    "    n //= k\n",
    "\n",
    "# break로 탈출한 경우를 대비해, 남은 수만큼 뺄셈 진행하는 횟수를 추가\n",
    "count += n - 1\n",
    "\n",
    "print(count)"
   ]
  },
  {
   "cell_type": "markdown",
   "id": "0728e455",
   "metadata": {},
   "source": [
    "# 2. 곱하기 혹은 더하기"
   ]
  },
  {
   "cell_type": "markdown",
   "id": "3acf41ad",
   "metadata": {},
   "source": [
    "### 문제설명\n",
    "- 각 자리가 숫자(0부터 9)로만 이루어진 문자열 S가 주어졌을 때, 왼쪽부터 오른쪽으로 하나씩 모든 숫자를 화인하며 숫자 사이에 'x' 혹은 '+' 연산자를 넣어 결과적으로 **만들어질 수 있는 가장 큰 수**를 구하는 프로그램을 작성하세요. 단, +보다 x를 먼저 계산하는 일반적인 방식과는 달리, **모든 연산은 왼쪽에서부터 순서대로** 이루어진다고 가정합니다.\n",
    "<br>\n",
    "- 예를 들어 02984라는 문자열로 만들 수 있는 가장 큰 수는 ((((0 + 2) x 9) x 8) x 4) = 576 입니다. 또한 만들어질 수 있는 가장 큰 수는 항상 20억 이하의 정수가 되도록 입력이 주어집니다.(c, c++ 고려)"
   ]
  },
  {
   "cell_type": "markdown",
   "id": "8f2a7153",
   "metadata": {},
   "source": [
    "### 문제 조건\n",
    "- 난이도 : 하\n",
    "- 풀이시간 : 30분\n",
    "- 시간제한 : 1초\n",
    "- 메모리 제한 : 128MB\n",
    "- 기출 : Facebook 인터뷰\n",
    "<br>\n",
    "\n",
    "- 입력조건 : 첫째 줄에 여러개의 숫자로 구성된 하나의 문자열 S가 주어집니다. (1 <= S의 길이 <= 20)\n",
    "- 출력조건 : 첫째 줄에 만들어질 수 있는 가장 큰 수를 출력합니다.\n",
    "<br>\n",
    "- 입력예시 : 02984\n",
    "- 출력예시 : 576"
   ]
  },
  {
   "cell_type": "markdown",
   "id": "98fc5156",
   "metadata": {},
   "source": [
    "### 문제 해결 아이디어\n",
    "- 내가 생각한 아이디어\n",
    "    - 최대한 많은 곱셈이 진행되어야한다. (0과 1 제외)\n",
    "    - total이 0일 때는 우선적으로 수가 더해져야한다.\n",
    "    - total이 0이 아닐때\n",
    "        - 해당 수가 0일 때: 덧셈 진행 (연산 진행안함)\n",
    "        - 해당 수가 1일 때: 덧셈 진행\n",
    "        - 해당 수가 2 이상일 때 : 곱셈 진행\n",
    "        \n",
    "- 정답 아이디어\n",
    "    - 대부분의 경우 + 보다는 x가 값을 더 크게 만듭니다.\n",
    "    - 다만 두 수 중에서 하나라도 0 혹은 1인 경우, 곱하기보다는 더하기를 수행하는 것이 효율적 입니다.\n",
    "    - 따라서 **두 수에 대하여 연산을 수행할 때, 두 수 중에서 하나라도 1이하인 경우에는 더하며, 두 수가 모두 2 이상인 경우에는 곱하면 정답**입니다.\n",
    "    \n",
    "- 피드백\n",
    "    - 지금 연산해야하는 수만 0이나 1이 아니면 곱셈을 하면 된다고 생각했는데, **기존의 수도 1이면 곱셈보다 덧셈이 더 큰 수를 만들어낸다는 사실**을 생각하지 못했다."
   ]
  },
  {
   "cell_type": "markdown",
   "id": "fde063aa",
   "metadata": {},
   "source": [
    "### 프로그램 코드"
   ]
  },
  {
   "cell_type": "code",
   "execution_count": 15,
   "id": "1bfe4f94",
   "metadata": {
    "ExecuteTime": {
     "end_time": "2022-02-19T04:06:11.158099Z",
     "start_time": "2022-02-19T04:06:08.712725Z"
    }
   },
   "outputs": [
    {
     "name": "stdout",
     "output_type": "stream",
     "text": [
      "0123\n",
      "6\n",
      "0123\n",
      "9\n",
      "0123\n",
      "9\n"
     ]
    }
   ],
   "source": [
    "# 내가 작성한 코드\n",
    "s = input()\n",
    "\n",
    "total = 0\n",
    "\n",
    "for num in s:\n",
    "    num = int(num)\n",
    "    if (total == 0):\n",
    "        total += num\n",
    "    else:\n",
    "        if (num == 0 or num == 1):\n",
    "            total += num\n",
    "        else:\n",
    "            total *= num\n",
    "\n",
    "print(total)\n",
    "\n",
    "# 수정한 코드\n",
    "s = input()\n",
    "\n",
    "total = 0\n",
    "\n",
    "for num in s:\n",
    "    num = int(num)\n",
    "    if (total == 0 or total == 1 or num == 0 or num == 1):\n",
    "        total += num\n",
    "    else:\n",
    "        total *= num\n",
    "\n",
    "print(total)\n",
    "\n",
    "# 답안 코드\n",
    "s = input()\n",
    "\n",
    "total = int(s[0])\n",
    "\n",
    "for i in range(1, len(s)):\n",
    "    num = int(s[i])\n",
    "    if num <= 1 or total <= 1:\n",
    "        total += num\n",
    "    else:\n",
    "        total *= num\n",
    "\n",
    "print(total)"
   ]
  },
  {
   "cell_type": "markdown",
   "id": "ff7d73ff",
   "metadata": {},
   "source": [
    "# 3. 모험가 길드"
   ]
  },
  {
   "cell_type": "markdown",
   "id": "6e2fcc79",
   "metadata": {},
   "source": [
    "### 문제 설명\n",
    "- 한 마을에 모험가가 N명 있습니다. 모험가 길드에서는 N명의 모험가를 대상으로 '공포도'를 측정했는데, '공포도'가 높은 모험가는 쉽게 공포를 느껴 위험 상황에서 제대로 대처할 능력이 떨어집니다.\n",
    "- 모험가 길드장인 장훈이는 모험가 그룹을 안전하게 구성하고자 **공포도가 X인 모험가는 반드시 X명 이상으로 구성한 모험가 그룹에 참여**해야 여행을 떠날 수 있도록 규정했습니다.\n",
    "- 장훈이는 최대 몇 개의 모험가 그룹을 만들 수 있는지 궁금합니다. N명의 모험가에 대한 정보가 주어졌을 때, **여행을 떠날 수 있는 그룹 수의 최댓값**을 구하는프로그램을 작성하세요.\n",
    "<br>\n",
    "- 예를 들어 N = 5 이고, 각 모험가의 공포도가 다음과 같다고 가정합니다 ( 2 3 1 2 2 )\n",
    "- 이 경우 그룹 1에 공포도가 1, 2, 3인 모험가를 한명씩 넣고, 그룹 2에 공포도가 2인 남은 두 명을 넣게되면 총 2개의 그룹을 만들 수 있습니다.\n",
    "- 또한 몇 명의 모험가는 마을에 그대로 남아 있어도 되기 때문에, 모든 모험가를 특정한 그룹에 넣을 필요는 없습니다.\n"
   ]
  },
  {
   "cell_type": "markdown",
   "id": "848c205d",
   "metadata": {},
   "source": [
    "### 문제조건\n",
    "- 난이도 : 하\n",
    "- 풀이시간 : 30분\n",
    "- 시간 제한 : 1초\n",
    "- 메모리 제한 : 128MB\n",
    "- 기출 : 핵심 유형\n",
    "<br>\n",
    "- 입력 조건 : 첫째 줄에 모험가의 수 N이 주어집니다. (1 <= 100,000), 둘째 줄에 각 모험가의 공포도의 값을 N 이하의 자연수로 주어지며, 각 자연수는 공백으로 구분합니다.\n",
    "- 출력 조건 : 여행을 떠날 수 있는 그룹 수의 최댓값을 출력합니다.\n",
    "<br>\n",
    "- 입력 예시 : 5 / 2 3 1 2 2\n",
    "- 출력 예시 : 2"
   ]
  },
  {
   "cell_type": "markdown",
   "id": "db91c772",
   "metadata": {},
   "source": [
    "### 문제 해결 아이디어\n",
    "- 내가 생각한 아이디어\n",
    "    - 공포도가 낮은 모험가들은 적은 수로도 그룹을 만들 수 있기 때문에, 공포도가 낮은 모험가끼리 먼저 묶어서 그룹을 형성시킨다.\n",
    "    - 같은 공포도를 가진 모험가들끼리 그룹을 형성하고 남은 모험가(나머지)는 보다 높은 공포도를 지닌 모험가들과 그룹을 지을 수 있기 때문에 이후 count에 이월해준다.\n",
    "    \n",
    "\n",
    "- 정답 아이디어\n",
    "    - 오름차순 정렬 후에 앞에서부터 공포도를 하나씩 확인하며 '현재 그룹에 포함된 모험가의 수'가 '현재 확인하고 있는 공포도'보다 크거나 같다면 이를 그룹으로 설정하면 됩니다.\n",
    "    - 이러한 방법을 이용하면 공포도가 오름차순 정렬되어 있기 때문에, 항상 최소한의 모험가의 수만 포함하여 그룹을 결성하게 됩니다.\n",
    "    \n",
    "\n",
    "- 피드백\n",
    "    - 시간복잡도를 최대한 낮추는 방향으로 생각하는 것이 좋을 것 같다. 내가 아이디어대로 코드를 짜면서도 최솟값과 최댓값의 차이가 크면서 sparse한 리스트가 들어오면 매우 비효율적일 것이라고 생각했었다."
   ]
  },
  {
   "cell_type": "markdown",
   "id": "b5157a34",
   "metadata": {},
   "source": [
    "### 프로그램 코드"
   ]
  },
  {
   "cell_type": "code",
   "execution_count": 38,
   "id": "270a35a3",
   "metadata": {
    "ExecuteTime": {
     "end_time": "2022-02-19T06:04:47.621595Z",
     "start_time": "2022-02-19T06:04:37.418004Z"
    }
   },
   "outputs": [
    {
     "name": "stdout",
     "output_type": "stream",
     "text": [
      "5\n",
      "2 3 1 2 2\n",
      "2\n",
      "5\n",
      "2 3 1 2 2\n",
      "2\n"
     ]
    }
   ],
   "source": [
    "# 내가 작성한 코드\n",
    "N = int(input())\n",
    "ls = list(map(int, input().split()))\n",
    "\n",
    "count = 0\n",
    "mod = 0\n",
    "for i in range(min(ls), max(ls)+1):\n",
    "    div, mod = divmod(ls.count(i)+mod, i)\n",
    "    count += div\n",
    "\n",
    "print(count)\n",
    "\n",
    "# 수정한 코드\n",
    "N = int(input())\n",
    "ls = list(map(int, input().split()))\n",
    "ls.sort()\n",
    "\n",
    "total = 0\n",
    "count = 0\n",
    "\n",
    "for num in ls:\n",
    "    count += 1\n",
    "    if count >= num:\n",
    "        total += 1\n",
    "        count = 0\n",
    "print(count)"
   ]
  },
  {
   "cell_type": "markdown",
   "id": "cfa72316",
   "metadata": {},
   "source": [
    "# 4. 프로그래머스 - 체육복"
   ]
  },
  {
   "cell_type": "markdown",
   "id": "41e31c95",
   "metadata": {},
   "source": [
    "### 문제 해결 아이디어\n",
    "- 내가 생각한 아이디어\n",
    "    - 먼저 lost와 reserve를 sort한 다음에\n",
    "    - lost와 reserve를 돌면서 reserve가 lost-1 보다 작으면 못빌려주는 reserve이기에 reserve를 넘어가고, lost-1 이상 lost+1 이하이면 빌려주기에 count++하고 둘다 넘어가고, lost+1 초과일 경우에는 빌릴사람이 없는 lost이기에 lost를 넘어가도록 한다.\n",
    "\n",
    "- 피드백 \n",
    "    - **도난당한 사람은 여분이 있어도 빌려줄 수 없기 때문**에, 1과 2가 도난당하고 2와 3이 여분이 있는 경우에는 2가 1에게 빌려줄 수 없기에 1은 체육복을 빌릴 수가 없다. 이 경우를 처리해야한다."
   ]
  },
  {
   "cell_type": "code",
   "execution_count": 49,
   "id": "bec395f5",
   "metadata": {
    "ExecuteTime": {
     "end_time": "2022-02-19T06:56:58.288616Z",
     "start_time": "2022-02-19T06:56:58.271662Z"
    }
   },
   "outputs": [],
   "source": [
    "# 내가 작성한 코드\n",
    "def solution(n, lost, reserve):\n",
    "    \n",
    "    lost.sort()\n",
    "    reserve.sort()\n",
    "    \n",
    "    lost_idx = 0\n",
    "    reserve_idx = 0\n",
    "    count = 0\n",
    "    \n",
    "    while reserve_idx < len(reserve) and lost_idx < len(lost):\n",
    "        lostNum = lost[lost_idx]\n",
    "        resNum = reserve[reserve_idx]\n",
    "        if resNum <  lostNum-1:\n",
    "            reserve_idx += 1\n",
    "        elif resNum >= lostNum -1 and resNum <= lostNum+1:\n",
    "            lost_idx += 1\n",
    "            reserve_idx +=1\n",
    "            count += 1\n",
    "        else :\n",
    "            lost_idx += 1\n",
    "    \n",
    "    return (n - len(lost) + count)\n",
    "\n",
    "# 수정한 코드\n",
    "def solution(n, lost, reserve):\n",
    "    \n",
    "    lost, reserve = list(set(lost) - set(reserve)), list(set(reserve) - set(lost))\n",
    "    \n",
    "    lost.sort()\n",
    "    reserve.sort()\n",
    "    \n",
    "    lost_idx = 0\n",
    "    reserve_idx = 0\n",
    "    count = 0\n",
    "    \n",
    "    while reserve_idx < len(reserve) and lost_idx < len(lost):\n",
    "        lostNum = lost[lost_idx]\n",
    "        resNum = reserve[reserve_idx]\n",
    "        if resNum <  lostNum-1:\n",
    "            reserve_idx += 1\n",
    "        elif resNum >= lostNum -1 and resNum <= lostNum+1:\n",
    "            lost_idx += 1\n",
    "            reserve_idx +=1\n",
    "            count += 1\n",
    "        else :\n",
    "            lost_idx += 1\n",
    "    \n",
    "    return (n - len(lost) + count)\n",
    "\n",
    "\n",
    "# 다른 답안 코드\n",
    "def solution(n, lost, reserve):\n",
    "    _reserve = [r for r in reserve if r not in lost]\n",
    "    _lost = [l for l in lost if l not in reserve]\n",
    "    _reserve.sort()\n",
    "    _lost.sort()\n",
    "    \n",
    "    for r in _reserve:\n",
    "        f = r - 1\n",
    "        b = r + 1\n",
    "        if f in _lost:\n",
    "            _lost.remove(f)\n",
    "        elif b in _lost:\n",
    "            _lost.remove(b)\n",
    "    return n - len(_lost)\n",
    "\n"
   ]
  },
  {
   "cell_type": "code",
   "execution_count": 50,
   "id": "907826b9",
   "metadata": {
    "ExecuteTime": {
     "end_time": "2022-02-19T06:56:58.853894Z",
     "start_time": "2022-02-19T06:56:58.841927Z"
    }
   },
   "outputs": [
    {
     "name": "stdout",
     "output_type": "stream",
     "text": [
      "0 0\n",
      "1 1\n",
      "5\n",
      "0 0\n",
      "4\n"
     ]
    }
   ],
   "source": [
    "solution1(5, [2,4], [1,3,5])\n",
    "solution1(5, [2,4], [3])"
   ]
  },
  {
   "cell_type": "markdown",
   "id": "7ee40fc9",
   "metadata": {},
   "source": [
    "# 5. 프로그래머스 - 조이스틱\n",
    "- 소요시간 : 약 40분\n",
    "- 성공여부 : 실패"
   ]
  },
  {
   "cell_type": "markdown",
   "id": "ee332b2b",
   "metadata": {},
   "source": [
    "### 문제 해결 아이디어\n",
    "- 내가 생각한 아이디어 \n",
    "    - 연속되는 A의 최대 길이가 핵심포인트.\n",
    "    - 연속되는 A가 있는 곳에는 굳이 갈 필요가 없으므로, 그 부분을 제외하고 수정하는 경우를 계산한다.\n",
    "    - 다만, 연속되는 A가 여러군데인 경우 가장 긴 부분을안가는게 더 효율적일 것이다. ex) JAAJAAAAJ 인 경우 4번째 J를 처리하기 위해서 2, 3번째의 연속된 AA를 건너는게 5,6,7,8번쨰의 연속된 AAAA를 건너는 것 보다 낫다.\n",
    "    "
   ]
  },
  {
   "cell_type": "code",
   "execution_count": 30,
   "id": "da60df78",
   "metadata": {},
   "outputs": [],
   "source": [
    "# 내가 작성한 코드\n",
    "def solution(name):\n",
    "\n",
    "    alphabet = [ord(x) -65 if ord(x)-65 <=13 else (91 - ord(x)) for x in name]\n",
    "    \n",
    "    default = len(name)-1 + sum(alphabet)\n",
    "    \n",
    "    if \"A\" not in name:\n",
    "        return default\n",
    "    \n",
    "    \n",
    "    middle = len(name)\n",
    "    name = name * 2\n",
    "    \n",
    "    cur = 0 \n",
    "    maxlen = 0\n",
    "    for char in name:\n",
    "        if char == \"A\":\n",
    "            cur += 1\n",
    "            maxlen = max(maxlen, cur)\n",
    "        else :\n",
    "            cur = 0\n",
    "    left = name.find(\"A\" *maxlen)\n",
    "    right = name.rfind(\"A\" * maxlen)\n",
    "    \n",
    "    if left == right:\n",
    "        print(min(middle-left, left+maxlen-middle-1)+default-maxlen)\n",
    "        return (min(middle-left, left+maxlen-middle-1)+default-maxlen)\n",
    "    return(min(middle-right-maxlen, left-1) + default-maxlen)"
   ]
  },
  {
   "cell_type": "code",
   "execution_count": 111,
   "id": "9c859260",
   "metadata": {
    "ExecuteTime": {
     "end_time": "2022-02-19T07:44:07.016676Z",
     "start_time": "2022-02-19T07:44:06.996729Z"
    }
   },
   "outputs": [],
   "source": [
    "# 내가 작성한 코드\n",
    "def solution(name):\n",
    "    cur = 0 \n",
    "    maxlen = 0\n",
    "    \n",
    "    for char in name:\n",
    "        if char == \"A\":\n",
    "            cur += 1\n",
    "            maxlen = max(maxlen, cur)\n",
    "        else :\n",
    "            cur = 0\n",
    "    start = name.find(\"A\" *maxlen)\n",
    "    end = name.rfind(\"A\" * maxlen) + maxlen\n",
    "    \n",
    "    alphabet = [ord(x) -65 if ord(x)-65 <=13 else (91 - ord(x)) for x in name]\n",
    "    \n",
    "    print(len(name)-end, start-1)\n",
    "    print(len(name) - maxlen -1)\n",
    "    print(sum(alphabet))\n",
    "    \n",
    "    if maxlen :\n",
    "        return (min(len(name)-end, start-1) + len(name)-maxlen-1 + sum(alphabet))\n",
    "    else :\n",
    "        return len(name)-1 + sum(alphabet)\n",
    "    "
   ]
  },
  {
   "cell_type": "markdown",
   "id": "75b32ba6",
   "metadata": {},
   "source": [
    "# 6. 프로그래머스 - 큰 수 만들기"
   ]
  },
  {
   "cell_type": "markdown",
   "id": "3bf358fc",
   "metadata": {},
   "source": [
    "### 문제 해결 아이디어\n",
    "- 내가 생각한 아이디어:\n",
    "    - 제거할 숫자를 고르는 것이 아니라 뽑을 숫자를 고르는 방향으로 선택\n",
    "    - 앞에서부터 뽑아야할 총 글자수만큼의 후보 중에서 max를 선택하고, 그 뒤부터 다시 후보로 선택하는 과정을 반복하는.\n",
    "\n",
    "- 답안 아이디어 \n",
    "    - stack을 활용한다. (list)\n",
    "    - 숫자를 하나씩 확인하면서, 비교대상(stack의 마지막 숫자)이 없다면 append, 비교대상이 자신보다 작으면 제거하고(pop) 아니면 그냥 append, 작더라도 더 제거할 여력이 없다면 (k=0) 제거하지 않는다.\n",
    "    - 그렇게 끝났는데도 제거할 게 남아있다면 (k>0), stack에서 뒤에서부터 남은 수 (k)만큼 제거한다.\n",
    "    \n",
    "- 피드백\n",
    "    - stack을 활용할 생각을 못했다.\n",
    "    - 머리가 빙빙 돈다 ㅜㅜㅜ"
   ]
  },
  {
   "cell_type": "code",
   "execution_count": 164,
   "id": "4b3241eb",
   "metadata": {
    "ExecuteTime": {
     "end_time": "2022-02-19T08:08:47.972104Z",
     "start_time": "2022-02-19T08:08:47.960137Z"
    }
   },
   "outputs": [],
   "source": [
    "# 내가 작성한 코드\n",
    "def solution(number, k):\n",
    "    answer = \"\"\n",
    "    for i in range(length,0,-1):\n",
    "        ls = list(number[:len(number)-i+1])\n",
    "        maxNum = max(ls)\n",
    "        answer = answer + maxNum\n",
    "        number = number[number.index(maxNum)+1:]\n",
    "    return answer\n",
    "\n",
    "# 답안 코드\n",
    "def solution(number, k):\n",
    "    stack = []\n",
    "    for num in number:\n",
    "        while stack and stack[-1] < num and k > 0:\n",
    "            k -= 1\n",
    "            stack.pop()\n",
    "        stack.append(num)\n",
    "    if k != 0:\n",
    "        stack = stack[:-k]\n",
    "    return ''.join(stack)"
   ]
  },
  {
   "cell_type": "code",
   "execution_count": 171,
   "id": "cc17c499",
   "metadata": {
    "ExecuteTime": {
     "end_time": "2022-02-19T08:28:54.456268Z",
     "start_time": "2022-02-19T08:28:54.440187Z"
    }
   },
   "outputs": [
    {
     "name": "stdout",
     "output_type": "stream",
     "text": [
      "9\n"
     ]
    }
   ],
   "source": [
    "solution(\"1924\", 2)"
   ]
  },
  {
   "cell_type": "markdown",
   "id": "c4d5fbf1",
   "metadata": {},
   "source": [
    "# 7. 프로그래머스 - 구명보트"
   ]
  },
  {
   "cell_type": "markdown",
   "id": "4c876c92",
   "metadata": {},
   "source": [
    "### 문재 해결 아이디어\n",
    "- 내가 생각한 아이디어\n",
    "1. 오름차순 정렬을 한다.\n",
    "2. 사용된 구명보트 개수 = 0\n",
    "3. 사람이 남아있는 동안(while) - 맨 뒤의 숫자(가장 큰 숫자)가 정원제한의 절반 이하인가?\n",
    "    1. 절반 이하인 경우 : (남은인원/2)의 올림이 필요한 구명보트 갯수이다. (break)\n",
    "    2. 절반 초과인 경우 : 본인을 제외한 맨 앞의 숫자(가장 작은 숫자)와의 합계가 제한 이하인가?\n",
    "        1. 합계가 제한 이하인 경우 : 둘 다 리스트에서 제거한다. \n",
    "        2. 합계가 제한 초과일 경우 : 맨 뒤의 숫자만 리스트에서 제거한다.\n",
    "        \n",
    "        - 결과와 무관하게 구명보트는 1개 사용된다.\n",
    "                 \n",
    "\n",
    "- 피드백\n",
    "    - pop(0)은 단순히 제거하는 것이 아니라 지우고 한칸씩 앞으로 당기기 때문에 시간 복잡도가 O(n)이 된다. 때문에, collections의 deque를 사용하여 popleft를 하면 해결된다. 혹은 index의 값을 변경하면서 조회하고 answer 값을 변경해주면 될 듯 하다.\n",
    "    \n",
    "    <br>\n",
    "- index의 값을 변경하면서 조회하는 아이디어\n",
    "1. 오름차순 정렬을 한다.\n",
    "2. 사용된 구명보트 개수 =0\n",
    "3. 왼쪽index가 오른쪽index보다 같거나 작은 동안 (while) - 맨 왼쪽의 숫자와 맨 오른쪽의 숫자의 합이 제한 이하인가?\n",
    "    1. 제한 이하인 경우 : 맨왼쪽 사람도 탔기 때문에 left += 1\n",
    "    - 이하 초과 상관없이 맨 오른쪽 사람은 탔기 때문에 right -= 1 그리고 구명보트를 하나 사용했기 때문에 구명보트 개수 += 1\n",
    "    - 왼쪽index와 오른쪽index가 같으면 같은사람이 한 보트에 2명 타게 되는 셈이지만, 사용된 구명보트는 결국 1개 증가로 동일하기 때문에 에러가 나지 않는다.\n",
    "      "
   ]
  },
  {
   "cell_type": "code",
   "execution_count": 175,
   "id": "98664fcc",
   "metadata": {
    "ExecuteTime": {
     "end_time": "2022-02-19T09:22:04.562725Z",
     "start_time": "2022-02-19T09:22:04.548661Z"
    }
   },
   "outputs": [],
   "source": [
    "# deque를 활용한 방법\n",
    "import numpy as np\n",
    "from collections import deque\n",
    "def solution(people, limit):\n",
    "    people = deque(sorted(people))\n",
    "    answer = 0\n",
    "    \n",
    "    while people:\n",
    "        \n",
    "        if people[-1] <= limit/2:\n",
    "            answer += np.ceil(len(people) / 2)\n",
    "            break\n",
    "            \n",
    "        person = people.pop()\n",
    "        if people and person  + people[0] <= limit:\n",
    "            people.popleft()\n",
    "        answer += 1\n",
    "    \n",
    "    return answer\n",
    "\n",
    "# index를 활용한 방법\n",
    "def solution(people, limit):\n",
    "    people.sort()\n",
    "    answer = 0\n",
    "    \n",
    "    left = 0\n",
    "    right = len(people) -1\n",
    "    \n",
    "    while left <= right:\n",
    "        if people[left] + people[right] <= limit:\n",
    "            left += 1\n",
    "        right -= 1\n",
    "        answer += 1\n",
    "    return answer"
   ]
  },
  {
   "cell_type": "markdown",
   "id": "4f8821d7",
   "metadata": {},
   "source": [
    "# 8. 프로그래머스 - 단속카메라"
   ]
  },
  {
   "cell_type": "markdown",
   "id": "59e25759",
   "metadata": {},
   "source": [
    "### 문제 해결 아이디어\n",
    "- 내가 생각한 아이디어\n",
    "    1. 나간지점을 기준으로 오름차순 정렬\n",
    "    2. 가장 앞서있는 진입지점을 지닌 이동 경로의 나간 지점(key)보다, 진입 지점이 앞서있는 경로들은 하나의 카메라로 다 단속된 것으로 하고, 만약 진입지점이 key보다 뒤에 있는 경로가 나타날 경우 필요한 카메라 개수 += 1 및 key를 해당 경로의 나간 지점으로 변경"
   ]
  },
  {
   "cell_type": "code",
   "execution_count": 5,
   "id": "cb8489e5",
   "metadata": {},
   "outputs": [],
   "source": [
    "def solution(routes):\n",
    "    routes.sort(key = lambda x: x[0])\n",
    "    \n",
    "    answer = 1\n",
    "    key = routes[0][1]\n",
    "    for route in routes:\n",
    "        if route[0] > key:\n",
    "            answer += 1\n",
    "            key = route[1]\n",
    "    return answer"
   ]
  },
  {
   "cell_type": "markdown",
   "id": "9c1ba6a0",
   "metadata": {},
   "source": [
    "# 9. BOJ - 동전 0"
   ]
  },
  {
   "cell_type": "markdown",
   "id": "7c2caa32",
   "metadata": {},
   "source": [
    "### 문제 해결 아이디어\n",
    "- 내가 생각한 아이디어\n",
    "    1. 동전의 단위가 배수라고 했기에, 가장 큰 단위부터 나눗셈을 통해 지불할 수 있는지 확인한다."
   ]
  },
  {
   "cell_type": "code",
   "execution_count": 35,
   "id": "249cdc7a",
   "metadata": {
    "scrolled": true
   },
   "outputs": [
    {
     "name": "stdout",
     "output_type": "stream",
     "text": [
      "10 4790\n",
      "1\n",
      "5\n",
      "10\n",
      "50\n",
      "100\n",
      "500\n",
      "1000\n",
      "5000\n",
      "10000\n",
      "50000\n",
      "12\n"
     ]
    }
   ],
   "source": [
    "N, K = map(int, input().split())\n",
    "ls = []\n",
    "for _ in range(N):\n",
    "    ls.append(int(input()))\n",
    "cnt = 0\n",
    "while K:\n",
    "    div, K = divmod(K, ls.pop())\n",
    "    cnt += div\n",
    "print(cnt)"
   ]
  },
  {
   "cell_type": "markdown",
   "id": "c96114ae",
   "metadata": {},
   "source": [
    "# 10. BOJ - 회의실 배정"
   ]
  },
  {
   "cell_type": "markdown",
   "id": "f8e4210a",
   "metadata": {},
   "source": [
    "### 문제 해결 아이디어\n",
    "- 내가 생각한 아이디어\n",
    "    - 단속카메라와 같은 종류의 문제라고 생각됨\n",
    "    1. 회의가 끝나는 시간을 기준으로 오름차순 정렬\n",
    "    2. 가장 빨리 끝나는 회의의 끝나는 시간보다 일찍 시작하는 회의들은 사실상 불가능 하므로 하나의 가능한 회의로 처리한다.\n",
    "    3. 위에서 처리된 회의를 제외한 회의 중에서 2번 과정을 반복한다.\n"
   ]
  },
  {
   "cell_type": "code",
   "execution_count": 38,
   "id": "24117828",
   "metadata": {},
   "outputs": [
    {
     "name": "stdout",
     "output_type": "stream",
     "text": [
      "11\n",
      "1 4\n",
      "3 5\n",
      "0 6\n",
      "5 7\n",
      "3 8\n",
      "5 9\n",
      "6 10\n",
      "8 11\n",
      "8 12\n",
      "2 13\n",
      "12 14\n",
      "4\n"
     ]
    }
   ],
   "source": [
    "N = int(input())\n",
    "ls = []\n",
    "for _ in range(N):\n",
    "    ls.append(list(map(int, input().split())))\n",
    "\n",
    "ls.sort(key=lambda x : (x[1], x[0]))\n",
    "\n",
    "cnt = 1\n",
    "key = ls[0][1]\n",
    "\n",
    "for meet in ls[1:]:\n",
    "    if key <= meet[0]:\n",
    "        cnt += 1\n",
    "        key = meet[1]\n",
    "print(cnt)"
   ]
  },
  {
   "cell_type": "markdown",
   "id": "c06b0925",
   "metadata": {},
   "source": [
    "# 11. BOJ - ATM"
   ]
  },
  {
   "cell_type": "markdown",
   "id": "4b1992b1",
   "metadata": {},
   "source": [
    "### 문제 해결 아이디어\n",
    "- 내가 생각한 아이디어\n",
    "    - 인출 시간을 기준으로 오름차순 정렬 하는 것이 가장 합이 작을 것이다."
   ]
  },
  {
   "cell_type": "code",
   "execution_count": 42,
   "id": "1a4a5c59",
   "metadata": {},
   "outputs": [
    {
     "name": "stdout",
     "output_type": "stream",
     "text": [
      "5\n",
      "3 1 4 3 2\n",
      "32\n"
     ]
    }
   ],
   "source": [
    "N = int(input())\n",
    "ls = list(map(int, input().split()))\n",
    "ls.sort()\n",
    "\n",
    "length = len(ls)\n",
    "answer = 0\n",
    "for i in range(length):\n",
    "    answer += ls[i] * (length-i)\n",
    "print(answer)"
   ]
  },
  {
   "cell_type": "markdown",
   "id": "a7891df5",
   "metadata": {},
   "source": [
    "# 12. BOJ - 잃어버린 괄호"
   ]
  },
  {
   "cell_type": "code",
   "execution_count": 47,
   "id": "ac6644de",
   "metadata": {},
   "outputs": [
    {
     "name": "stdout",
     "output_type": "stream",
     "text": [
      "00009-00009\n",
      "0\n"
     ]
    }
   ],
   "source": [
    "minus_split = input().split(\"-\")\n",
    "total = 0\n",
    "\n",
    "for idx, val in enumerate(minus_split):\n",
    "    val = sum(list(map(int, val.split(\"+\"))))\n",
    "    if (idx == 0) :\n",
    "        total += val\n",
    "    else : \n",
    "        total -= val\n",
    "        \n",
    "print(total)"
   ]
  },
  {
   "cell_type": "markdown",
   "id": "626c1a12",
   "metadata": {},
   "source": [
    "# 13. BOJ - 주유소"
   ]
  },
  {
   "cell_type": "code",
   "execution_count": 51,
   "id": "3529beee",
   "metadata": {},
   "outputs": [
    {
     "name": "stdout",
     "output_type": "stream",
     "text": [
      "4\n",
      "3 3 5\n",
      "1 1 1 1\n",
      "11\n"
     ]
    }
   ],
   "source": [
    "N = int(input())\n",
    "dist = list(map(int, input().split()))\n",
    "price = list(map(int, input().split()))\n",
    "price.pop()\n",
    "\n",
    "total = 0\n",
    "key = price[0]\n",
    "for i in range(len(dist)):\n",
    "    key = min(key, price[i])\n",
    "    total += key * dist[i]\n",
    "    \n",
    "print(total)"
   ]
  },
  {
   "cell_type": "markdown",
   "id": "197242a6",
   "metadata": {},
   "source": [
    "# 14. BOJ - 보물"
   ]
  },
  {
   "cell_type": "markdown",
   "id": "bd352034",
   "metadata": {},
   "source": [
    "### 문제 해결 아이디어\n",
    "- 내가 생각한 아이디어\n",
    "    - 각 원소를 곱한 것의 합이 최소가 되어야하기 때문에, 서로 반대로 정렬해서 곱하면 된다고 생각했다."
   ]
  },
  {
   "cell_type": "code",
   "execution_count": 4,
   "id": "d046b19f",
   "metadata": {},
   "outputs": [
    {
     "name": "stdout",
     "output_type": "stream",
     "text": [
      "9\n",
      "5 15 100 31 39 0 0 3 26\n",
      "11 12 13 2 3 4 5 9 1\n",
      "528\n"
     ]
    }
   ],
   "source": [
    "N = int(input())\n",
    "ls1 = list(map(int, input().split()))\n",
    "ls2 = list(map(int, input().split()))\n",
    "ls1.sort()\n",
    "ls2.sort(reverse=True)\n",
    "total = 0\n",
    "for i in range(N):\n",
    "    total += ls1[i]*ls2[i]\n",
    "print(total)"
   ]
  },
  {
   "cell_type": "markdown",
   "id": "0766cd6d",
   "metadata": {},
   "source": [
    "# 15. BOJ - 거스름돈"
   ]
  },
  {
   "cell_type": "markdown",
   "id": "67be3f36",
   "metadata": {},
   "source": [
    "### 문제 해결 아이디어\n",
    "- 내가 생각한 아이디어\n",
    "    - 잔돈의 단위가 계속해서 이전 단위의 배수로 이루어져있기 때문에, 가장 큰 단위의 잔돈부터 나눠주고 나머지를 다음 단위가 나눠주는 식으로 반복한다."
   ]
  },
  {
   "cell_type": "code",
   "execution_count": 9,
   "id": "5baf1f6c",
   "metadata": {},
   "outputs": [
    {
     "name": "stdout",
     "output_type": "stream",
     "text": [
      "1\n",
      "15\n"
     ]
    }
   ],
   "source": [
    "N = 1000 - int(input())\n",
    "ls = [500, 100, 50, 10, 5, 1]\n",
    "\n",
    "cnt = 0\n",
    "\n",
    "for coin in ls:\n",
    "    num, N = divmod(N, coin)\n",
    "    cnt += num\n",
    "    \n",
    "print(cnt)"
   ]
  },
  {
   "cell_type": "markdown",
   "id": "d7b5086c",
   "metadata": {},
   "source": [
    "# 16. BOJ - 로프"
   ]
  },
  {
   "cell_type": "markdown",
   "id": "5d157acb",
   "metadata": {},
   "source": [
    "### 문제 해결 아이디어\n",
    "- 내가 생각한 아이디어\n",
    "    - 중량을 기준으로 내림차순으로 정렬한 후에, 로프를 추가했을 때 최대중량이 기존 최대 중량보다 크면 갱신, 아니라면 break\n",
    "    \n",
    "- 피드백 : 중간에 비효율적이면 멈춰도 된다고 생각했는데 롱테일을 생각해보면 아니었다."
   ]
  },
  {
   "cell_type": "code",
   "execution_count": 24,
   "id": "3b7aabbb",
   "metadata": {},
   "outputs": [
    {
     "name": "stdout",
     "output_type": "stream",
     "text": [
      "2\n",
      "10\n",
      "15\n",
      "20\n"
     ]
    }
   ],
   "source": [
    "n = int(input())\n",
    "ls = []\n",
    "for _ in range(n):\n",
    "    ls.append(int(input()))\n",
    "ls.sort()\n",
    "\n",
    "maxNum = 0\n",
    "for i in range(1,n+1):\n",
    "    recent = ls.pop() * i\n",
    "    maxNum = max(maxNum, recent)\n",
    "    \n",
    "print(maxNum)"
   ]
  },
  {
   "cell_type": "markdown",
   "id": "3ca4f382",
   "metadata": {},
   "source": [
    "# 17. BOJ - 전자레인지"
   ]
  },
  {
   "cell_type": "code",
   "execution_count": 29,
   "id": "e373a8fe",
   "metadata": {},
   "outputs": [
    {
     "name": "stdout",
     "output_type": "stream",
     "text": [
      "189\n",
      "-1\n"
     ]
    }
   ],
   "source": [
    "n = int(input())\n",
    "ls = [300, 60, 10]\n",
    "cnt = []\n",
    "for timer in ls:\n",
    "    number, n = divmod(n, timer)\n",
    "    cnt.append(str(number))\n",
    "if n:\n",
    "    print(-1)\n",
    "else:\n",
    "    print(\" \".join(cnt))"
   ]
  },
  {
   "cell_type": "markdown",
   "id": "a1aaab74",
   "metadata": {},
   "source": [
    "# 18. BOJ - 30"
   ]
  },
  {
   "cell_type": "code",
   "execution_count": 34,
   "id": "1241750e",
   "metadata": {},
   "outputs": [
    {
     "name": "stdout",
     "output_type": "stream",
     "text": [
      "80875542\n",
      "88755420\n"
     ]
    }
   ],
   "source": [
    "n = input()\n",
    "if \"0\" in n and (sum(map(int, n)))%3 == 0:\n",
    "        ls = list(n)\n",
    "        ls.sort(reverse=True)\n",
    "        print(\"\".join(ls))\n",
    "else: print(-1)"
   ]
  },
  {
   "cell_type": "markdown",
   "id": "16f66cb1",
   "metadata": {},
   "source": [
    "# 19. BOJ - 수들의 합"
   ]
  },
  {
   "cell_type": "code",
   "execution_count": 56,
   "id": "afb2219e",
   "metadata": {
    "scrolled": true
   },
   "outputs": [
    {
     "name": "stdout",
     "output_type": "stream",
     "text": [
      "56\n",
      "10\n"
     ]
    }
   ],
   "source": [
    "n = int(input())\n",
    "maxNum = int((2*n)**(1/2))\n",
    "for i in range(maxNum,0,-1):\n",
    "    if i*(i+1)//2 <= n:\n",
    "        print(i)\n",
    "        break"
   ]
  },
  {
   "cell_type": "markdown",
   "id": "c81a151a",
   "metadata": {},
   "source": [
    "# 20. BOJ - 신입 사원"
   ]
  },
  {
   "cell_type": "markdown",
   "id": "ecd7a698",
   "metadata": {},
   "source": [
    "### 문제 해결 아이디어\n",
    "- 내가 생각한 아이디어\n",
    "    - 동석차 없이 1위부터 N위까지 모두 있다고 했기 때문에\n",
    "    1. 서류심사 석차를 기준으로 오름차순 정렬\n",
    "    2. 1위의 면접시험 석차를 기준으로 2위를 평가. 2위의 면접시험 석차가 더 낮으면 2위는 탈락. 2위의 면접시험 석차가 더 높으면 기준을 2위의 면접시험 석차로 변경한다. (왜냐하면, 서류심사 석차를 기준으로 오름차순 정렬했기 때문에, 서류심사 점수는 통과자들보다 낮을 것이 분명하고, 그렇기에 통과자들 중 가장 높은 면점시험 석차보다 높아야만 통과가 가능하기 때문이다.)\n",
    "    3. 위의 과정을 다음 순위에게 반복\n",
    "- 피드백 : 시간초과가 뜰 경우에는 input()대신 sys.stdin.readline()을 이용하자..."
   ]
  },
  {
   "cell_type": "code",
   "execution_count": 12,
   "id": "f6020fad",
   "metadata": {
    "ExecuteTime": {
     "end_time": "2022-02-20T07:04:43.092390Z",
     "start_time": "2022-02-20T07:04:20.543050Z"
    }
   },
   "outputs": [
    {
     "name": "stdout",
     "output_type": "stream",
     "text": [
      "1\n",
      "7\n",
      "3 6\n",
      "7 3\n",
      "4 2\n",
      "1 4\n",
      "5 7\n",
      "2 5\n",
      "6 1\n",
      "3\n"
     ]
    }
   ],
   "source": [
    "import sys\n",
    "T = int(input())\n",
    "answer = []\n",
    "for _ in range(T):\n",
    "    n = int(input())\n",
    "    ls = []\n",
    "    cnt = n\n",
    "    for _ in range(n):\n",
    "        ls.append(list(map(int, input().split())))\n",
    "    ls.sort()\n",
    "    key = 100001\n",
    "    for score in ls:\n",
    "        if score[1] >= key :\n",
    "            cnt -= 1\n",
    "        else : \n",
    "            key = score[1]\n",
    "    answer.append(cnt)\n",
    "    \n",
    "for ans in answer:\n",
    "    print(ans)"
   ]
  },
  {
   "cell_type": "markdown",
   "id": "a180f557",
   "metadata": {},
   "source": [
    "# 21. BOJ - 단어 수학"
   ]
  },
  {
   "cell_type": "markdown",
   "id": "c534b6a2",
   "metadata": {},
   "source": [
    "### 문제 해결 아이디어\n",
    "- 내가 생각한 아이디어\n",
    "    - 우선순위가 높은 알파벳부터 높은 숫자를 부여해준다.\n",
    "    - 우선순위라는 것은 자릿수를 의미한다.\n",
    "    - ex) AOOOO이면 A에게 10000의 우선순위가 가도록 한다. BOOO이 11개 있으면 B가 더 우선순위가 높다."
   ]
  },
  {
   "cell_type": "code",
   "execution_count": 23,
   "id": "54c62010",
   "metadata": {
    "ExecuteTime": {
     "end_time": "2022-02-20T07:18:45.917541Z",
     "start_time": "2022-02-20T07:18:41.546080Z"
    }
   },
   "outputs": [
    {
     "name": "stdout",
     "output_type": "stream",
     "text": [
      "2\n",
      "GCF\n",
      "ACDEB\n",
      "99437\n"
     ]
    }
   ],
   "source": [
    "n = int(input())\n",
    "dic = {}\n",
    "\n",
    "for _ in range(n):\n",
    "    word = input()\n",
    "    length = len(word) - 1\n",
    "    for idx, char in enumerate(word):\n",
    "        if char not in dic:\n",
    "            dic[char] = 0\n",
    "        dic[char] = dic[char] + 10**(length-idx)\n",
    "values = list(dic.values())\n",
    "values.sort(reverse=True)\n",
    "\n",
    "total = 0\n",
    "\n",
    "for idx, value in enumerate(values):\n",
    "    total += value * (9-idx)\n",
    "    \n",
    "print(total)"
   ]
  },
  {
   "cell_type": "markdown",
   "id": "351d5464",
   "metadata": {},
   "source": [
    "# 22. BOJ - 카드 정렬하기"
   ]
  },
  {
   "cell_type": "markdown",
   "id": "3c9b4e4b",
   "metadata": {},
   "source": [
    "### 문제 해결 아이디어\n",
    "- 내가 생각한 아이디어\n",
    "     - 호프만 코드가 생각나는 문제다.\n",
    "     - 가장 작은 값의 두 묶음을 합쳐서 새로운 하나의 묶음으로 만들고 총 비교횟수에 새 묶음을 더한다. 또다시 그 중에서 가장 작은 값의 두 묶음을 합쳐서.... 의 과정을 반복하면 해결될 것 같다.\n",
    "     - 가장 작은 두 묶음을 구하기 위해 전체를 sort하는 것은 매우 비효율적이기 때문에, heap으로 구현해야 할 것 같다는 느낌이 확 들었다."
   ]
  },
  {
   "cell_type": "code",
   "execution_count": 24,
   "id": "feeff553",
   "metadata": {
    "ExecuteTime": {
     "end_time": "2022-02-20T07:36:09.060369Z",
     "start_time": "2022-02-20T07:36:02.915365Z"
    }
   },
   "outputs": [
    {
     "name": "stdout",
     "output_type": "stream",
     "text": [
      "3\n",
      "10\n",
      "20\n",
      "40\n",
      "100\n"
     ]
    }
   ],
   "source": [
    "import heapq\n",
    "n = int(input())\n",
    "\n",
    "ls = []\n",
    "for _ in range(n):\n",
    "    heapq.heappush(ls, int(input()))\n",
    "    \n",
    "cnt = 0\n",
    "while len(ls)> 1:\n",
    "    min1 = heapq.heappop(ls)\n",
    "    min2 = heapq.heappop(ls)\n",
    "    new_deck = min1 + min2\n",
    "    cnt += new_deck\n",
    "    heapq.heappush(ls, new_deck)\n",
    "    \n",
    "print(cnt)"
   ]
  },
  {
   "cell_type": "markdown",
   "id": "0a3c2f2b",
   "metadata": {},
   "source": [
    "# 23. BOJ - 뒤집기"
   ]
  },
  {
   "cell_type": "markdown",
   "id": "7549832b",
   "metadata": {},
   "source": [
    "### 문제 해결 아이디어\n",
    "- 내가 생각한 아이디어\n",
    "    - 재귀적인 문제라고 생각이 들었다.\n",
    "    - 같게할문자열 = 0000\"같게할문자열\"000 이런식으로 하나씩 파고들어야 한다고 생각되었다.\n",
    "    - 양끝에 있는, 뒤집을필요 없는 0이나 1은 strip으로 제거하고 아직 문자열이 남아있으면, cnt += 1 한다."
   ]
  },
  {
   "cell_type": "code",
   "execution_count": 31,
   "id": "2ae981b5",
   "metadata": {
    "ExecuteTime": {
     "end_time": "2022-02-20T07:51:30.390822Z",
     "start_time": "2022-02-20T07:51:28.359102Z"
    }
   },
   "outputs": [
    {
     "name": "stdout",
     "output_type": "stream",
     "text": [
      "0001100\n",
      "0001100\n"
     ]
    }
   ],
   "source": [
    "string = input()\n",
    "first = string[0]\n",
    "string.strip(str(first))\n",
    "print(string)"
   ]
  },
  {
   "cell_type": "code",
   "execution_count": 28,
   "id": "f45f4886",
   "metadata": {
    "ExecuteTime": {
     "end_time": "2022-02-20T07:50:04.451225Z",
     "start_time": "2022-02-20T07:50:04.429032Z"
    }
   },
   "outputs": [
    {
     "data": {
      "text/plain": [
       "'11'"
      ]
     },
     "execution_count": 28,
     "metadata": {},
     "output_type": "execute_result"
    }
   ],
   "source": [
    "\"0001100\".strip()"
   ]
  },
  {
   "cell_type": "code",
   "execution_count": 36,
   "id": "4a35b78b",
   "metadata": {
    "ExecuteTime": {
     "end_time": "2022-02-20T07:52:29.047223Z",
     "start_time": "2022-02-20T07:52:28.411411Z"
    }
   },
   "outputs": [
    {
     "name": "stdout",
     "output_type": "stream",
     "text": [
      "11101101\n",
      "2\n"
     ]
    }
   ],
   "source": [
    "string = input()\n",
    "first = string[0]\n",
    "string = string.strip(first)\n",
    "cnt = 0\n",
    "while string:\n",
    "    cnt += 1\n",
    "    first = string[0]\n",
    "    string = string.strip(first)\n",
    "print(cnt)"
   ]
  },
  {
   "cell_type": "markdown",
   "id": "c24d739c",
   "metadata": {},
   "source": [
    "# 24. BOJ - 캠핑"
   ]
  },
  {
   "cell_type": "code",
   "execution_count": 38,
   "id": "1ec0c413",
   "metadata": {
    "ExecuteTime": {
     "end_time": "2022-02-20T08:02:53.765779Z",
     "start_time": "2022-02-20T08:02:47.244513Z"
    }
   },
   "outputs": [
    {
     "name": "stdout",
     "output_type": "stream",
     "text": [
      "5 8 20\n",
      "5 8 17\n",
      "0 0 0\n",
      "Case 1: 14\n",
      "Case 2: 11\n"
     ]
    }
   ],
   "source": [
    "ls = []\n",
    "while True:\n",
    "    L, P, V = map(int, input().split())\n",
    "    if L == 0 and P == 0 and V == 0:\n",
    "        break\n",
    "    quo, rem = divmod(V, P)\n",
    "    ls.append(quo*L + min(rem,L))\n",
    "for idx, num in enumerate(ls):\n",
    "    print(\"Case {}: {}\".format(idx+1, num))"
   ]
  },
  {
   "cell_type": "markdown",
   "id": "9a99970a",
   "metadata": {},
   "source": [
    "# 25. BOJ - A-> B"
   ]
  },
  {
   "cell_type": "code",
   "execution_count": 48,
   "id": "0b1dd5fa",
   "metadata": {
    "ExecuteTime": {
     "end_time": "2022-02-20T08:11:34.210321Z",
     "start_time": "2022-02-20T08:11:30.914178Z"
    }
   },
   "outputs": [
    {
     "name": "stdout",
     "output_type": "stream",
     "text": [
      "100 40021\n",
      "5\n"
     ]
    }
   ],
   "source": [
    "n, target = input().split()\n",
    "n = int(n)\n",
    "cnt = 1\n",
    "while True:\n",
    "    if n > int(target):\n",
    "        print(-1)\n",
    "        break\n",
    "    elif n == int(target):\n",
    "        print(cnt)\n",
    "        break\n",
    "    elif target[-1] == \"1\":\n",
    "        target= target[:-1]\n",
    "        cnt +=1\n",
    "    elif int(target)% 2 == 0:\n",
    "        target = str(int(target)//2)\n",
    "        cnt +=1\n",
    "    else:\n",
    "        print(-1)\n",
    "        break\n",
    "    "
   ]
  },
  {
   "cell_type": "markdown",
   "id": "95116274",
   "metadata": {},
   "source": [
    "# 26. BOJ 보석 도둑"
   ]
  },
  {
   "cell_type": "markdown",
   "id": "471d47d2",
   "metadata": {},
   "source": [
    "### 문제 해결 아이디어\n",
    "- 내가 생각한 아이디어\n",
    "    - 제일 비싼 보석을 가능한 작은 가방에 먼저 넣는 방법이 맞지 않을까?"
   ]
  },
  {
   "cell_type": "code",
   "execution_count": 18,
   "id": "7f25605b",
   "metadata": {
    "ExecuteTime": {
     "end_time": "2022-02-20T09:40:38.845382Z",
     "start_time": "2022-02-20T09:40:28.854537Z"
    }
   },
   "outputs": [
    {
     "name": "stdout",
     "output_type": "stream",
     "text": [
      "2 1\n",
      "5 10\n",
      "100 100\n",
      "11\n",
      "[[5, 10], [100, 100]]\n"
     ]
    }
   ],
   "source": [
    "import sys\n",
    "n, k = map(int, input().split())\n",
    "jewels = []\n",
    "bags = []\n",
    "for _ in range(n):\n",
    "    heapq.heappush(jewels, (list(map(int, input().split()))))\n",
    "for _ in range(k):\n",
    "    bags.append(int(input()))\n",
    "bags.sort(reverse=True)\n",
    "\n",
    "print(jewels)\n",
    "# total = 0\n",
    "\n",
    "# for bag in bags:\n",
    "#     while jewels:\n",
    "#         jewel = jewels.pop()`\n",
    "#         if jewel[0] > bag:\n",
    "#             continue\n",
    "#         total += jewel[1]\n",
    "#         break\n",
    "        \n",
    "# print(total)"
   ]
  },
  {
   "cell_type": "markdown",
   "id": "2f21f435",
   "metadata": {},
   "source": [
    "# "
   ]
  }
 ],
 "metadata": {
  "kernelspec": {
   "display_name": "Python 3",
   "language": "python",
   "name": "python3"
  },
  "language_info": {
   "codemirror_mode": {
    "name": "ipython",
    "version": 3
   },
   "file_extension": ".py",
   "mimetype": "text/x-python",
   "name": "python",
   "nbconvert_exporter": "python",
   "pygments_lexer": "ipython3",
   "version": "3.8.8"
  },
  "toc": {
   "base_numbering": 1,
   "nav_menu": {},
   "number_sections": false,
   "sideBar": true,
   "skip_h1_title": false,
   "title_cell": "Table of Contents",
   "title_sidebar": "Contents",
   "toc_cell": false,
   "toc_position": {},
   "toc_section_display": true,
   "toc_window_display": false
  }
 },
 "nbformat": 4,
 "nbformat_minor": 5
}
