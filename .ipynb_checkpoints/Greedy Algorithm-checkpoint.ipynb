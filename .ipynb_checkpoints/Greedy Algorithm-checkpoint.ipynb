{
 "cells": [
  {
   "cell_type": "markdown",
   "metadata": {},
   "source": [
    "# Greedy (탐욕법)"
   ]
  },
  {
   "cell_type": "markdown",
   "metadata": {},
   "source": [
    "# 1. 1이 될 때까지"
   ]
  },
  {
   "cell_type": "markdown",
   "metadata": {},
   "source": [
    "### 문제설명 \n",
    "- 어떠한 수 N이 1이 될 때까지 다음 두 과정 중 하나를 반복적으로 선택하여 수행하려고 합니다. 단, 두번째 연산은 N이 K로 나누어 떨어질 때만 선택할 수 있습니다.\n",
    "1. N에서 1을 뺍니다\n",
    "2. N을 K로 나눕니다.\n",
    "- 예를 들어 N이 17, K가 4라고 가정합시다. 이때 1번의 과정을 한 번 수행하면 N은 16이 됩니다. 이후에 2번의 과정을 두 번 수행하면 N은 1이 됩니다. 결과적으로 이 경우 전체 과정을 실행한 횟수는 3이 됩니다. 이는 N을 1로 만드는 최소 횟수입니다.\n",
    "- N과 K가 주어질 때 N이 1이 될 때까지 1번 혹은 2번의 **과정을 수행해야 하는 최소 횟수**를 구하는 프로그램을 작성하세요."
   ]
  },
  {
   "cell_type": "markdown",
   "metadata": {},
   "source": [
    "### 문제조건\n",
    "- 난이도 : 하\n",
    "- 풀이시간 : 15분\n",
    "- 시간제한 : 2초\n",
    "- 메모리제한 : 128MB \n",
    "<br>\n",
    "\n",
    "- 입력 조건  : 첫째 줄에는 N (1 <= N <= 100,000)과 K (2 <= K <= 100,000)가 공백을 기준으로 하여 각각 자연수로 주어집니다.\n",
    "- 출력 조건 : 첫째 줄의 N이 1이 될 때까지 1번 혹은 2번의 과정을 수행해야 하는 횟수의 최솟값을 출력합니다.\n",
    "<br>\n",
    "\n",
    "- 입력 예시 : 25 5\n",
    "- 출력 예시 : 2"
   ]
  },
  {
   "cell_type": "markdown",
   "metadata": {},
   "source": [
    "### 문제 해결 아이디어\n",
    "- 정답 아이디어\n",
    "    - 주어진 N에 대하여 **최대한 많이 나누기**를 수행하면 됩니다.\n",
    "    - N의 값을 줄일 때, 2 이상의 수로 나누는 작업이 1을 빼는 작업보다 항상 빠르게 N을 줄일 수 있습니다.\n",
    "    - 또한 N은 항상 1에 도달하게 됩니다.\n",
    "    \n",
    "- 피드백\n",
    "    - 나눠지지 않으면 빼고 나눠떨어지면 나누는 반복문을 작성하는 것이 아니라, **1회 반복 시에 나눠지지 않으면 뺄 수 있는 만큼 뺀 뒤에 1번은 나눗셈을 시도**하는 것이 **시간 복잡도를 log_N**으로 줄일 수 있다는 사실을 깨달았다."
   ]
  },
  {
   "cell_type": "markdown",
   "metadata": {},
   "source": [
    "### 프로그램 코드"
   ]
  },
  {
   "cell_type": "code",
   "execution_count": 7,
   "metadata": {
    "ExecuteTime": {
     "end_time": "2022-02-19T03:33:55.526919Z",
     "start_time": "2022-02-19T03:33:53.471887Z"
    }
   },
   "outputs": [
    {
     "name": "stdout",
     "output_type": "stream",
     "text": [
      "25 3\n",
      "6\n"
     ]
    }
   ],
   "source": [
    "# 공백 기준으로 구분하여 입력 받기 및 type casting\n",
    "n, k = map(int, input().split())\n",
    "\n",
    "count = 0\n",
    "\n",
    "while True:\n",
    "    # N이 K로 나누어떨어질 때까지 1을 빼기\n",
    "    tmp = n // k * k\n",
    "    # 뺄셈횟수를 추가\n",
    "    count += n - tmp\n",
    "    # 뺼셈 완료한 값을 n에 배정\n",
    "    n = tmp\n",
    "\n",
    "    # 만약 N이 K보다 작다면, 나눗셈이 불가하므로 반복문 탈출\n",
    "    if n < k:\n",
    "        break\n",
    "\n",
    "    # 나눗셈이 가능하다면, 횟수를 추가하고 나눗셈 진행.\n",
    "    count += 1\n",
    "    n //= k\n",
    "\n",
    "# break로 탈출한 경우를 대비해, 남은 수만큼 뺄셈 진행하는 횟수를 추가\n",
    "count += n - 1\n",
    "\n",
    "print(count)"
   ]
  },
  {
   "cell_type": "markdown",
   "metadata": {},
   "source": [
    "# 2. 곱하기 혹은 더하기"
   ]
  },
  {
   "cell_type": "markdown",
   "metadata": {},
   "source": [
    "### 문제설명\n",
    "- 각 자리가 숫자(0부터 9)로만 이루어진 문자열 S가 주어졌을 때, 왼쪽부터 오른쪽으로 하나씩 모든 숫자를 화인하며 숫자 사이에 'x' 혹은 '+' 연산자를 넣어 결과적으로 **만들어질 수 있는 가장 큰 수**를 구하는 프로그램을 작성하세요. 단, +보다 x를 먼저 계산하는 일반적인 방식과는 달리, **모든 연산은 왼쪽에서부터 순서대로** 이루어진다고 가정합니다.\n",
    "<br>\n",
    "- 예를 들어 02984라는 문자열로 만들 수 있는 가장 큰 수는 ((((0 + 2) x 9) x 8) x 4) = 576 입니다. 또한 만들어질 수 있는 가장 큰 수는 항상 20억 이하의 정수가 되도록 입력이 주어집니다.(c, c++ 고려)"
   ]
  },
  {
   "cell_type": "markdown",
   "metadata": {},
   "source": [
    "### 문제 조건\n",
    "- 난이도 : 하\n",
    "- 풀이시간 : 30분\n",
    "- 시간제한 : 1초\n",
    "- 메모리 제한 : 128MB\n",
    "- 기출 : Facebook 인터뷰\n",
    "<br>\n",
    "\n",
    "- 입력조건 : 첫째 줄에 여러개의 숫자로 구성된 하나의 문자열 S가 주어집니다. (1 <= S의 길이 <= 20)\n",
    "- 출력조건 : 첫째 줄에 만들어질 수 있는 가장 큰 수를 출력합니다.\n",
    "<br>\n",
    "- 입력예시 : 02984\n",
    "- 출력예시 : 576"
   ]
  },
  {
   "cell_type": "markdown",
   "metadata": {},
   "source": [
    "### 문제 해결 아이디어\n",
    "- 내가 생각한 아이디어\n",
    "    - 최대한 많은 곱셈이 진행되어야한다. (0과 1 제외)\n",
    "    - total이 0일 때는 우선적으로 수가 더해져야한다.\n",
    "    - total이 0이 아닐때\n",
    "        - 해당 수가 0일 때: 덧셈 진행 (연산 진행안함)\n",
    "        - 해당 수가 1일 때: 덧셈 진행\n",
    "        - 해당 수가 2 이상일 때 : 곱셈 진행\n",
    "        \n",
    "- 정답 아이디어\n",
    "    - 대부분의 경우 + 보다는 x가 값을 더 크게 만듭니다.\n",
    "    - 다만 두 수 중에서 하나라도 0 혹은 1인 경우, 곱하기보다는 더하기를 수행하는 것이 효율적 입니다.\n",
    "    - 따라서 **두 수에 대하여 연산을 수행할 때, 두 수 중에서 하나라도 1이하인 경우에는 더하며, 두 수가 모두 2 이상인 경우에는 곱하면 정답**입니다.\n",
    "    \n",
    "- 피드백\n",
    "    - 지금 연산해야하는 수만 0이나 1이 아니면 곱셈을 하면 된다고 생각했는데, **기존의 수도 1이면 곱셈보다 덧셈이 더 큰 수를 만들어낸다는 사실**을 생각하지 못했다."
   ]
  },
  {
   "cell_type": "markdown",
   "metadata": {},
   "source": [
    "### 프로그램 코드"
   ]
  },
  {
   "cell_type": "code",
   "execution_count": 15,
   "metadata": {
    "ExecuteTime": {
     "end_time": "2022-02-19T04:06:11.158099Z",
     "start_time": "2022-02-19T04:06:08.712725Z"
    }
   },
   "outputs": [
    {
     "name": "stdout",
     "output_type": "stream",
     "text": [
      "0123\n",
      "6\n",
      "0123\n",
      "9\n",
      "0123\n",
      "9\n"
     ]
    }
   ],
   "source": [
    "# 내가 작성한 코드\n",
    "s = input()\n",
    "\n",
    "total = 0\n",
    "\n",
    "for num in s:\n",
    "    num = int(num)\n",
    "    if (total == 0):\n",
    "        total += num\n",
    "    else:\n",
    "        if (num == 0 or num == 1):\n",
    "            total += num\n",
    "        else:\n",
    "            total *= num\n",
    "\n",
    "print(total)\n",
    "\n",
    "# 수정한 코드\n",
    "s = input()\n",
    "\n",
    "total = 0\n",
    "\n",
    "for num in s:\n",
    "    num = int(num)\n",
    "    if (total == 0 or total == 1 or num == 0 or num == 1):\n",
    "        total += num\n",
    "    else:\n",
    "        total *= num\n",
    "\n",
    "print(total)\n",
    "\n",
    "# 답안 코드\n",
    "s = input()\n",
    "\n",
    "total = int(s[0])\n",
    "\n",
    "for i in range(1, len(s)):\n",
    "    num = int(s[i])\n",
    "    if num <= 1 or total <= 1:\n",
    "        total += num\n",
    "    else:\n",
    "        total *= num\n",
    "\n",
    "print(total)"
   ]
  },
  {
   "cell_type": "markdown",
   "metadata": {},
   "source": [
    "# 3. 모험가 길드"
   ]
  },
  {
   "cell_type": "markdown",
   "metadata": {},
   "source": [
    "### 문제 설명\n",
    "- 한 마을에 모험가가 N명 있습니다. 모험가 길드에서는 N명의 모험가를 대상으로 '공포도'를 측정했는데, '공포도'가 높은 모험가는 쉽게 공포를 느껴 위험 상황에서 제대로 대처할 능력이 떨어집니다.\n",
    "- 모험가 길드장인 장훈이는 모험가 그룹을 안전하게 구성하고자 **공포도가 X인 모험가는 반드시 X명 이상으로 구성한 모험가 그룹에 참여**해야 여행을 떠날 수 있도록 규정했습니다.\n",
    "- 장훈이는 최대 몇 개의 모험가 그룹을 만들 수 있는지 궁금합니다. N명의 모험가에 대한 정보가 주어졌을 때, **여행을 떠날 수 있는 그룹 수의 최댓값**을 구하는프로그램을 작성하세요.\n",
    "<br>\n",
    "- 예를 들어 N = 5 이고, 각 모험가의 공포도가 다음과 같다고 가정합니다 ( 2 3 1 2 2 )\n",
    "- 이 경우 그룹 1에 공포도가 1, 2, 3인 모험가를 한명씩 넣고, 그룹 2에 공포도가 2인 남은 두 명을 넣게되면 총 2개의 그룹을 만들 수 있습니다.\n",
    "- 또한 몇 명의 모험가는 마을에 그대로 남아 있어도 되기 때문에, 모든 모험가를 특정한 그룹에 넣을 필요는 없습니다.\n"
   ]
  },
  {
   "cell_type": "markdown",
   "metadata": {},
   "source": [
    "### 문제조건\n",
    "- 난이도 : 하\n",
    "- 풀이시간 : 30분\n",
    "- 시간 제한 : 1초\n",
    "- 메모리 제한 : 128MB\n",
    "- 기출 : 핵심 유형\n",
    "<br>\n",
    "- 입력 조건 : 첫째 줄에 모험가의 수 N이 주어집니다. (1 <= 100,000), 둘째 줄에 각 모험가의 공포도의 값을 N 이하의 자연수로 주어지며, 각 자연수는 공백으로 구분합니다.\n",
    "- 출력 조건 : 여행을 떠날 수 있는 그룹 수의 최댓값을 출력합니다.\n",
    "<br>\n",
    "- 입력 예시 : 5 / 2 3 1 2 2\n",
    "- 출력 예시 : 2"
   ]
  },
  {
   "cell_type": "markdown",
   "metadata": {},
   "source": [
    "### 문제 해결 아이디어\n",
    "- 내가 생각한 아이디어\n",
    "    - 공포도가 낮은 모험가들은 적은 수로도 그룹을 만들 수 있기 때문에, 공포도가 낮은 모험가끼리 먼저 묶어서 그룹을 형성시킨다.\n",
    "    - 같은 공포도를 가진 모험가들끼리 그룹을 형성하고 남은 모험가(나머지)는 보다 높은 공포도를 지닌 모험가들과 그룹을 지을 수 있기 때문에 이후 count에 이월해준다.\n",
    "    \n",
    "\n",
    "- 정답 아이디어\n",
    "    - 오름차순 정렬 후에 앞에서부터 공포도를 하나씩 확인하며 '현재 그룹에 포함된 모험가의 수'가 '현재 확인하고 있는 공포도'보다 크거나 같다면 이를 그룹으로 설정하면 됩니다.\n",
    "    - 이러한 방법을 이용하면 공포도가 오름차순 정렬되어 있기 때문에, 항상 최소한의 모험가의 수만 포함하여 그룹을 결성하게 됩니다.\n",
    "    \n",
    "\n",
    "- 피드백\n",
    "    - 시간복잡도를 최대한 낮추는 방향으로 생각하는 것이 좋을 것 같다. 내가 아이디어대로 코드를 짜면서도 최솟값과 최댓값의 차이가 크면서 sparse한 리스트가 들어오면 매우 비효율적일 것이라고 생각했었다."
   ]
  },
  {
   "cell_type": "markdown",
   "metadata": {},
   "source": [
    "### 프로그램 코드"
   ]
  },
  {
   "cell_type": "code",
   "execution_count": 38,
   "metadata": {
    "ExecuteTime": {
     "end_time": "2022-02-19T06:04:47.621595Z",
     "start_time": "2022-02-19T06:04:37.418004Z"
    }
   },
   "outputs": [
    {
     "name": "stdout",
     "output_type": "stream",
     "text": [
      "5\n",
      "2 3 1 2 2\n",
      "2\n",
      "5\n",
      "2 3 1 2 2\n",
      "2\n"
     ]
    }
   ],
   "source": [
    "# 내가 작성한 코드\n",
    "N = int(input())\n",
    "ls = list(map(int, input().split()))\n",
    "\n",
    "count = 0\n",
    "mod = 0\n",
    "for i in range(min(ls), max(ls)+1):\n",
    "    div, mod = divmod(ls.count(i)+mod, i)\n",
    "    count += div\n",
    "\n",
    "print(count)\n",
    "\n",
    "# 수정한 코드\n",
    "N = int(input())\n",
    "ls = list(map(int, input().split()))\n",
    "ls.sort()\n",
    "\n",
    "total = 0\n",
    "count = 0\n",
    "\n",
    "for num in ls:\n",
    "    count += 1\n",
    "    if count >= num:\n",
    "        total += 1\n",
    "        count = 0\n",
    "print(count)"
   ]
  },
  {
   "cell_type": "markdown",
   "metadata": {},
   "source": [
    "# 4. 프로그래머스 - 체육복"
   ]
  },
  {
   "cell_type": "markdown",
   "metadata": {},
   "source": [
    "### 문제 해결 아이디어\n",
    "- 내가 생각한 아이디어\n",
    "    - 먼저 lost와 reserve를 sort한 다음에\n",
    "    - lost와 reserve를 돌면서 reserve가 lost-1 보다 작으면 못빌려주는 reserve이기에 reserve를 넘어가고, lost-1 이상 lost+1 이하이면 빌려주기에 count++하고 둘다 넘어가고, lost+1 초과일 경우에는 빌릴사람이 없는 lost이기에 lost를 넘어가도록 한다.\n",
    "\n",
    "- 피드백 \n",
    "    - **도난당한 사람은 여분이 있어도 빌려줄 수 없기 때문**에, 1과 2가 도난당하고 2와 3이 여분이 있는 경우에는 2가 1에게 빌려줄 수 없기에 1은 체육복을 빌릴 수가 없다. 이 경우를 처리해야한다."
   ]
  },
  {
   "cell_type": "code",
   "execution_count": 49,
   "metadata": {
    "ExecuteTime": {
     "end_time": "2022-02-19T06:56:58.288616Z",
     "start_time": "2022-02-19T06:56:58.271662Z"
    }
   },
   "outputs": [],
   "source": [
    "# 내가 작성한 코드\n",
    "def solution(n, lost, reserve):\n",
    "    \n",
    "    lost.sort()\n",
    "    reserve.sort()\n",
    "    \n",
    "    lost_idx = 0\n",
    "    reserve_idx = 0\n",
    "    count = 0\n",
    "    \n",
    "    while reserve_idx < len(reserve) and lost_idx < len(lost):\n",
    "        lostNum = lost[lost_idx]\n",
    "        resNum = reserve[reserve_idx]\n",
    "        if resNum <  lostNum-1:\n",
    "            reserve_idx += 1\n",
    "        elif resNum >= lostNum -1 and resNum <= lostNum+1:\n",
    "            lost_idx += 1\n",
    "            reserve_idx +=1\n",
    "            count += 1\n",
    "        else :\n",
    "            lost_idx += 1\n",
    "    \n",
    "    return (n - len(lost) + count)\n",
    "\n",
    "# 수정한 코드\n",
    "def solution(n, lost, reserve):\n",
    "    \n",
    "    lost, reserve = list(set(lost) - set(reserve)), list(set(reserve) - set(lost))\n",
    "    \n",
    "    lost.sort()\n",
    "    reserve.sort()\n",
    "    \n",
    "    lost_idx = 0\n",
    "    reserve_idx = 0\n",
    "    count = 0\n",
    "    \n",
    "    while reserve_idx < len(reserve) and lost_idx < len(lost):\n",
    "        lostNum = lost[lost_idx]\n",
    "        resNum = reserve[reserve_idx]\n",
    "        if resNum <  lostNum-1:\n",
    "            reserve_idx += 1\n",
    "        elif resNum >= lostNum -1 and resNum <= lostNum+1:\n",
    "            lost_idx += 1\n",
    "            reserve_idx +=1\n",
    "            count += 1\n",
    "        else :\n",
    "            lost_idx += 1\n",
    "    \n",
    "    return (n - len(lost) + count)\n",
    "\n",
    "\n",
    "# 다른 답안 코드\n",
    "def solution(n, lost, reserve):\n",
    "    _reserve = [r for r in reserve if r not in lost]\n",
    "    _lost = [l for l in lost if l not in reserve]\n",
    "    _reserve.sort()\n",
    "    _lost.sort()\n",
    "    \n",
    "    for r in _reserve:\n",
    "        f = r - 1\n",
    "        b = r + 1\n",
    "        if f in _lost:\n",
    "            _lost.remove(f)\n",
    "        elif b in _lost:\n",
    "            _lost.remove(b)\n",
    "    return n - len(_lost)\n",
    "\n"
   ]
  },
  {
   "cell_type": "code",
   "execution_count": 50,
   "metadata": {
    "ExecuteTime": {
     "end_time": "2022-02-19T06:56:58.853894Z",
     "start_time": "2022-02-19T06:56:58.841927Z"
    }
   },
   "outputs": [
    {
     "name": "stdout",
     "output_type": "stream",
     "text": [
      "0 0\n",
      "1 1\n",
      "5\n",
      "0 0\n",
      "4\n"
     ]
    }
   ],
   "source": [
    "solution1(5, [2,4], [1,3,5])\n",
    "solution1(5, [2,4], [3])"
   ]
  },
  {
   "cell_type": "markdown",
   "metadata": {},
   "source": [
    "# 5. 프로그래머스 - 조이스틱\n",
    "- 소요시간 : 약 40분\n",
    "- 성공여부 : 실패"
   ]
  },
  {
   "cell_type": "markdown",
   "metadata": {},
   "source": [
    "### 문제 해결 아이디어\n",
    "- 내가 생각한 아이디어 \n",
    "    - 연속되는 A의 최대 길이가 핵심포인트.\n",
    "    - 연속되는 A가 있는 곳에는 굳이 갈 필요가 없으므로, 그 부분을 제외하고 수정하는 경우를 계산한다.\n",
    "    - 다만, 연속되는 A가 여러군데인 경우 가장 긴 부분을안가는게 더 효율적일 것이다. ex) JAAJAAAAJ 인 경우 4번째 J를 처리하기 위해서 2, 3번째의 연속된 AA를 건너는게 5,6,7,8번쨰의 연속된 AAAA를 건너는 것 보다 낫다.\n",
    "    "
   ]
  },
  {
   "cell_type": "code",
   "execution_count": 30,
   "metadata": {},
   "outputs": [],
   "source": [
    "# 내가 작성한 코드\n",
    "def solution(name):\n",
    "\n",
    "    alphabet = [ord(x) -65 if ord(x)-65 <=13 else (91 - ord(x)) for x in name]\n",
    "    \n",
    "    default = len(name)-1 + sum(alphabet)\n",
    "    \n",
    "    if \"A\" not in name:\n",
    "        return default\n",
    "    \n",
    "    \n",
    "    middle = len(name)\n",
    "    name = name * 2\n",
    "    \n",
    "    cur = 0 \n",
    "    maxlen = 0\n",
    "    for char in name:\n",
    "        if char == \"A\":\n",
    "            cur += 1\n",
    "            maxlen = max(maxlen, cur)\n",
    "        else :\n",
    "            cur = 0\n",
    "    left = name.find(\"A\" *maxlen)\n",
    "    right = name.rfind(\"A\" * maxlen)\n",
    "    \n",
    "    if left == right:\n",
    "        print(min(middle-left, left+maxlen-middle-1)+default-maxlen)\n",
    "        return (min(middle-left, left+maxlen-middle-1)+default-maxlen)\n",
    "    return(min(middle-right-maxlen, left-1) + default-maxlen)"
   ]
  },
  {
   "cell_type": "code",
   "execution_count": 111,
   "metadata": {
    "ExecuteTime": {
     "end_time": "2022-02-19T07:44:07.016676Z",
     "start_time": "2022-02-19T07:44:06.996729Z"
    }
   },
   "outputs": [],
   "source": [
    "# 내가 작성한 코드\n",
    "def solution(name):\n",
    "    cur = 0 \n",
    "    maxlen = 0\n",
    "    \n",
    "    for char in name:\n",
    "        if char == \"A\":\n",
    "            cur += 1\n",
    "            maxlen = max(maxlen, cur)\n",
    "        else :\n",
    "            cur = 0\n",
    "    start = name.find(\"A\" *maxlen)\n",
    "    end = name.rfind(\"A\" * maxlen) + maxlen\n",
    "    \n",
    "    alphabet = [ord(x) -65 if ord(x)-65 <=13 else (91 - ord(x)) for x in name]\n",
    "    \n",
    "    print(len(name)-end, start-1)\n",
    "    print(len(name) - maxlen -1)\n",
    "    print(sum(alphabet))\n",
    "    \n",
    "    if maxlen :\n",
    "        return (min(len(name)-end, start-1) + len(name)-maxlen-1 + sum(alphabet))\n",
    "    else :\n",
    "        return len(name)-1 + sum(alphabet)\n",
    "    "
   ]
  },
  {
   "cell_type": "markdown",
   "metadata": {},
   "source": [
    "# 6. 프로그래머스 - 큰 수 만들기"
   ]
  },
  {
   "cell_type": "markdown",
   "metadata": {},
   "source": [
    "### 문제 해결 아이디어\n",
    "- 내가 생각한 아이디어:\n",
    "    - 제거할 숫자를 고르는 것이 아니라 뽑을 숫자를 고르는 방향으로 선택\n",
    "    - 앞에서부터 뽑아야할 총 글자수만큼의 후보 중에서 max를 선택하고, 그 뒤부터 다시 후보로 선택하는 과정을 반복하는.\n",
    "\n",
    "- 답안 아이디어 \n",
    "    - stack을 활용한다. (list)\n",
    "    - 숫자를 하나씩 확인하면서, 비교대상(stack의 마지막 숫자)이 없다면 append, 비교대상이 자신보다 작으면 제거하고(pop) 아니면 그냥 append, 작더라도 더 제거할 여력이 없다면 (k=0) 제거하지 않는다.\n",
    "    - 그렇게 끝났는데도 제거할 게 남아있다면 (k>0), stack에서 뒤에서부터 남은 수 (k)만큼 제거한다.\n",
    "    \n",
    "- 피드백\n",
    "    - stack을 활용할 생각을 못했다.\n",
    "    - 머리가 빙빙 돈다 ㅜㅜㅜ"
   ]
  },
  {
   "cell_type": "code",
   "execution_count": 164,
   "metadata": {
    "ExecuteTime": {
     "end_time": "2022-02-19T08:08:47.972104Z",
     "start_time": "2022-02-19T08:08:47.960137Z"
    }
   },
   "outputs": [],
   "source": [
    "# 내가 작성한 코드\n",
    "def solution(number, k):\n",
    "    answer = \"\"\n",
    "    for i in range(length,0,-1):\n",
    "        ls = list(number[:len(number)-i+1])\n",
    "        maxNum = max(ls)\n",
    "        answer = answer + maxNum\n",
    "        number = number[number.index(maxNum)+1:]\n",
    "    return answer\n",
    "\n",
    "# 답안 코드\n",
    "def solution(number, k):\n",
    "    stack = []\n",
    "    for num in number:\n",
    "        while stack and stack[-1] < num and k > 0:\n",
    "            k -= 1\n",
    "            stack.pop()\n",
    "        stack.append(num)\n",
    "    if k != 0:\n",
    "        stack = stack[:-k]\n",
    "    return ''.join(stack)"
   ]
  },
  {
   "cell_type": "code",
   "execution_count": 171,
   "metadata": {
    "ExecuteTime": {
     "end_time": "2022-02-19T08:28:54.456268Z",
     "start_time": "2022-02-19T08:28:54.440187Z"
    }
   },
   "outputs": [
    {
     "name": "stdout",
     "output_type": "stream",
     "text": [
      "9\n"
     ]
    }
   ],
   "source": [
    "solution(\"1924\", 2)"
   ]
  },
  {
   "cell_type": "markdown",
   "metadata": {},
   "source": [
    "# 7. 프로그래머스 - 구명보트"
   ]
  },
  {
   "cell_type": "markdown",
   "metadata": {},
   "source": [
    "### 문재 해결 아이디어\n",
    "- 내가 생각한 아이디어\n",
    "1. 오름차순 정렬을 한다.\n",
    "2. 사용된 구명보트 개수 = 0\n",
    "3. 사람이 남아있는 동안(while) - 맨 뒤의 숫자(가장 큰 숫자)가 정원제한의 절반 이하인가?\n",
    "    1. 절반 이하인 경우 : (남은인원/2)의 올림이 필요한 구명보트 갯수이다. (break)\n",
    "    2. 절반 초과인 경우 : 본인을 제외한 맨 앞의 숫자(가장 작은 숫자)와의 합계가 제한 이하인가?\n",
    "        1. 합계가 제한 이하인 경우 : 둘 다 리스트에서 제거한다. \n",
    "        2. 합계가 제한 초과일 경우 : 맨 뒤의 숫자만 리스트에서 제거한다.\n",
    "        \n",
    "        - 결과와 무관하게 구명보트는 1개 사용된다.\n",
    "                 \n",
    "\n",
    "- 피드백\n",
    "    - pop(0)은 단순히 제거하는 것이 아니라 지우고 한칸씩 앞으로 당기기 때문에 시간 복잡도가 O(n)이 된다. 때문에, collections의 deque를 사용하여 popleft를 하면 해결된다. 혹은 index의 값을 변경하면서 조회하고 answer 값을 변경해주면 될 듯 하다.\n",
    "    \n",
    "- index의 값을 변경하면서 조회하는 아이디어\n",
    "1. 오름차순 정렬을 한다.\n",
    "2. 사용된 구명보트 개수 =0\n",
    "3. 왼쪽index가 오른쪽index보다 같거나 작은 동안 (while) - 맨 왼쪽의 숫자와 맨 오른쪽의 숫자의 합이 제한 이하인가?\n",
    "    1. 제한 이하인 경우 : 맨왼쪽 사람도 탔기 때문에 left += 1\n",
    "    - 이하 초과 상관없이 맨 오른쪽 사람은 탔기 때문에 right -= 1 그리고 구명보트를 하나 사용했기 때문에 구명보트 개수 += 1\n",
    "    - 왼쪽index와 오른쪽index가 같으면 같은사람이 한 보트에 2명 타게 되는 셈이지만, 사용된 구명보트는 결국 1개 증가로 동일하기 때문에 에러가 나지 않는다.\n",
    "      "
   ]
  },
  {
   "cell_type": "code",
   "execution_count": 175,
   "metadata": {
    "ExecuteTime": {
     "end_time": "2022-02-19T09:22:04.562725Z",
     "start_time": "2022-02-19T09:22:04.548661Z"
    }
   },
   "outputs": [],
   "source": [
    "# deque를 활용한 방법\n",
    "import numpy as np\n",
    "from collections import deque\n",
    "def solution(people, limit):\n",
    "    people = deque(sorted(people))\n",
    "    answer = 0\n",
    "    \n",
    "    while people:\n",
    "        \n",
    "        if people[-1] <= limit/2:\n",
    "            answer += np.ceil(len(people) / 2)\n",
    "            break\n",
    "            \n",
    "        person = people.pop()\n",
    "        if people and person  + people[0] <= limit:\n",
    "            people.popleft()\n",
    "        answer += 1\n",
    "    \n",
    "    return answer\n",
    "\n",
    "# index를 활용한 방법\n",
    "def solution(people, limit):\n",
    "    people.sort()\n",
    "    answer = 0\n",
    "    \n",
    "    left = 0\n",
    "    right = len(people) -1\n",
    "    \n",
    "    while left <= right:\n",
    "        if people[left] + people[right] <= limit:\n",
    "            left += 1\n",
    "        right -= 1\n",
    "        answer += 1\n",
    "    return answer"
   ]
  },
  {
   "cell_type": "markdown",
   "metadata": {},
   "source": [
    "# 8. 프로그래머스 - 단속카메라"
   ]
  },
  {
   "cell_type": "markdown",
   "metadata": {},
   "source": [
    "### 문제 해결 아이디어\n",
    "- 내가 생각한 아이디어\n",
    "    1. 나간지점을 기준으로 오름차순 정렬\n",
    "    2. 가장 앞서있는 진입지점을 지닌 이동 경로의 나간 지점(key)보다, 진입 지점이 앞서있는 경로들은 하나의 카메라로 다 단속된 것으로 하고, 만약 진입지점이 key보다 뒤에 있는 경로가 나타날 경우 필요한 카메라 개수 += 1 및 key를 해당 경로의 나간 지점으로 변경"
   ]
  },
  {
   "cell_type": "code",
   "execution_count": 5,
   "metadata": {},
   "outputs": [],
   "source": [
    "def solution(routes):\n",
    "    routes.sort(key = lambda x: x[0])\n",
    "    \n",
    "    answer = 1\n",
    "    key = routes[0][1]\n",
    "    for route in routes:\n",
    "        if route[0] > key:\n",
    "            answer += 1\n",
    "            key = route[1]\n",
    "    return answer"
   ]
  },
  {
   "cell_type": "markdown",
   "metadata": {},
   "source": [
    "# 9. BOJ - 동전 0"
   ]
  },
  {
   "cell_type": "markdown",
   "metadata": {},
   "source": [
    "### 문제 해결 아이디어\n",
    "- 내가 생각한 아이디어\n",
    "    1. 동전의 단위가 배수라고 했기에, 가장 큰 단위부터 나눗셈을 통해 지불할 수 있는지 확인한다."
   ]
  },
  {
   "cell_type": "code",
   "execution_count": 35,
   "metadata": {
    "scrolled": true
   },
   "outputs": [
    {
     "name": "stdout",
     "output_type": "stream",
     "text": [
      "10 4790\n",
      "1\n",
      "5\n",
      "10\n",
      "50\n",
      "100\n",
      "500\n",
      "1000\n",
      "5000\n",
      "10000\n",
      "50000\n",
      "12\n"
     ]
    }
   ],
   "source": [
    "N, K = map(int, input().split())\n",
    "ls = []\n",
    "for _ in range(N):\n",
    "    ls.append(int(input()))\n",
    "cnt = 0\n",
    "while K:\n",
    "    div, K = divmod(K, ls.pop())\n",
    "    cnt += div\n",
    "print(cnt)"
   ]
  },
  {
   "cell_type": "markdown",
   "metadata": {},
   "source": [
    "# 10. BOJ - 회의실 배정"
   ]
  },
  {
   "cell_type": "markdown",
   "metadata": {},
   "source": [
    "### 문제 해결 아이디어\n",
    "- 내가 생각한 아이디어\n",
    "    - 단속카메라와 같은 종류의 문제라고 생각됨\n",
    "    1. 회의가 끝나는 시간을 기준으로 오름차순 정렬\n",
    "    2. 가장 빨리 끝나는 회의의 끝나는 시간보다 일찍 시작하는 회의들은 사실상 불가능 하므로 하나의 가능한 회의로 처리한다.\n",
    "    3. 위에서 처리된 회의를 제외한 회의 중에서 2번 과정을 반복한다.\n"
   ]
  },
  {
   "cell_type": "code",
   "execution_count": 38,
   "metadata": {},
   "outputs": [
    {
     "name": "stdout",
     "output_type": "stream",
     "text": [
      "11\n",
      "1 4\n",
      "3 5\n",
      "0 6\n",
      "5 7\n",
      "3 8\n",
      "5 9\n",
      "6 10\n",
      "8 11\n",
      "8 12\n",
      "2 13\n",
      "12 14\n",
      "4\n"
     ]
    }
   ],
   "source": [
    "N = int(input())\n",
    "ls = []\n",
    "for _ in range(N):\n",
    "    ls.append(list(map(int, input().split())))\n",
    "\n",
    "ls.sort(key=lambda x : (x[1], x[0]))\n",
    "\n",
    "cnt = 1\n",
    "key = ls[0][1]\n",
    "\n",
    "for meet in ls[1:]:\n",
    "    if key <= meet[0]:\n",
    "        cnt += 1\n",
    "        key = meet[1]\n",
    "print(cnt)"
   ]
  },
  {
   "cell_type": "markdown",
   "metadata": {},
   "source": [
    "# 11. BOJ - ATM"
   ]
  },
  {
   "cell_type": "markdown",
   "metadata": {},
   "source": [
    "### 문제 해결 아이디어\n",
    "- 내가 생각한 아이디어\n",
    "    - 인출 시간을 기준으로 오름차순 정렬 하는 것이 가장 합이 작을 것이다."
   ]
  },
  {
   "cell_type": "code",
   "execution_count": 42,
   "metadata": {},
   "outputs": [
    {
     "name": "stdout",
     "output_type": "stream",
     "text": [
      "5\n",
      "3 1 4 3 2\n",
      "32\n"
     ]
    }
   ],
   "source": [
    "N = int(input())\n",
    "ls = list(map(int, input().split()))\n",
    "ls.sort()\n",
    "\n",
    "length = len(ls)\n",
    "answer = 0\n",
    "for i in range(length):\n",
    "    answer += ls[i] * (length-i)\n",
    "print(answer)"
   ]
  },
  {
   "cell_type": "markdown",
   "metadata": {},
   "source": [
    "# 12. BOJ - 잃어버린 괄호"
   ]
  },
  {
   "cell_type": "code",
   "execution_count": 47,
   "metadata": {},
   "outputs": [
    {
     "name": "stdout",
     "output_type": "stream",
     "text": [
      "00009-00009\n",
      "0\n"
     ]
    }
   ],
   "source": [
    "minus_split = input().split(\"-\")\n",
    "total = 0\n",
    "\n",
    "for idx, val in enumerate(minus_split):\n",
    "    val = sum(list(map(int, val.split(\"+\"))))\n",
    "    if (idx == 0) :\n",
    "        total += val\n",
    "    else : \n",
    "        total -= val\n",
    "        \n",
    "print(total)"
   ]
  },
  {
   "cell_type": "markdown",
   "metadata": {},
   "source": [
    "# 13. BOJ - 주유소"
   ]
  },
  {
   "cell_type": "code",
   "execution_count": 51,
   "metadata": {},
   "outputs": [
    {
     "name": "stdout",
     "output_type": "stream",
     "text": [
      "4\n",
      "3 3 5\n",
      "1 1 1 1\n",
      "11\n"
     ]
    }
   ],
   "source": [
    "N = int(input())\n",
    "dist = list(map(int, input().split()))\n",
    "price = list(map(int, input().split()))\n",
    "price.pop()\n",
    "\n",
    "total = 0\n",
    "key = price[0]\n",
    "for i in range(len(dist)):\n",
    "    key = min(key, price[i])\n",
    "    total += key * dist[i]\n",
    "    \n",
    "print(total)"
   ]
  }
 ],
 "metadata": {
  "kernelspec": {
   "display_name": "Python 3",
   "language": "python",
   "name": "python3"
  },
  "language_info": {
   "codemirror_mode": {
    "name": "ipython",
    "version": 3
   },
   "file_extension": ".py",
   "mimetype": "text/x-python",
   "name": "python",
   "nbconvert_exporter": "python",
   "pygments_lexer": "ipython3",
   "version": "3.8.5"
  },
  "toc": {
   "base_numbering": 1,
   "nav_menu": {},
   "number_sections": false,
   "sideBar": true,
   "skip_h1_title": false,
   "title_cell": "Table of Contents",
   "title_sidebar": "Contents",
   "toc_cell": false,
   "toc_position": {},
   "toc_section_display": true,
   "toc_window_display": false
  }
 },
 "nbformat": 4,
 "nbformat_minor": 5
}
