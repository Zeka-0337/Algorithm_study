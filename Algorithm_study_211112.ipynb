{
 "cells": [
  {
   "cell_type": "markdown",
   "id": "6ff53d80",
   "metadata": {},
   "source": [
    "# 124 나라의 숫자\n"
   ]
  },
  {
   "cell_type": "markdown",
   "id": "d23f3e97",
   "metadata": {},
   "source": [
    "* 아 어렵습니다...\n",
    "* 우선 3진수로 나타내는것과 유사하다는 것을 이해해야합니다.\n",
    "* 그러나 3으로 나누어떨어지는 경우, 0으로 두고 자릿수가 올라가는 것이 아니라 4로 나타낸다는 점에서 착안하여서,\n",
    "* 치환하는 문자열 T의 0번 인덱스를 0이 아닌 4로 두고, 대신, 몫을 1 줄인채로 진행한다는 것을 깨달아야합니다.\n",
    "* 예를 들어, 9를 나타낼 경우, 원래는 9 = 9 * 1 + 3 * 0 + 0 으로 생각해 100을 반환해야하지만, 여기서는 9 = 3 * 2 + 3으로 생각하여서, 23이 반환됩니다. 이때 3은 124나라이기에 4로 바뀌어서 24로 반환됩니다.\n",
    "* 다른 예시로, 20을 나타낼 경우, 원래는 20 = 9 * 2 + 3 * 0 + 2으로 생각해서 202를 반환해야하지만, 20 = 9 * 1 + 3 * 3 + 2으로 생각하여서 132가 반환됩니다. 이때 3은 124나라이기에 4로 바뀌어서 142로 반환됩니다. \n",
    "* 즉 3으로 나눈 나머지가 없는 0인 경우, 124나라에서는 0이 없기에, 몫이 다 가져가는 것이 아니라 나머지를 강제로 3으로 만들고, 몫을 1 줄인채로 진행한다고 생각하면 됩니다."
   ]
  },
  {
   "cell_type": "code",
   "execution_count": 95,
   "id": "d508943e",
   "metadata": {
    "ExecuteTime": {
     "end_time": "2021-11-11T15:23:35.864736Z",
     "start_time": "2021-11-11T15:23:35.848454Z"
    }
   },
   "outputs": [
    {
     "name": "stdout",
     "output_type": "stream",
     "text": [
      "41\n",
      "142\n",
      "44444\n"
     ]
    }
   ],
   "source": [
    "def solution(n):\n",
    "    number = ''\n",
    "    T = '412'\n",
    "    while n > 0:\n",
    "        n, m = divmod(n, 3)\n",
    "        number = number + T[m]\n",
    "        if m == 0:\n",
    "            n = n-1\n",
    "    return ''.join(reversed(number))\n",
    "print(solution(10))\n",
    "print(solution(20))\n",
    "print(solution(363))"
   ]
  },
  {
   "cell_type": "markdown",
   "id": "34be97d7",
   "metadata": {},
   "source": [
    "# 직사각형 마지막 좌표 구하기"
   ]
  },
  {
   "cell_type": "code",
   "execution_count": 101,
   "id": "cd736655",
   "metadata": {
    "ExecuteTime": {
     "end_time": "2021-11-12T10:19:23.323516Z",
     "start_time": "2021-11-12T10:19:23.316825Z"
    }
   },
   "outputs": [],
   "source": [
    "v = [[1, 4], [3, 4], [3, 10]]"
   ]
  },
  {
   "cell_type": "code",
   "execution_count": 102,
   "id": "c50da4fc",
   "metadata": {
    "ExecuteTime": {
     "end_time": "2021-11-12T10:19:23.511737Z",
     "start_time": "2021-11-12T10:19:23.504779Z"
    }
   },
   "outputs": [],
   "source": [
    "x = []\n",
    "y = []\n",
    "for coor in v:\n",
    "    x.append(coor[0])\n",
    "    y.append(coor[1])"
   ]
  },
  {
   "cell_type": "code",
   "execution_count": 103,
   "id": "fa70a15b",
   "metadata": {
    "ExecuteTime": {
     "end_time": "2021-11-12T10:19:23.708238Z",
     "start_time": "2021-11-12T10:19:23.683875Z"
    }
   },
   "outputs": [
    {
     "name": "stdout",
     "output_type": "stream",
     "text": [
      "1 10\n"
     ]
    }
   ],
   "source": [
    "for i in x:\n",
    "    if x.count(i) == 1:\n",
    "        a = i\n",
    "for j in y:\n",
    "    if y.count(j) == 1:\n",
    "        b = j\n",
    "print(a,b)"
   ]
  },
  {
   "cell_type": "markdown",
   "id": "94cbaaa6",
   "metadata": {},
   "source": [
    "# 중복 유무"
   ]
  },
  {
   "cell_type": "code",
   "execution_count": 106,
   "id": "e0296738",
   "metadata": {
    "ExecuteTime": {
     "end_time": "2021-11-12T10:21:34.257801Z",
     "start_time": "2021-11-12T10:21:34.242945Z"
    }
   },
   "outputs": [
    {
     "name": "stdout",
     "output_type": "stream",
     "text": [
      "True\n",
      "False\n"
     ]
    }
   ],
   "source": [
    "def solution(arr):\n",
    "    arr.sort()\n",
    "    return arr == list(range(1,len(arr)+1))\n",
    "print(solution([4, 1, 3, 2]))\n",
    "print(solution([4, 1, 3]))"
   ]
  },
  {
   "cell_type": "markdown",
   "id": "026e7a3e",
   "metadata": {},
   "source": [
    "# 경쟁자와 언제 만나는가"
   ]
  },
  {
   "cell_type": "code",
   "execution_count": 127,
   "id": "d5272db1",
   "metadata": {
    "ExecuteTime": {
     "end_time": "2021-11-12T10:38:16.537982Z",
     "start_time": "2021-11-12T10:38:16.531296Z"
    }
   },
   "outputs": [],
   "source": [
    "n = 8\n",
    "a = 4\n",
    "b = 7"
   ]
  },
  {
   "cell_type": "code",
   "execution_count": 128,
   "id": "d13b2ffb",
   "metadata": {
    "ExecuteTime": {
     "end_time": "2021-11-12T10:38:16.702132Z",
     "start_time": "2021-11-12T10:38:16.685230Z"
    }
   },
   "outputs": [],
   "source": [
    "import numpy as np\n",
    "def solution(n,a,b):\n",
    "    cnt = 0\n",
    "    while True:\n",
    "        a = int(np.ceil(a/2))\n",
    "        b = int(np.ceil(b/2))\n",
    "        cnt += 1\n",
    "        if a == b:\n",
    "            return cnt"
   ]
  },
  {
   "cell_type": "code",
   "execution_count": 129,
   "id": "09c68275",
   "metadata": {
    "ExecuteTime": {
     "end_time": "2021-11-12T10:38:16.875212Z",
     "start_time": "2021-11-12T10:38:16.858739Z"
    }
   },
   "outputs": [
    {
     "data": {
      "text/plain": [
       "3"
      ]
     },
     "execution_count": 129,
     "metadata": {},
     "output_type": "execute_result"
    }
   ],
   "source": [
    "solution(n,a,b)"
   ]
  }
 ],
 "metadata": {
  "kernelspec": {
   "display_name": "Python 3",
   "language": "python",
   "name": "python3"
  },
  "language_info": {
   "codemirror_mode": {
    "name": "ipython",
    "version": 3
   },
   "file_extension": ".py",
   "mimetype": "text/x-python",
   "name": "python",
   "nbconvert_exporter": "python",
   "pygments_lexer": "ipython3",
   "version": "3.8.8"
  },
  "toc": {
   "base_numbering": 1,
   "nav_menu": {},
   "number_sections": false,
   "sideBar": true,
   "skip_h1_title": false,
   "title_cell": "Table of Contents",
   "title_sidebar": "Contents",
   "toc_cell": false,
   "toc_position": {
    "height": "calc(100% - 180px)",
    "left": "10px",
    "top": "150px",
    "width": "384px"
   },
   "toc_section_display": true,
   "toc_window_display": true
  }
 },
 "nbformat": 4,
 "nbformat_minor": 5
}
