{
 "cells": [
  {
   "cell_type": "markdown",
   "id": "03b98952",
   "metadata": {},
   "source": [
    "# K번째 수"
   ]
  },
  {
   "cell_type": "code",
   "execution_count": 1,
   "id": "3639a1e6",
   "metadata": {
    "ExecuteTime": {
     "end_time": "2021-10-15T04:10:54.783452Z",
     "start_time": "2021-10-15T04:10:54.773132Z"
    }
   },
   "outputs": [],
   "source": [
    "def solution(array, commands):\n",
    "    answer = []\n",
    "    \n",
    "    for command in commands :\n",
    "        i = command[0]\n",
    "        j = command[1]\n",
    "        k = command[2]\n",
    "        tmp = array[i-1:j]\n",
    "        tmp.sort()\n",
    "        answer.append(tmp[k-1])\n",
    "    return answer"
   ]
  },
  {
   "cell_type": "markdown",
   "id": "2c887ea3",
   "metadata": {},
   "source": [
    "# 폰켓몬"
   ]
  },
  {
   "cell_type": "code",
   "execution_count": 2,
   "id": "abd1d9b6",
   "metadata": {
    "ExecuteTime": {
     "end_time": "2021-10-15T04:11:05.849204Z",
     "start_time": "2021-10-15T04:11:05.835345Z"
    }
   },
   "outputs": [],
   "source": [
    "def solution(nums):\n",
    "    ls = []\n",
    "    for num in nums:\n",
    "        if num not in ls:\n",
    "            ls.append(num)\n",
    "    return len(nums)/2 if (len(ls) > len(nums)/2) else len(ls)"
   ]
  }
 ],
 "metadata": {
  "kernelspec": {
   "display_name": "Python 3",
   "language": "python",
   "name": "python3"
  },
  "language_info": {
   "codemirror_mode": {
    "name": "ipython",
    "version": 3
   },
   "file_extension": ".py",
   "mimetype": "text/x-python",
   "name": "python",
   "nbconvert_exporter": "python",
   "pygments_lexer": "ipython3",
   "version": "3.8.8"
  },
  "toc": {
   "base_numbering": 1,
   "nav_menu": {},
   "number_sections": false,
   "sideBar": true,
   "skip_h1_title": false,
   "title_cell": "Table of Contents",
   "title_sidebar": "Contents",
   "toc_cell": false,
   "toc_position": {
    "height": "calc(100% - 180px)",
    "left": "10px",
    "top": "150px",
    "width": "384px"
   },
   "toc_section_display": true,
   "toc_window_display": false
  }
 },
 "nbformat": 4,
 "nbformat_minor": 5
}
