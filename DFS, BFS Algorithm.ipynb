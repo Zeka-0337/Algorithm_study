{
 "cells": [
  {
   "cell_type": "markdown",
   "id": "b09d4f61",
   "metadata": {},
   "source": [
    "# [백준, 파이썬] 1, 2, 3 더하기, Brute Force\n",
    "## 문제 해결 아이디어\n",
    "- 피드백\n",
    "    - 점화식을 통한 수학 풀이\n",
    "    - 이해는 https://e-you.tistory.com/304 이곳을 참고"
   ]
  },
  {
   "cell_type": "code",
   "execution_count": null,
   "id": "9a79eecf",
   "metadata": {
    "scrolled": true
   },
   "outputs": [],
   "source": [
    "def solution(x):\n",
    "    if x == 1:\n",
    "        return 1\n",
    "    elif x == 2:\n",
    "        return 2\n",
    "    elif x == 3:\n",
    "        return 4\n",
    "    else:\n",
    "        return solution(x-1) + solution(x-2) + solution(x-3)\n",
    "n = int(input())\n",
    "answer = []\n",
    "for _ in range(n):\n",
    "    answer.append(solution(int(input())))\n",
    "for ans in answer:\n",
    "    print(ans)"
   ]
  },
  {
   "cell_type": "markdown",
   "id": "4ea83c2f",
   "metadata": {},
   "source": [
    "# [백준, 파이썬] 암호만들기, Brute Force\n",
    "## 문제 해결 아이디어\n",
    "- 내가 생각한 아이디어\n",
    "    - 모음 리스트와 자음 리스트로 분리한 후에, 조건에 부합한 모든 조합을 계산한다"
   ]
  },
  {
   "cell_type": "code",
   "execution_count": 11,
   "id": "e4aa5945",
   "metadata": {
    "ExecuteTime": {
     "end_time": "2022-03-08T07:02:46.471332Z",
     "start_time": "2022-03-08T07:02:41.055348Z"
    }
   },
   "outputs": [
    {
     "name": "stdout",
     "output_type": "stream",
     "text": [
      "4 6\n",
      "a t c i s w\n"
     ]
    }
   ],
   "source": [
    "from itertools import combinations\n",
    "L, C = map(int, input().split())\n",
    "consonant = list(input().split())\n",
    "vowel = []\n",
    "for alphabet in ['a', 'e', 'i', 'o', 'u']:\n",
    "    if alphabet in consonant :\n",
    "        consonant.remove(alphabet)\n",
    "        vowel.append(alphabet) \n",
    "\n",
    "answer = []\n",
    "for i in range(1, min(len(vowel)+1, L-1)):\n",
    "    for case1 in list(combinations(vowel, i)):\n",
    "        for case2 in list(combinations(consonant, L-i)):\n",
    "            tmp = list(case1 + case2)\n",
    "            tmp.sort()\n",
    "            answer.append(\"\".join(tmp))\n",
    "\n",
    "answer.sort()\n",
    "for ans in answer:\n",
    "    print(ans)"
   ]
  },
  {
   "cell_type": "markdown",
   "id": "040df4e6",
   "metadata": {},
   "source": [
    "# [백준, 파이썬] 퇴사, Brute Force\n",
    "## 문제 해결 아이디어\n",
    "- 내가 생각한 아이디어\n",
    "    - 상담을 진행하는가 / 하지 않는가의 선택지를 지닌 DFS로 풀면 될 것 같다."
   ]
  },
  {
   "cell_type": "code",
   "execution_count": 7,
   "id": "088e59a1",
   "metadata": {
    "ExecuteTime": {
     "end_time": "2022-03-10T08:47:49.154287Z",
     "start_time": "2022-03-10T08:47:37.932176Z"
    },
    "scrolled": true
   },
   "outputs": [
    {
     "name": "stdout",
     "output_type": "stream",
     "text": [
      "7\n",
      "3 10\n",
      "5 20\n",
      "1 10\n",
      "1 20\n",
      "2 15\n",
      "4 40\n",
      "2 200\n",
      "[[3, 10], [5, 20], [1, 10], [1, 20], [2, 15], [4, 40], [2, 200]]\n"
     ]
    }
   ],
   "source": [
    "N = int(input())\n",
    "G = []\n",
    "for _ in range(N):\n",
    "    G.append(list(map(int, input().split())))\n",
    "print(G)\n",
    "    "
   ]
  },
  {
   "cell_type": "code",
   "execution_count": 2,
   "id": "1ef72357",
   "metadata": {
    "ExecuteTime": {
     "end_time": "2022-03-10T08:57:53.266522Z",
     "start_time": "2022-03-10T08:57:33.429698Z"
    }
   },
   "outputs": [
    {
     "name": "stdout",
     "output_type": "stream",
     "text": [
      "7\n",
      "3 10\n",
      "5 20\n",
      "1 10\n",
      "1 20\n",
      "2 15\n",
      "4 40\n",
      "2 200\n",
      "45\n"
     ]
    }
   ],
   "source": [
    "N = int(input())\n",
    "G = []\n",
    "for _ in range(N):\n",
    "    G.append(list(map(int, input().split())))\n",
    "    \n",
    "ls = [0] * (N+1)\n",
    "for i in range(N-1, -1, -1):\n",
    "    t = G[i][0]\n",
    "    p = G[i][1]\n",
    "    if i == N-1 :\n",
    "        if i + t <= N:\n",
    "            ls[i] += p\n",
    "        continue\n",
    "    if i + t <= N:\n",
    "        ls[i] = max(ls[i+1], p + ls[i + t])\n",
    "    else :\n",
    "        ls[i] = ls[i+1]\n",
    "\n",
    "print(max(ls))"
   ]
  },
  {
   "cell_type": "markdown",
   "id": "3518e007",
   "metadata": {},
   "source": [
    "# [프로그래머스, 파이썬] 타겟 넘버, DFS/BFS\n",
    "## 문제 해결 아이디어\n",
    "- 내가 생각한 아이디어\n",
    "    - 백트래킹 문제라고 생각된다.\n",
    "    - numbers를 오름차순으로 정렬한다.\n",
    "    - total = 0\n",
    "    - 함수를 정의한다.\n",
    "        - 현재 합계와 리스트, target 입력받는다.\n",
    "        - 리스트가 존재하고, 현재 합계 + sum(리스트)가 target 보다 크면 : +와 - 둘 다 해볼 수 있음,  return (마지막요소를 + 시도) + (마지막요소를 - 시도)\n",
    "        - 같으면 : +만 가능하기에, return 1\n",
    "        - 작으면 : 불가능하기에, return 0\n",
    "    \n",
    "- 피드백\n",
    "    - 입력 받는 값 중에 음수가 없기 때문에 가능한 방법이며, 음수가 있다면 단순합계가 target에 미치지 못하더라도 음수에 -를 붙이면 더 큰 수를 만들 수 있기 때문에 target에 도달할 수 있을지도 모른다."
   ]
  },
  {
   "cell_type": "code",
   "execution_count": 5,
   "id": "97c120ab",
   "metadata": {
    "ExecuteTime": {
     "end_time": "2022-03-12T05:19:59.985217Z",
     "start_time": "2022-03-12T05:19:59.965636Z"
    }
   },
   "outputs": [],
   "source": [
    "def solution(numbers, target):\n",
    "    numbers.sort()\n",
    "    total = 0\n",
    "    def check(total, numbers, target):\n",
    "        if numbers and total + sum(numbers) > target :\n",
    "            return check(total + numbers[-1], numbers[:-1], target) + check(total - numbers[-1], numbers[:-1], target)\n",
    "        elif total + sum(numbers) == target :\n",
    "            return 1\n",
    "        else :\n",
    "            return 0\n",
    "    \n",
    "            \n",
    "    return check(total, numbers, target)"
   ]
  },
  {
   "cell_type": "code",
   "execution_count": 7,
   "id": "37ca4a7f",
   "metadata": {
    "ExecuteTime": {
     "end_time": "2022-03-12T05:20:09.675602Z",
     "start_time": "2022-03-12T05:20:09.655343Z"
    }
   },
   "outputs": [
    {
     "data": {
      "text/plain": [
       "2"
      ]
     },
     "execution_count": 7,
     "metadata": {},
     "output_type": "execute_result"
    }
   ],
   "source": [
    "solution([4,1,2,1], 4)"
   ]
  },
  {
   "cell_type": "markdown",
   "id": "4a3e8b9c",
   "metadata": {},
   "source": [
    "# [프로그래머스, 파이썬] 네트워크, DFS/BFS\n",
    "## 문제 해결 아이디어\n",
    "- 내가 생각한 아이디어\n",
    "    - dfs로 풀고, dfs-visit이 재귀를 빠져나와서 몇번 실행되었는지 cnt하면 될 것 같다.\n",
    "    - 방문여부 리스트 = 방문여부를 [False] * n 으로 표시할 준비\n",
    "    - cnt = 0\n",
    "    - for i in range(n):\n",
    "        - 만약 i번째 컴퓨터를 방문하지 않았다면, cnt +=1, dfs_visit(i번째 컴퓨터, 컴퓨터 리스트, 방문여부 리스트)\n",
    "    - return cnt\n",
    "    \n",
    "    - def dfs_visit(i번째, 컴퓨터 리스트, 방문여부 리스트)\n",
    "        - 방문했으니, 방문여부를 False에서 True로 변경\n",
    "        - for 컴퓨터 리스트 중에서 자신의 리스트 중에서\n",
    "            - 만약, 자신의 컴퓨터가 아닌데, 연결되어있고, 방문한 적이 없다면 : 방문한다."
   ]
  },
  {
   "cell_type": "code",
   "execution_count": 4,
   "id": "1d82ba9e",
   "metadata": {
    "ExecuteTime": {
     "end_time": "2022-03-12T05:52:44.962413Z",
     "start_time": "2022-03-12T05:52:44.946646Z"
    }
   },
   "outputs": [],
   "source": [
    "def solution(n, computers):\n",
    "    visited = [False] * n\n",
    "    cnt = 0\n",
    "    for i in range(n):\n",
    "        if not visited[i]:\n",
    "            cnt += 1\n",
    "            dfs_visit(i, computers, visited)\n",
    "    return cnt\n",
    "\n",
    "def dfs_visit(i, computers, visited):\n",
    "    visited[i] = True\n",
    "    for idx, computer in enumerate(computers[i]):\n",
    "        if idx != i and computer == 1 and visited[idx] == False :\n",
    "            dfs_visit(idx, computers, visited)"
   ]
  },
  {
   "cell_type": "code",
   "execution_count": 6,
   "id": "d17ebcee",
   "metadata": {
    "ExecuteTime": {
     "end_time": "2022-03-12T05:52:52.831511Z",
     "start_time": "2022-03-12T05:52:52.821535Z"
    }
   },
   "outputs": [
    {
     "data": {
      "text/plain": [
       "1"
      ]
     },
     "execution_count": 6,
     "metadata": {},
     "output_type": "execute_result"
    }
   ],
   "source": [
    "solution(3, [[1, 1, 0], [1, 1, 1], [0, 1, 1]])"
   ]
  },
  {
   "cell_type": "markdown",
   "id": "7b1189a8",
   "metadata": {},
   "source": [
    "# [프로그래머스, 파이썬] 네트워크, DFS/BFS\n",
    "## 문제 해결 아이디어\n",
    "- 내가 생각한 아이디어\n",
    "    - 만약 words에 target이 없다면, 애초에 불가능 하기에 return 0\n",
    "    - length = len(begin)\n",
    "    - 방문여부 = [False] * len(words)\n",
    "    - ls = deque([])\n",
    "    - ls.append((begin, 0))\n",
    "    - while ls:\n",
    "        - word, cnt = ls.popleft()\n",
    "        - if word가 target이라면, return cnt\n",
    "        - for i in range(length):\n",
    "            - for idx, cand in enumerate(words):\n",
    "                - if word와 i번째 요소만 다르고, 나머지는 다 같은데, 방문한 적 없다면,\n",
    "                    - 방문여부[idx] = True\n",
    "                    - ls.append((cand, cnt +1))\n",
    "    - return 0"
   ]
  },
  {
   "cell_type": "code",
   "execution_count": 15,
   "id": "82389397",
   "metadata": {
    "ExecuteTime": {
     "end_time": "2022-03-12T06:27:40.308156Z",
     "start_time": "2022-03-12T06:27:40.291202Z"
    }
   },
   "outputs": [],
   "source": [
    "from collections import deque\n",
    "def solution(begin, target, words):\n",
    "    if target not in words:\n",
    "        return 0\n",
    "    length = len(begin)\n",
    "    visited = [False] * len(words)\n",
    "    ls = deque([])\n",
    "    ls.append((begin, 0))\n",
    "    while ls:\n",
    "        word, cnt = ls.popleft()\n",
    "        print(word)\n",
    "        if word == target:\n",
    "            return cnt\n",
    "        for idx, candi in enumerate(words):\n",
    "            for i in range(length):\n",
    "                if check(word, candi, length) and visited[idx] == False:\n",
    "                    visited[idx] = True\n",
    "                    ls.append((candi, cnt + 1))\n",
    "    return 0\n",
    "\n",
    "def check(word, candi, length):\n",
    "    for i in range(length):\n",
    "        if word[i] != candi[i] and word[:i] == candi[:i]:\n",
    "            if i+1 < length :\n",
    "                if word[i+1:] == candi[i+1:]:\n",
    "                    return True\n",
    "                else :\n",
    "                    return False\n",
    "            return True\n",
    "    return False"
   ]
  },
  {
   "cell_type": "code",
   "execution_count": 16,
   "id": "447c1db8",
   "metadata": {
    "ExecuteTime": {
     "end_time": "2022-03-12T06:27:41.132382Z",
     "start_time": "2022-03-12T06:27:41.124211Z"
    }
   },
   "outputs": [
    {
     "name": "stdout",
     "output_type": "stream",
     "text": [
      "hit\n",
      "hot\n",
      "dot\n",
      "lot\n",
      "dog\n",
      "log\n",
      "cog\n"
     ]
    },
    {
     "data": {
      "text/plain": [
       "4"
      ]
     },
     "execution_count": 16,
     "metadata": {},
     "output_type": "execute_result"
    }
   ],
   "source": [
    "solution(\"hit\", \"cog\", [\"hot\", \"dot\", \"dog\", \"lot\", \"log\", \"cog\"])"
   ]
  },
  {
   "cell_type": "markdown",
   "id": "e7ba0d9b",
   "metadata": {},
   "source": [
    "# [프로그래머스, 파이썬] 여행경로, DFS/BFS\n",
    "## 문제 해결 아이디어\n",
    "- 내가 생각한 아이디어\n",
    "    - sparse한 graph일 것 같아, adjcent list로 구현하는 게 나을 것 같아 dictionary로 구현하기로 생각했다."
   ]
  },
  {
   "cell_type": "code",
   "execution_count": 20,
   "id": "f4eb41c9",
   "metadata": {
    "ExecuteTime": {
     "end_time": "2022-03-14T05:56:47.682822Z",
     "start_time": "2022-03-14T05:56:47.676836Z"
    }
   },
   "outputs": [],
   "source": [
    "def solution(tickets):\n",
    "    graph = {}\n",
    "    for ticket in tickets:\n",
    "        if ticket[0] in graph:\n",
    "            graph[ticket[0]].append(ticket[1])\n",
    "        else:\n",
    "            graph[ticket[0]] = [ticket[1]]\n",
    "    for start, ends in graph.items():\n",
    "        ends.sort(reverse=True)\n",
    "        graph[start] = ends\n",
    "        \n",
    "    route = []\n",
    "    stack = ['ICN']\n",
    "    \n",
    "    while stack:\n",
    "        recent = stack[-1]\n",
    "\n",
    "        if recent not in graph or not graph[recent]:\n",
    "            route.append(stack.pop())\n",
    "        else:\n",
    "            stack.append(graph[recent].pop())\n",
    "            \n",
    "    route.reverse()\n",
    "\n",
    "    return route"
   ]
  },
  {
   "cell_type": "code",
   "execution_count": 21,
   "id": "0116621a",
   "metadata": {
    "ExecuteTime": {
     "end_time": "2022-03-14T05:56:47.993699Z",
     "start_time": "2022-03-14T05:56:47.977741Z"
    }
   },
   "outputs": [
    {
     "data": {
      "text/plain": [
       "['ICN', 'JFK', 'HND', 'IAD']"
      ]
     },
     "execution_count": 21,
     "metadata": {},
     "output_type": "execute_result"
    }
   ],
   "source": [
    "solution([[\"ICN\", \"JFK\"], [\"HND\", \"IAD\"], [\"JFK\", \"HND\"]])\n"
   ]
  },
  {
   "cell_type": "code",
   "execution_count": 22,
   "id": "f3fa6ee8",
   "metadata": {
    "ExecuteTime": {
     "end_time": "2022-03-14T05:56:48.764765Z",
     "start_time": "2022-03-14T05:56:48.757783Z"
    }
   },
   "outputs": [
    {
     "data": {
      "text/plain": [
       "['ICN', 'ATL', 'ICN', 'SFO', 'ATL', 'SFO']"
      ]
     },
     "execution_count": 22,
     "metadata": {},
     "output_type": "execute_result"
    }
   ],
   "source": [
    "solution([[\"ICN\", \"SFO\"], [\"ICN\", \"ATL\"], [\"SFO\", \"ATL\"], [\"ATL\", \"ICN\"], [\"ATL\",\"SFO\"]])"
   ]
  },
  {
   "cell_type": "code",
   "execution_count": null,
   "id": "02edb30e",
   "metadata": {},
   "outputs": [],
   "source": []
  }
 ],
 "metadata": {
  "kernelspec": {
   "display_name": "Python 3",
   "language": "python",
   "name": "python3"
  },
  "language_info": {
   "codemirror_mode": {
    "name": "ipython",
    "version": 3
   },
   "file_extension": ".py",
   "mimetype": "text/x-python",
   "name": "python",
   "nbconvert_exporter": "python",
   "pygments_lexer": "ipython3",
   "version": "3.8.8"
  },
  "toc": {
   "base_numbering": 1,
   "nav_menu": {},
   "number_sections": false,
   "sideBar": true,
   "skip_h1_title": false,
   "title_cell": "Table of Contents",
   "title_sidebar": "Contents",
   "toc_cell": false,
   "toc_position": {},
   "toc_section_display": true,
   "toc_window_display": false
  }
 },
 "nbformat": 4,
 "nbformat_minor": 5
}
